{
 "cells": [
  {
   "cell_type": "markdown",
   "metadata": {
    "id": "f2yFa9qJDOSe"
   },
   "source": [
    "# Pandas\n",
    "\n",
    "The pandas module is one of the most powerful tools for data analysis.  Pandas was designed to work with tabular and heterogeneous data.  The original author of pandas is Wes McKinney, so it makes sense that most of his book \"Python for Data Analysis\" covers the functionality of pandas. In fact, chapters 5 - 11 are basically about what pandas can do.  \n",
    "\n",
    "Here are some of the things that I hope you can do by the end of the section:\n",
    "* Create Series and DataFrames (ch 5)\n",
    "* Index, slice, and filter (ch 5)\n",
    "* Examine your data (ch 5)\n",
    "* Compute summarization and descriptive statistics (ch 5)\n",
    "* Drop rows and columns (ch 5)\n",
    "* Create columns (ch 5)\n",
    "* Count the number of missing values (ch 7)\n",
    "* Drop or fill missing values (ch 7)\n",
    "* Drop duplicate rows (ch 7)\n",
    "* Combine categories of categorical data (ch 7)\n",
    "* Discretize numerical data (ch 7)\n",
    "* Have some practice with hierarchical indexing (ch 8)\n",
    "* Reset the index (ch 8)\n",
    "* Merge and concatenate DataFrames (ch 8)\n",
    "* Simple plots with pandas (ch 9)\n",
    "* Use .groupby() for category aggregation (ch 10)\n",
    "* Fill missing values by group summary statistics (ch 10)"
   ]
  },
  {
   "cell_type": "markdown",
   "metadata": {
    "id": "Ju1RU9WWDOSh"
   },
   "source": [
    "## Importing Pandas\n",
    "\n",
    "It is standard to use the alias ``pd`` when importing pandas.\n",
    "~~~\n",
    "import pandas as pd\n",
    "~~~\n",
    "I usually import numpy at the same time since pandas and numpy are often used in tandem."
   ]
  },
  {
   "cell_type": "code",
   "execution_count": 1,
   "metadata": {
    "executionInfo": {
     "elapsed": 391,
     "status": "ok",
     "timestamp": 1736376055531,
     "user": {
      "displayName": "Jake Rhodes",
      "userId": "08644184539460642117"
     },
     "user_tz": 420
    },
    "id": "dyYhJfptDOSh"
   },
   "outputs": [
    {
     "name": "stderr",
     "output_type": "stream",
     "text": [
      "c:\\Users\\rhodes8\\AppData\\Local\\miniconda3\\Lib\\site-packages\\numpy\\_distributor_init.py:30: UserWarning: loaded more than 1 DLL from .libs:\n",
      "c:\\Users\\rhodes8\\AppData\\Local\\miniconda3\\Lib\\site-packages\\numpy\\.libs\\libopenblas.FB5AE2TYXYH2IJRDKGDGQ3XBKLKTF43H.gfortran-win_amd64.dll\n",
      "c:\\Users\\rhodes8\\AppData\\Local\\miniconda3\\Lib\\site-packages\\numpy\\.libs\\libopenblas64__v0.3.23-246-g3d31191b-gcc_10_3_0.dll\n",
      "  warnings.warn(\"loaded more than 1 DLL from .libs:\"\n"
     ]
    }
   ],
   "source": [
    "# Import Pandas library\n",
    "import pandas as pd\n",
    "import numpy as np"
   ]
  },
  {
   "cell_type": "code",
   "execution_count": 2,
   "metadata": {
    "colab": {
     "base_uri": "https://localhost:8080/"
    },
    "executionInfo": {
     "elapsed": 24,
     "status": "ok",
     "timestamp": 1736376056541,
     "user": {
      "displayName": "Jake Rhodes",
      "userId": "08644184539460642117"
     },
     "user_tz": 420
    },
    "id": "mokmfDpDDOSi",
    "outputId": "ecbc40a9-fddd-4e77-931d-e22c754dae47"
   },
   "outputs": [
    {
     "name": "stdout",
     "output_type": "stream",
     "text": [
      "a    1\n",
      "b    2\n",
      "c    3\n",
      "d    4\n",
      "e    5\n",
      "dtype: int64\n"
     ]
    }
   ],
   "source": [
    "# Try:  Create a Series from a list\n",
    "x = [1,2,3,4,5]\n",
    "lab = ['a','b','c','d','e']\n",
    "\n",
    "s = pd.Series(x, index=lab)\n",
    "print(s)"
   ]
  },
  {
   "cell_type": "code",
   "execution_count": 3,
   "metadata": {
    "colab": {
     "base_uri": "https://localhost:8080/"
    },
    "executionInfo": {
     "elapsed": 22,
     "status": "ok",
     "timestamp": 1736376056541,
     "user": {
      "displayName": "Jake Rhodes",
      "userId": "08644184539460642117"
     },
     "user_tz": 420
    },
    "id": "MH-mNGXbDOSi",
    "outputId": "cefcd1cb-5b6f-42b4-d673-6ee990c42afb"
   },
   "outputs": [
    {
     "name": "stdout",
     "output_type": "stream",
     "text": [
      "a    1\n",
      "b    2\n",
      "c    3\n",
      "dtype: int64\n"
     ]
    }
   ],
   "source": [
    "# Creating a Series with a dictionary\n",
    "\n",
    "d = pd.Series({'a': 1, 'b': 2, 'c': 3})\n",
    "print(d)"
   ]
  },
  {
   "cell_type": "markdown",
   "metadata": {
    "id": "pA-jXpPuDOSj"
   },
   "source": [
    "## DataFrames\n",
    "DataFrames are the main data structure of pandas and were directly inspired by the R programming language.  DataFrames are a bunch of Series objects put together to share the same (row) index.  A DataFrame has both a row and a column index.  \n",
    "\n",
    "## Creating DataFrames\n",
    "DataFrames can also be created from lists, dictionaries, or numpy arrays.\n",
    "Syntax: pd.DataFrame(data=None, index=None, columns=None, dtype=None, copy=None)\n"
   ]
  },
  {
   "cell_type": "code",
   "execution_count": 4,
   "metadata": {
    "colab": {
     "base_uri": "https://localhost:8080/"
    },
    "executionInfo": {
     "elapsed": 20,
     "status": "ok",
     "timestamp": 1736376056541,
     "user": {
      "displayName": "Jake Rhodes",
      "userId": "08644184539460642117"
     },
     "user_tz": 420
    },
    "id": "W1286pWSDOSj",
    "outputId": "c51d07c2-494b-4b50-ee1f-1bbaa85bacec"
   },
   "outputs": [
    {
     "name": "stdout",
     "output_type": "stream",
     "text": [
      "   p  d  q\n",
      "x  1  2  3\n",
      "y  a  b  c\n",
      "z  4  5  6\n"
     ]
    }
   ],
   "source": [
    "x = [[1, 2, 3],\n",
    "     ['a', 'b', 'c'],\n",
    "     [4, 5, 6]]\n",
    "\n",
    "x_df = pd.DataFrame(x, columns = ['p', 'd', 'q'], index = ['x', 'y', 'z'])\n",
    "print(x_df)"
   ]
  },
  {
   "cell_type": "code",
   "execution_count": 5,
   "metadata": {
    "colab": {
     "base_uri": "https://localhost:8080/",
     "height": 143
    },
    "executionInfo": {
     "elapsed": 18,
     "status": "ok",
     "timestamp": 1736376056541,
     "user": {
      "displayName": "Jake Rhodes",
      "userId": "08644184539460642117"
     },
     "user_tz": 420
    },
    "id": "MQca_SbjDOSj",
    "outputId": "968faece-61b0-448f-bf0e-6011741c18c9"
   },
   "outputs": [
    {
     "data": {
      "text/html": [
       "<div>\n",
       "<style scoped>\n",
       "    .dataframe tbody tr th:only-of-type {\n",
       "        vertical-align: middle;\n",
       "    }\n",
       "\n",
       "    .dataframe tbody tr th {\n",
       "        vertical-align: top;\n",
       "    }\n",
       "\n",
       "    .dataframe thead th {\n",
       "        text-align: right;\n",
       "    }\n",
       "</style>\n",
       "<table border=\"1\" class=\"dataframe\">\n",
       "  <thead>\n",
       "    <tr style=\"text-align: right;\">\n",
       "      <th></th>\n",
       "      <th>Name</th>\n",
       "      <th>Age</th>\n",
       "      <th>Salary</th>\n",
       "    </tr>\n",
       "  </thead>\n",
       "  <tbody>\n",
       "    <tr>\n",
       "      <th>0</th>\n",
       "      <td>Alice</td>\n",
       "      <td>25</td>\n",
       "      <td>50000</td>\n",
       "    </tr>\n",
       "    <tr>\n",
       "      <th>1</th>\n",
       "      <td>Bob</td>\n",
       "      <td>30</td>\n",
       "      <td>60000</td>\n",
       "    </tr>\n",
       "    <tr>\n",
       "      <th>2</th>\n",
       "      <td>Charlie</td>\n",
       "      <td>35</td>\n",
       "      <td>75000</td>\n",
       "    </tr>\n",
       "  </tbody>\n",
       "</table>\n",
       "</div>"
      ],
      "text/plain": [
       "      Name  Age  Salary\n",
       "0    Alice   25   50000\n",
       "1      Bob   30   60000\n",
       "2  Charlie   35   75000"
      ]
     },
     "execution_count": 5,
     "metadata": {},
     "output_type": "execute_result"
    }
   ],
   "source": [
    "# Create a simple DataFrame\n",
    "data = {'Name': ['Alice', 'Bob', 'Charlie'],\n",
    "        'Age': [25, 30, 35],\n",
    "        'Salary': [50000, 60000, 75000]}\n",
    "\n",
    "df = pd.DataFrame(data)\n",
    "\n",
    "# Display the DataFrame\n",
    "df"
   ]
  },
  {
   "cell_type": "code",
   "execution_count": 6,
   "metadata": {
    "executionInfo": {
     "elapsed": 16,
     "status": "ok",
     "timestamp": 1736376056541,
     "user": {
      "displayName": "Jake Rhodes",
      "userId": "08644184539460642117"
     },
     "user_tz": 420
    },
    "id": "9IhxW6qgDOSj"
   },
   "outputs": [],
   "source": [
    "# Accessing specific columns\n",
    "names = df['Name']\n",
    "ages = df['Age']\n",
    "\n",
    "# Accessing a specific row\n",
    "row = df.loc[1]\n",
    "\n",
    "# Accessing a specific element\n",
    "salary = df.at[2, 'Salary']\n"
   ]
  },
  {
   "cell_type": "code",
   "execution_count": 7,
   "metadata": {
    "colab": {
     "base_uri": "https://localhost:8080/"
    },
    "executionInfo": {
     "elapsed": 16,
     "status": "ok",
     "timestamp": 1736376056541,
     "user": {
      "displayName": "Jake Rhodes",
      "userId": "08644184539460642117"
     },
     "user_tz": 420
    },
    "id": "Ud41ppC1DOSk",
    "outputId": "b4ed1a24-c658-46af-eabe-71c9d22e1942"
   },
   "outputs": [
    {
     "name": "stdout",
     "output_type": "stream",
     "text": [
      "Names: \n",
      " 0      Alice\n",
      "1        Bob\n",
      "2    Charlie\n",
      "Name: Name, dtype: object\n"
     ]
    }
   ],
   "source": [
    "# Display the results\n",
    "print(\"Names: \\n\", names)\n"
   ]
  },
  {
   "cell_type": "code",
   "execution_count": 8,
   "metadata": {
    "colab": {
     "base_uri": "https://localhost:8080/"
    },
    "executionInfo": {
     "elapsed": 14,
     "status": "ok",
     "timestamp": 1736376056541,
     "user": {
      "displayName": "Jake Rhodes",
      "userId": "08644184539460642117"
     },
     "user_tz": 420
    },
    "id": "qWD9PVCFDOSk",
    "outputId": "82114aa6-0df5-4df8-f122-802fd1bf6e21"
   },
   "outputs": [
    {
     "name": "stdout",
     "output_type": "stream",
     "text": [
      "Ages: \n",
      " 0    25\n",
      "1    30\n",
      "2    35\n",
      "Name: Age, dtype: int64\n"
     ]
    }
   ],
   "source": [
    "print(\"Ages: \\n\", ages)"
   ]
  },
  {
   "cell_type": "code",
   "execution_count": 9,
   "metadata": {
    "colab": {
     "base_uri": "https://localhost:8080/"
    },
    "executionInfo": {
     "elapsed": 13,
     "status": "ok",
     "timestamp": 1736376056541,
     "user": {
      "displayName": "Jake Rhodes",
      "userId": "08644184539460642117"
     },
     "user_tz": 420
    },
    "id": "XjtA2W6HDOSk",
    "outputId": "d96a9126-6672-4870-f01e-1a4c064edd36"
   },
   "outputs": [
    {
     "name": "stdout",
     "output_type": "stream",
     "text": [
      "Row 1: \n",
      " Name        Bob\n",
      "Age          30\n",
      "Salary    60000\n",
      "Name: 1, dtype: object\n"
     ]
    }
   ],
   "source": [
    "print(\"Row 1: \\n\", row)"
   ]
  },
  {
   "cell_type": "code",
   "execution_count": 10,
   "metadata": {
    "colab": {
     "base_uri": "https://localhost:8080/"
    },
    "executionInfo": {
     "elapsed": 13,
     "status": "ok",
     "timestamp": 1736376056542,
     "user": {
      "displayName": "Jake Rhodes",
      "userId": "08644184539460642117"
     },
     "user_tz": 420
    },
    "id": "3u6u9wLIDOSk",
    "outputId": "f3ee2f0a-e592-4df4-e79b-f5b1d46c3d7b"
   },
   "outputs": [
    {
     "name": "stdout",
     "output_type": "stream",
     "text": [
      "Charlie's Salary: 75000\n"
     ]
    }
   ],
   "source": [
    "print(\"Charlie's Salary:\", salary)"
   ]
  },
  {
   "cell_type": "code",
   "execution_count": 11,
   "metadata": {
    "colab": {
     "base_uri": "https://localhost:8080/",
     "height": 143
    },
    "executionInfo": {
     "elapsed": 11,
     "status": "ok",
     "timestamp": 1736376056542,
     "user": {
      "displayName": "Jake Rhodes",
      "userId": "08644184539460642117"
     },
     "user_tz": 420
    },
    "id": "RVDs2FswDOSk",
    "outputId": "12391122-aacd-478b-f5e3-cf6f186df35f"
   },
   "outputs": [
    {
     "data": {
      "text/html": [
       "<div>\n",
       "<style scoped>\n",
       "    .dataframe tbody tr th:only-of-type {\n",
       "        vertical-align: middle;\n",
       "    }\n",
       "\n",
       "    .dataframe tbody tr th {\n",
       "        vertical-align: top;\n",
       "    }\n",
       "\n",
       "    .dataframe thead th {\n",
       "        text-align: right;\n",
       "    }\n",
       "</style>\n",
       "<table border=\"1\" class=\"dataframe\">\n",
       "  <thead>\n",
       "    <tr style=\"text-align: right;\">\n",
       "      <th></th>\n",
       "      <th>Name</th>\n",
       "      <th>Age</th>\n",
       "      <th>Salary</th>\n",
       "      <th>Birth Year</th>\n",
       "    </tr>\n",
       "  </thead>\n",
       "  <tbody>\n",
       "    <tr>\n",
       "      <th>0</th>\n",
       "      <td>Alice</td>\n",
       "      <td>25</td>\n",
       "      <td>50000</td>\n",
       "      <td>1998</td>\n",
       "    </tr>\n",
       "    <tr>\n",
       "      <th>1</th>\n",
       "      <td>Bob</td>\n",
       "      <td>30</td>\n",
       "      <td>60000</td>\n",
       "      <td>1993</td>\n",
       "    </tr>\n",
       "    <tr>\n",
       "      <th>2</th>\n",
       "      <td>Charlie</td>\n",
       "      <td>35</td>\n",
       "      <td>75000</td>\n",
       "      <td>1988</td>\n",
       "    </tr>\n",
       "  </tbody>\n",
       "</table>\n",
       "</div>"
      ],
      "text/plain": [
       "      Name  Age  Salary  Birth Year\n",
       "0    Alice   25   50000        1998\n",
       "1      Bob   30   60000        1993\n",
       "2  Charlie   35   75000        1988"
      ]
     },
     "execution_count": 11,
     "metadata": {},
     "output_type": "execute_result"
    }
   ],
   "source": [
    "# Add a new column calculated from existing columns\n",
    "df['Birth Year'] = 2023 - df['Age']\n",
    "\n",
    "# Display the DataFrame with the new column\n",
    "df.head()\n"
   ]
  },
  {
   "cell_type": "code",
   "execution_count": 12,
   "metadata": {
    "colab": {
     "base_uri": "https://localhost:8080/",
     "height": 143
    },
    "executionInfo": {
     "elapsed": 9,
     "status": "ok",
     "timestamp": 1736376056542,
     "user": {
      "displayName": "Jake Rhodes",
      "userId": "08644184539460642117"
     },
     "user_tz": 420
    },
    "id": "4arP7HjJDOSk",
    "outputId": "5b6a2339-63e7-4e21-ff14-280ec634155c"
   },
   "outputs": [
    {
     "data": {
      "text/html": [
       "<div>\n",
       "<style scoped>\n",
       "    .dataframe tbody tr th:only-of-type {\n",
       "        vertical-align: middle;\n",
       "    }\n",
       "\n",
       "    .dataframe tbody tr th {\n",
       "        vertical-align: top;\n",
       "    }\n",
       "\n",
       "    .dataframe thead th {\n",
       "        text-align: right;\n",
       "    }\n",
       "</style>\n",
       "<table border=\"1\" class=\"dataframe\">\n",
       "  <thead>\n",
       "    <tr style=\"text-align: right;\">\n",
       "      <th></th>\n",
       "      <th>Name</th>\n",
       "      <th>Age</th>\n",
       "      <th>Salary</th>\n",
       "      <th>Birth Year</th>\n",
       "    </tr>\n",
       "  </thead>\n",
       "  <tbody>\n",
       "    <tr>\n",
       "      <th>2</th>\n",
       "      <td>Charlie</td>\n",
       "      <td>35</td>\n",
       "      <td>75000</td>\n",
       "      <td>1988</td>\n",
       "    </tr>\n",
       "    <tr>\n",
       "      <th>1</th>\n",
       "      <td>Bob</td>\n",
       "      <td>30</td>\n",
       "      <td>60000</td>\n",
       "      <td>1993</td>\n",
       "    </tr>\n",
       "    <tr>\n",
       "      <th>0</th>\n",
       "      <td>Alice</td>\n",
       "      <td>25</td>\n",
       "      <td>50000</td>\n",
       "      <td>1998</td>\n",
       "    </tr>\n",
       "  </tbody>\n",
       "</table>\n",
       "</div>"
      ],
      "text/plain": [
       "      Name  Age  Salary  Birth Year\n",
       "2  Charlie   35   75000        1988\n",
       "1      Bob   30   60000        1993\n",
       "0    Alice   25   50000        1998"
      ]
     },
     "execution_count": 12,
     "metadata": {},
     "output_type": "execute_result"
    }
   ],
   "source": [
    "# Sort the DataFrame by Age in descending order\n",
    "df_sorted = df.sort_values(by='Birth Year', ascending=True)\n",
    "\n",
    "# Display the sorted DataFrame\n",
    "df_sorted.head()\n"
   ]
  },
  {
   "cell_type": "code",
   "execution_count": 13,
   "metadata": {
    "executionInfo": {
     "elapsed": 8,
     "status": "ok",
     "timestamp": 1736376056542,
     "user": {
      "displayName": "Jake Rhodes",
      "userId": "08644184539460642117"
     },
     "user_tz": 420
    },
    "id": "1kigOHSSDOSk"
   },
   "outputs": [],
   "source": []
  },
  {
   "cell_type": "markdown",
   "metadata": {
    "id": "kcVzcAlpDOSk"
   },
   "source": [
    "## Read in some practice data\n",
    "\n",
    "pd.read_csv can be used to load in external .csv files  \n",
    "We can access a summary of the data using df.info()  \n",
    "We can use df.head() to view the first view entries  "
   ]
  },
  {
   "cell_type": "code",
   "execution_count": 13,
   "metadata": {
    "executionInfo": {
     "elapsed": 1150,
     "status": "ok",
     "timestamp": 1736376057684,
     "user": {
      "displayName": "Jake Rhodes",
      "userId": "08644184539460642117"
     },
     "user_tz": 420
    },
    "id": "kuLGuAZSDOSk"
   },
   "outputs": [],
   "source": [
    "## Iris data\n",
    "url = \"https://archive.ics.uci.edu/ml/machine-learning-databases/iris/iris.data\"\n",
    "iris = pd.read_csv(url, names=['sepal_length','sepal_width', 'petal_length', 'petal_width', 'class'])"
   ]
  },
  {
   "cell_type": "markdown",
   "metadata": {
    "id": "K4aDYI6hDOSk"
   },
   "source": [
    "## Looking at your DataFrame\n",
    "\n",
    "``df.head()``  \n",
    "``df.tail()``  \n",
    "``df.shape``  \n",
    "``df.info()``  \n",
    "``df.describe()``   \n",
    "``df.columns``"
   ]
  },
  {
   "cell_type": "code",
   "execution_count": 14,
   "metadata": {
    "colab": {
     "base_uri": "https://localhost:8080/"
    },
    "executionInfo": {
     "elapsed": 16,
     "status": "ok",
     "timestamp": 1736376057686,
     "user": {
      "displayName": "Jake Rhodes",
      "userId": "08644184539460642117"
     },
     "user_tz": 420
    },
    "id": "gVPhPTQxDOSk",
    "outputId": "f2decadf-59a4-4a06-b647-68cb78c1e8c0"
   },
   "outputs": [
    {
     "data": {
      "text/plain": [
       "(150, 5)"
      ]
     },
     "execution_count": 14,
     "metadata": {},
     "output_type": "execute_result"
    }
   ],
   "source": [
    "iris.shape"
   ]
  },
  {
   "cell_type": "code",
   "execution_count": 15,
   "metadata": {
    "colab": {
     "base_uri": "https://localhost:8080/"
    },
    "executionInfo": {
     "elapsed": 15,
     "status": "ok",
     "timestamp": 1736376057686,
     "user": {
      "displayName": "Jake Rhodes",
      "userId": "08644184539460642117"
     },
     "user_tz": 420
    },
    "id": "M6aRueORDOSl",
    "outputId": "e39054a1-c37b-4ff8-d0eb-75816fcf2572"
   },
   "outputs": [
    {
     "name": "stdout",
     "output_type": "stream",
     "text": [
      "<class 'pandas.core.frame.DataFrame'>\n",
      "RangeIndex: 150 entries, 0 to 149\n",
      "Data columns (total 5 columns):\n",
      " #   Column        Non-Null Count  Dtype  \n",
      "---  ------        --------------  -----  \n",
      " 0   sepal_length  150 non-null    float64\n",
      " 1   sepal_width   150 non-null    float64\n",
      " 2   petal_length  150 non-null    float64\n",
      " 3   petal_width   150 non-null    float64\n",
      " 4   class         150 non-null    object \n",
      "dtypes: float64(4), object(1)\n",
      "memory usage: 6.0+ KB\n"
     ]
    }
   ],
   "source": [
    "iris.info()"
   ]
  },
  {
   "cell_type": "code",
   "execution_count": 16,
   "metadata": {
    "colab": {
     "base_uri": "https://localhost:8080/",
     "height": 0
    },
    "executionInfo": {
     "elapsed": 15,
     "status": "ok",
     "timestamp": 1736376057686,
     "user": {
      "displayName": "Jake Rhodes",
      "userId": "08644184539460642117"
     },
     "user_tz": 420
    },
    "id": "PKRHqQ61DOSl",
    "outputId": "8a6c1ee8-3e3b-4b90-f04b-9c93719f508c"
   },
   "outputs": [
    {
     "data": {
      "text/html": [
       "<div>\n",
       "<style scoped>\n",
       "    .dataframe tbody tr th:only-of-type {\n",
       "        vertical-align: middle;\n",
       "    }\n",
       "\n",
       "    .dataframe tbody tr th {\n",
       "        vertical-align: top;\n",
       "    }\n",
       "\n",
       "    .dataframe thead th {\n",
       "        text-align: right;\n",
       "    }\n",
       "</style>\n",
       "<table border=\"1\" class=\"dataframe\">\n",
       "  <thead>\n",
       "    <tr style=\"text-align: right;\">\n",
       "      <th></th>\n",
       "      <th>sepal_length</th>\n",
       "      <th>sepal_width</th>\n",
       "      <th>petal_length</th>\n",
       "      <th>petal_width</th>\n",
       "      <th>class</th>\n",
       "    </tr>\n",
       "  </thead>\n",
       "  <tbody>\n",
       "    <tr>\n",
       "      <th>0</th>\n",
       "      <td>5.1</td>\n",
       "      <td>3.5</td>\n",
       "      <td>1.4</td>\n",
       "      <td>0.2</td>\n",
       "      <td>Iris-setosa</td>\n",
       "    </tr>\n",
       "    <tr>\n",
       "      <th>1</th>\n",
       "      <td>4.9</td>\n",
       "      <td>3.0</td>\n",
       "      <td>1.4</td>\n",
       "      <td>0.2</td>\n",
       "      <td>Iris-setosa</td>\n",
       "    </tr>\n",
       "    <tr>\n",
       "      <th>2</th>\n",
       "      <td>4.7</td>\n",
       "      <td>3.2</td>\n",
       "      <td>1.3</td>\n",
       "      <td>0.2</td>\n",
       "      <td>Iris-setosa</td>\n",
       "    </tr>\n",
       "    <tr>\n",
       "      <th>3</th>\n",
       "      <td>4.6</td>\n",
       "      <td>3.1</td>\n",
       "      <td>1.5</td>\n",
       "      <td>0.2</td>\n",
       "      <td>Iris-setosa</td>\n",
       "    </tr>\n",
       "    <tr>\n",
       "      <th>4</th>\n",
       "      <td>5.0</td>\n",
       "      <td>3.6</td>\n",
       "      <td>1.4</td>\n",
       "      <td>0.2</td>\n",
       "      <td>Iris-setosa</td>\n",
       "    </tr>\n",
       "  </tbody>\n",
       "</table>\n",
       "</div>"
      ],
      "text/plain": [
       "   sepal_length  sepal_width  petal_length  petal_width        class\n",
       "0           5.1          3.5           1.4          0.2  Iris-setosa\n",
       "1           4.9          3.0           1.4          0.2  Iris-setosa\n",
       "2           4.7          3.2           1.3          0.2  Iris-setosa\n",
       "3           4.6          3.1           1.5          0.2  Iris-setosa\n",
       "4           5.0          3.6           1.4          0.2  Iris-setosa"
      ]
     },
     "execution_count": 16,
     "metadata": {},
     "output_type": "execute_result"
    }
   ],
   "source": [
    "iris.head()"
   ]
  },
  {
   "cell_type": "code",
   "execution_count": 17,
   "metadata": {
    "executionInfo": {
     "elapsed": 14,
     "status": "ok",
     "timestamp": 1736376057686,
     "user": {
      "displayName": "Jake Rhodes",
      "userId": "08644184539460642117"
     },
     "user_tz": 420
    },
    "id": "4XP3eTK-DOSl"
   },
   "outputs": [],
   "source": []
  },
  {
   "cell_type": "code",
   "execution_count": 17,
   "metadata": {
    "colab": {
     "base_uri": "https://localhost:8080/",
     "height": 0
    },
    "executionInfo": {
     "elapsed": 14,
     "status": "ok",
     "timestamp": 1736376057686,
     "user": {
      "displayName": "Jake Rhodes",
      "userId": "08644184539460642117"
     },
     "user_tz": 420
    },
    "id": "hZ5TfVZxDOSl",
    "outputId": "ec9e9188-7c6b-44c2-f3f4-1842e9138e24"
   },
   "outputs": [
    {
     "data": {
      "text/html": [
       "<div>\n",
       "<style scoped>\n",
       "    .dataframe tbody tr th:only-of-type {\n",
       "        vertical-align: middle;\n",
       "    }\n",
       "\n",
       "    .dataframe tbody tr th {\n",
       "        vertical-align: top;\n",
       "    }\n",
       "\n",
       "    .dataframe thead th {\n",
       "        text-align: right;\n",
       "    }\n",
       "</style>\n",
       "<table border=\"1\" class=\"dataframe\">\n",
       "  <thead>\n",
       "    <tr style=\"text-align: right;\">\n",
       "      <th></th>\n",
       "      <th>sepal_length</th>\n",
       "      <th>sepal_width</th>\n",
       "      <th>petal_length</th>\n",
       "      <th>petal_width</th>\n",
       "      <th>species</th>\n",
       "    </tr>\n",
       "  </thead>\n",
       "  <tbody>\n",
       "    <tr>\n",
       "      <th>0</th>\n",
       "      <td>5.1</td>\n",
       "      <td>3.5</td>\n",
       "      <td>1.4</td>\n",
       "      <td>0.2</td>\n",
       "      <td>Iris-setosa</td>\n",
       "    </tr>\n",
       "    <tr>\n",
       "      <th>1</th>\n",
       "      <td>4.9</td>\n",
       "      <td>3.0</td>\n",
       "      <td>1.4</td>\n",
       "      <td>0.2</td>\n",
       "      <td>Iris-setosa</td>\n",
       "    </tr>\n",
       "    <tr>\n",
       "      <th>2</th>\n",
       "      <td>4.7</td>\n",
       "      <td>3.2</td>\n",
       "      <td>1.3</td>\n",
       "      <td>0.2</td>\n",
       "      <td>Iris-setosa</td>\n",
       "    </tr>\n",
       "    <tr>\n",
       "      <th>3</th>\n",
       "      <td>4.6</td>\n",
       "      <td>3.1</td>\n",
       "      <td>1.5</td>\n",
       "      <td>0.2</td>\n",
       "      <td>Iris-setosa</td>\n",
       "    </tr>\n",
       "    <tr>\n",
       "      <th>4</th>\n",
       "      <td>5.0</td>\n",
       "      <td>3.6</td>\n",
       "      <td>1.4</td>\n",
       "      <td>0.2</td>\n",
       "      <td>Iris-setosa</td>\n",
       "    </tr>\n",
       "  </tbody>\n",
       "</table>\n",
       "</div>"
      ],
      "text/plain": [
       "   sepal_length  sepal_width  petal_length  petal_width      species\n",
       "0           5.1          3.5           1.4          0.2  Iris-setosa\n",
       "1           4.9          3.0           1.4          0.2  Iris-setosa\n",
       "2           4.7          3.2           1.3          0.2  Iris-setosa\n",
       "3           4.6          3.1           1.5          0.2  Iris-setosa\n",
       "4           5.0          3.6           1.4          0.2  Iris-setosa"
      ]
     },
     "execution_count": 17,
     "metadata": {},
     "output_type": "execute_result"
    }
   ],
   "source": [
    "# Rename columns\n",
    "iris.rename(columns={'class': 'species'}, inplace=True)\n",
    "\n",
    "# Display the DataFrame with renamed columns\n",
    "iris.head()\n"
   ]
  },
  {
   "cell_type": "markdown",
   "metadata": {
    "id": "WQy9e7zCDOSl"
   },
   "source": [
    "## Basic Plotting\n",
    "Pandas can be used for basic plotting, but we will cover more later"
   ]
  },
  {
   "cell_type": "code",
   "execution_count": 18,
   "metadata": {
    "colab": {
     "base_uri": "https://localhost:8080/",
     "height": 0
    },
    "executionInfo": {
     "elapsed": 349,
     "status": "ok",
     "timestamp": 1736376058022,
     "user": {
      "displayName": "Jake Rhodes",
      "userId": "08644184539460642117"
     },
     "user_tz": 420
    },
    "id": "jRwEBbLbDOSl",
    "outputId": "456c27c9-715f-454a-980c-889c4159e6ba"
   },
   "outputs": [
    {
     "data": {
      "text/plain": [
       "<Axes: ylabel='Frequency'>"
      ]
     },
     "execution_count": 18,
     "metadata": {},
     "output_type": "execute_result"
    },
    {
     "data": {
      "image/png": "[encoded data removed]",
      "text/plain": [
       "<Figure size 640x480 with 1 Axes>"
      ]
     },
     "metadata": {},
     "output_type": "display_data"
    }
   ],
   "source": [
    "iris['sepal_length'].plot.hist(bins=20)"
   ]
  },
  {
   "cell_type": "code",
   "execution_count": 19,
   "metadata": {
    "colab": {
     "base_uri": "https://localhost:8080/",
     "height": 0
    },
    "executionInfo": {
     "elapsed": 417,
     "status": "ok",
     "timestamp": 1736376058437,
     "user": {
      "displayName": "Jake Rhodes",
      "userId": "08644184539460642117"
     },
     "user_tz": 420
    },
    "id": "eE7FvE9HDOSl",
    "outputId": "5dd2ea2f-51a8-4907-9669-0f5ee8c3c3bf"
   },
   "outputs": [
    {
     "data": {
      "text/plain": [
       "<Axes: xlabel='sepal_length', ylabel='sepal_width'>"
      ]
     },
     "execution_count": 19,
     "metadata": {},
     "output_type": "execute_result"
    },
    {
     "data": {
      "image/png": "[encoded data removed]",
      "text/plain": [
       "<Figure size 640x480 with 2 Axes>"
      ]
     },
     "metadata": {},
     "output_type": "display_data"
    }
   ],
   "source": [
    "iris.plot.scatter('sepal_length','sepal_width', c='petal_width')"
   ]
  },
  {
   "cell_type": "code",
   "execution_count": 20,
   "metadata": {
    "colab": {
     "base_uri": "https://localhost:8080/",
     "height": 0
    },
    "executionInfo": {
     "elapsed": 4,
     "status": "ok",
     "timestamp": 1736376058437,
     "user": {
      "displayName": "Jake Rhodes",
      "userId": "08644184539460642117"
     },
     "user_tz": 420
    },
    "id": "XSs6XgaoDOSl",
    "outputId": "8221bfa7-f66d-43a5-b2f6-5e513a72eb07"
   },
   "outputs": [
    {
     "data": {
      "text/plain": [
       "<Axes: >"
      ]
     },
     "execution_count": 20,
     "metadata": {},
     "output_type": "execute_result"
    },
    {
     "data": {
      "image/png": "[encoded data removed]",
      "text/plain": [
       "<Figure size 640x480 with 1 Axes>"
      ]
     },
     "metadata": {},
     "output_type": "display_data"
    }
   ],
   "source": [
    "iris.plot.box()"
   ]
  },
  {
   "cell_type": "code",
   "execution_count": 21,
   "metadata": {
    "colab": {
     "base_uri": "https://localhost:8080/",
     "height": 0
    },
    "executionInfo": {
     "elapsed": 550,
     "status": "ok",
     "timestamp": 1736376058984,
     "user": {
      "displayName": "Jake Rhodes",
      "userId": "08644184539460642117"
     },
     "user_tz": 420
    },
    "id": "Bxf2Bh-UDOSl",
    "outputId": "886c845d-c2bc-4815-d8cb-f4c536e799a3"
   },
   "outputs": [
    {
     "data": {
      "text/plain": [
       "<Axes: ylabel='Density'>"
      ]
     },
     "execution_count": 21,
     "metadata": {},
     "output_type": "execute_result"
    },
    {
     "data": {
      "image/png": "[encoded data removed]",
      "text/plain": [
       "<Figure size 640x480 with 1 Axes>"
      ]
     },
     "metadata": {},
     "output_type": "display_data"
    }
   ],
   "source": [
    "iris.plot.kde()"
   ]
  },
  {
   "cell_type": "markdown",
   "metadata": {
    "id": "B4yFi_7DDOSl"
   },
   "source": [
    "---\n",
    "\n",
    "## Selection and Indexing\n",
    "\n",
    "There are various ways to get subsets of the data.  In the following ``df`` refers to a DataFrame.\n",
    "\n",
    "#### Selecting columns\n",
    "One column (producing a Series)\n",
    "~~~\n",
    "df['column_name']\n",
    "df.column_name\n",
    "~~~\n",
    "---\n",
    "\n",
    "Multiple columns (producing a DataFrame)\n",
    "~~~\n",
    "df[['column_name']] # this will produce a DataFrame\n",
    "df[['col1', 'col2', 'col3']]\n",
    "~~~\n",
    "---\n",
    "\n",
    "#### Selecting row and columns with ``loc`` and ``iloc``\n",
    "~~~\n",
    "df.loc['row_name', 'col_name']\n",
    "df.iloc['row index', 'col index']\n",
    "~~~\n",
    "\n",
    "``loc`` and ``iloc`` also support slicing.  Note: when slicing with ``loc``, the end point IS including (but not when slicing with ``iloc``.\n",
    "\n",
    "---\n",
    "~~~\n",
    "df.loc['row_name1':'row_name2', 'col_name1':'col_name2']\n",
    "df.loc[:, 'col_name1':'col_name2']\n",
    "df.loc['r1':'r2', :]\n",
    "df.loc[['r1','r2','r3'],['c1','c2]]\n",
    "~~~\n",
    "*When using `.loc()`, `row_name2` and `col_name2` WILL be included*\n",
    "\n",
    "---\n",
    "~~~\n",
    "df.iloc[index1:index2, col1:col2]\n",
    "~~~\n",
    "*When using `.iloc()`, `index2` and `col2` will NOT be included*\n",
    "\n",
    "---\n",
    "#### Selecting rows based on column condition\n",
    "~~~\n",
    "df[df[boolean condition]]\n",
    "\n",
    "df[mask]\n",
    "~~~\n"
   ]
  },
  {
   "cell_type": "code",
   "execution_count": 22,
   "metadata": {
    "colab": {
     "base_uri": "https://localhost:8080/",
     "height": 237
    },
    "executionInfo": {
     "elapsed": 26,
     "status": "ok",
     "timestamp": 1736376058984,
     "user": {
      "displayName": "Jake Rhodes",
      "userId": "08644184539460642117"
     },
     "user_tz": 420
    },
    "id": "kt64D6uJDOSl",
    "outputId": "8a856d6c-04af-41e5-c273-59f4db11493f"
   },
   "outputs": [
    {
     "data": {
      "text/html": [
       "<div>\n",
       "<style scoped>\n",
       "    .dataframe tbody tr th:only-of-type {\n",
       "        vertical-align: middle;\n",
       "    }\n",
       "\n",
       "    .dataframe tbody tr th {\n",
       "        vertical-align: top;\n",
       "    }\n",
       "\n",
       "    .dataframe thead th {\n",
       "        text-align: right;\n",
       "    }\n",
       "</style>\n",
       "<table border=\"1\" class=\"dataframe\">\n",
       "  <thead>\n",
       "    <tr style=\"text-align: right;\">\n",
       "      <th></th>\n",
       "      <th>petal_width</th>\n",
       "      <th>petal_length</th>\n",
       "    </tr>\n",
       "  </thead>\n",
       "  <tbody>\n",
       "    <tr>\n",
       "      <th>0</th>\n",
       "      <td>0.2</td>\n",
       "      <td>1.4</td>\n",
       "    </tr>\n",
       "    <tr>\n",
       "      <th>1</th>\n",
       "      <td>0.2</td>\n",
       "      <td>1.4</td>\n",
       "    </tr>\n",
       "    <tr>\n",
       "      <th>2</th>\n",
       "      <td>0.2</td>\n",
       "      <td>1.3</td>\n",
       "    </tr>\n",
       "    <tr>\n",
       "      <th>3</th>\n",
       "      <td>0.2</td>\n",
       "      <td>1.5</td>\n",
       "    </tr>\n",
       "    <tr>\n",
       "      <th>4</th>\n",
       "      <td>0.2</td>\n",
       "      <td>1.4</td>\n",
       "    </tr>\n",
       "    <tr>\n",
       "      <th>5</th>\n",
       "      <td>0.4</td>\n",
       "      <td>1.7</td>\n",
       "    </tr>\n",
       "  </tbody>\n",
       "</table>\n",
       "</div>"
      ],
      "text/plain": [
       "   petal_width  petal_length\n",
       "0          0.2           1.4\n",
       "1          0.2           1.4\n",
       "2          0.2           1.3\n",
       "3          0.2           1.5\n",
       "4          0.2           1.4\n",
       "5          0.4           1.7"
      ]
     },
     "execution_count": 22,
     "metadata": {},
     "output_type": "execute_result"
    }
   ],
   "source": [
    "iris.loc[0:5, ['petal_width', 'petal_length']]"
   ]
  },
  {
   "cell_type": "code",
   "execution_count": 23,
   "metadata": {
    "colab": {
     "base_uri": "https://localhost:8080/",
     "height": 112
    },
    "executionInfo": {
     "elapsed": 25,
     "status": "ok",
     "timestamp": 1736376058984,
     "user": {
      "displayName": "Jake Rhodes",
      "userId": "08644184539460642117"
     },
     "user_tz": 420
    },
    "id": "aLXIabquDOSl",
    "outputId": "0f6f6212-33ab-4c35-b6a3-1e50f3809e02"
   },
   "outputs": [
    {
     "data": {
      "text/html": [
       "<div>\n",
       "<style scoped>\n",
       "    .dataframe tbody tr th:only-of-type {\n",
       "        vertical-align: middle;\n",
       "    }\n",
       "\n",
       "    .dataframe tbody tr th {\n",
       "        vertical-align: top;\n",
       "    }\n",
       "\n",
       "    .dataframe thead th {\n",
       "        text-align: right;\n",
       "    }\n",
       "</style>\n",
       "<table border=\"1\" class=\"dataframe\">\n",
       "  <thead>\n",
       "    <tr style=\"text-align: right;\">\n",
       "      <th></th>\n",
       "      <th>sepal_length</th>\n",
       "      <th>sepal_width</th>\n",
       "      <th>petal_length</th>\n",
       "      <th>petal_width</th>\n",
       "      <th>species</th>\n",
       "    </tr>\n",
       "  </thead>\n",
       "  <tbody>\n",
       "    <tr>\n",
       "      <th>0</th>\n",
       "      <td>5.1</td>\n",
       "      <td>3.5</td>\n",
       "      <td>1.4</td>\n",
       "      <td>0.2</td>\n",
       "      <td>Iris-setosa</td>\n",
       "    </tr>\n",
       "    <tr>\n",
       "      <th>1</th>\n",
       "      <td>4.9</td>\n",
       "      <td>3.0</td>\n",
       "      <td>1.4</td>\n",
       "      <td>0.2</td>\n",
       "      <td>Iris-setosa</td>\n",
       "    </tr>\n",
       "  </tbody>\n",
       "</table>\n",
       "</div>"
      ],
      "text/plain": [
       "   sepal_length  sepal_width  petal_length  petal_width      species\n",
       "0           5.1          3.5           1.4          0.2  Iris-setosa\n",
       "1           4.9          3.0           1.4          0.2  Iris-setosa"
      ]
     },
     "execution_count": 23,
     "metadata": {},
     "output_type": "execute_result"
    }
   ],
   "source": [
    "iris.iloc[0:2, 0:]"
   ]
  },
  {
   "cell_type": "code",
   "execution_count": 24,
   "metadata": {
    "colab": {
     "base_uri": "https://localhost:8080/",
     "height": 458
    },
    "executionInfo": {
     "elapsed": 24,
     "status": "ok",
     "timestamp": 1736376058984,
     "user": {
      "displayName": "Jake Rhodes",
      "userId": "08644184539460642117"
     },
     "user_tz": 420
    },
    "id": "qZJ65SgDDOSl",
    "outputId": "0fc5447c-b31d-4d92-99c0-ecbfbe35fe44"
   },
   "outputs": [
    {
     "data": {
      "text/plain": [
       "0      False\n",
       "1      False\n",
       "2      False\n",
       "3      False\n",
       "4      False\n",
       "       ...  \n",
       "145     True\n",
       "146     True\n",
       "147     True\n",
       "148     True\n",
       "149    False\n",
       "Name: sepal_length, Length: 150, dtype: bool"
      ]
     },
     "execution_count": 24,
     "metadata": {},
     "output_type": "execute_result"
    }
   ],
   "source": [
    "iris['sepal_length'] > 6"
   ]
  },
  {
   "cell_type": "code",
   "execution_count": 25,
   "metadata": {
    "colab": {
     "base_uri": "https://localhost:8080/",
     "height": 423
    },
    "executionInfo": {
     "elapsed": 23,
     "status": "ok",
     "timestamp": 1736376058984,
     "user": {
      "displayName": "Jake Rhodes",
      "userId": "08644184539460642117"
     },
     "user_tz": 420
    },
    "id": "Po_be23cDOSl",
    "outputId": "6cd0a581-3310-423e-9662-de0dcaea7d49"
   },
   "outputs": [
    {
     "data": {
      "text/html": [
       "<div>\n",
       "<style scoped>\n",
       "    .dataframe tbody tr th:only-of-type {\n",
       "        vertical-align: middle;\n",
       "    }\n",
       "\n",
       "    .dataframe tbody tr th {\n",
       "        vertical-align: top;\n",
       "    }\n",
       "\n",
       "    .dataframe thead th {\n",
       "        text-align: right;\n",
       "    }\n",
       "</style>\n",
       "<table border=\"1\" class=\"dataframe\">\n",
       "  <thead>\n",
       "    <tr style=\"text-align: right;\">\n",
       "      <th></th>\n",
       "      <th>sepal_length</th>\n",
       "      <th>sepal_width</th>\n",
       "      <th>petal_length</th>\n",
       "      <th>petal_width</th>\n",
       "      <th>species</th>\n",
       "    </tr>\n",
       "  </thead>\n",
       "  <tbody>\n",
       "    <tr>\n",
       "      <th>50</th>\n",
       "      <td>7.0</td>\n",
       "      <td>3.2</td>\n",
       "      <td>4.7</td>\n",
       "      <td>1.4</td>\n",
       "      <td>Iris-versicolor</td>\n",
       "    </tr>\n",
       "    <tr>\n",
       "      <th>51</th>\n",
       "      <td>6.4</td>\n",
       "      <td>3.2</td>\n",
       "      <td>4.5</td>\n",
       "      <td>1.5</td>\n",
       "      <td>Iris-versicolor</td>\n",
       "    </tr>\n",
       "    <tr>\n",
       "      <th>52</th>\n",
       "      <td>6.9</td>\n",
       "      <td>3.1</td>\n",
       "      <td>4.9</td>\n",
       "      <td>1.5</td>\n",
       "      <td>Iris-versicolor</td>\n",
       "    </tr>\n",
       "    <tr>\n",
       "      <th>54</th>\n",
       "      <td>6.5</td>\n",
       "      <td>2.8</td>\n",
       "      <td>4.6</td>\n",
       "      <td>1.5</td>\n",
       "      <td>Iris-versicolor</td>\n",
       "    </tr>\n",
       "    <tr>\n",
       "      <th>56</th>\n",
       "      <td>6.3</td>\n",
       "      <td>3.3</td>\n",
       "      <td>4.7</td>\n",
       "      <td>1.6</td>\n",
       "      <td>Iris-versicolor</td>\n",
       "    </tr>\n",
       "    <tr>\n",
       "      <th>...</th>\n",
       "      <td>...</td>\n",
       "      <td>...</td>\n",
       "      <td>...</td>\n",
       "      <td>...</td>\n",
       "      <td>...</td>\n",
       "    </tr>\n",
       "    <tr>\n",
       "      <th>144</th>\n",
       "      <td>6.7</td>\n",
       "      <td>3.3</td>\n",
       "      <td>5.7</td>\n",
       "      <td>2.5</td>\n",
       "      <td>Iris-virginica</td>\n",
       "    </tr>\n",
       "    <tr>\n",
       "      <th>145</th>\n",
       "      <td>6.7</td>\n",
       "      <td>3.0</td>\n",
       "      <td>5.2</td>\n",
       "      <td>2.3</td>\n",
       "      <td>Iris-virginica</td>\n",
       "    </tr>\n",
       "    <tr>\n",
       "      <th>146</th>\n",
       "      <td>6.3</td>\n",
       "      <td>2.5</td>\n",
       "      <td>5.0</td>\n",
       "      <td>1.9</td>\n",
       "      <td>Iris-virginica</td>\n",
       "    </tr>\n",
       "    <tr>\n",
       "      <th>147</th>\n",
       "      <td>6.5</td>\n",
       "      <td>3.0</td>\n",
       "      <td>5.2</td>\n",
       "      <td>2.0</td>\n",
       "      <td>Iris-virginica</td>\n",
       "    </tr>\n",
       "    <tr>\n",
       "      <th>148</th>\n",
       "      <td>6.2</td>\n",
       "      <td>3.4</td>\n",
       "      <td>5.4</td>\n",
       "      <td>2.3</td>\n",
       "      <td>Iris-virginica</td>\n",
       "    </tr>\n",
       "  </tbody>\n",
       "</table>\n",
       "<p>61 rows × 5 columns</p>\n",
       "</div>"
      ],
      "text/plain": [
       "     sepal_length  sepal_width  petal_length  petal_width          species\n",
       "50            7.0          3.2           4.7          1.4  Iris-versicolor\n",
       "51            6.4          3.2           4.5          1.5  Iris-versicolor\n",
       "52            6.9          3.1           4.9          1.5  Iris-versicolor\n",
       "54            6.5          2.8           4.6          1.5  Iris-versicolor\n",
       "56            6.3          3.3           4.7          1.6  Iris-versicolor\n",
       "..            ...          ...           ...          ...              ...\n",
       "144           6.7          3.3           5.7          2.5   Iris-virginica\n",
       "145           6.7          3.0           5.2          2.3   Iris-virginica\n",
       "146           6.3          2.5           5.0          1.9   Iris-virginica\n",
       "147           6.5          3.0           5.2          2.0   Iris-virginica\n",
       "148           6.2          3.4           5.4          2.3   Iris-virginica\n",
       "\n",
       "[61 rows x 5 columns]"
      ]
     },
     "execution_count": 25,
     "metadata": {},
     "output_type": "execute_result"
    }
   ],
   "source": [
    "## Slicing with a boolean series\n",
    "iris[iris['sepal_length'] > 6]"
   ]
  },
  {
   "cell_type": "code",
   "execution_count": 26,
   "metadata": {
    "colab": {
     "base_uri": "https://localhost:8080/",
     "height": 206
    },
    "executionInfo": {
     "elapsed": 23,
     "status": "ok",
     "timestamp": 1736376058984,
     "user": {
      "displayName": "Jake Rhodes",
      "userId": "08644184539460642117"
     },
     "user_tz": 420
    },
    "id": "OBwr3oqdDOSl",
    "outputId": "da86258c-01a4-48c4-b0d5-5fe4e39bd8fb"
   },
   "outputs": [
    {
     "data": {
      "text/html": [
       "<div>\n",
       "<style scoped>\n",
       "    .dataframe tbody tr th:only-of-type {\n",
       "        vertical-align: middle;\n",
       "    }\n",
       "\n",
       "    .dataframe tbody tr th {\n",
       "        vertical-align: top;\n",
       "    }\n",
       "\n",
       "    .dataframe thead th {\n",
       "        text-align: right;\n",
       "    }\n",
       "</style>\n",
       "<table border=\"1\" class=\"dataframe\">\n",
       "  <thead>\n",
       "    <tr style=\"text-align: right;\">\n",
       "      <th></th>\n",
       "      <th>sepal_length</th>\n",
       "      <th>sepal_width</th>\n",
       "      <th>petal_length</th>\n",
       "      <th>petal_width</th>\n",
       "      <th>species</th>\n",
       "    </tr>\n",
       "  </thead>\n",
       "  <tbody>\n",
       "    <tr>\n",
       "      <th>100</th>\n",
       "      <td>6.3</td>\n",
       "      <td>3.3</td>\n",
       "      <td>6.0</td>\n",
       "      <td>2.5</td>\n",
       "      <td>Iris-virginica</td>\n",
       "    </tr>\n",
       "    <tr>\n",
       "      <th>102</th>\n",
       "      <td>7.1</td>\n",
       "      <td>3.0</td>\n",
       "      <td>5.9</td>\n",
       "      <td>2.1</td>\n",
       "      <td>Iris-virginica</td>\n",
       "    </tr>\n",
       "    <tr>\n",
       "      <th>103</th>\n",
       "      <td>6.3</td>\n",
       "      <td>2.9</td>\n",
       "      <td>5.6</td>\n",
       "      <td>1.8</td>\n",
       "      <td>Iris-virginica</td>\n",
       "    </tr>\n",
       "    <tr>\n",
       "      <th>104</th>\n",
       "      <td>6.5</td>\n",
       "      <td>3.0</td>\n",
       "      <td>5.8</td>\n",
       "      <td>2.2</td>\n",
       "      <td>Iris-virginica</td>\n",
       "    </tr>\n",
       "    <tr>\n",
       "      <th>105</th>\n",
       "      <td>7.6</td>\n",
       "      <td>3.0</td>\n",
       "      <td>6.6</td>\n",
       "      <td>2.1</td>\n",
       "      <td>Iris-virginica</td>\n",
       "    </tr>\n",
       "  </tbody>\n",
       "</table>\n",
       "</div>"
      ],
      "text/plain": [
       "     sepal_length  sepal_width  petal_length  petal_width         species\n",
       "100           6.3          3.3           6.0          2.5  Iris-virginica\n",
       "102           7.1          3.0           5.9          2.1  Iris-virginica\n",
       "103           6.3          2.9           5.6          1.8  Iris-virginica\n",
       "104           6.5          3.0           5.8          2.2  Iris-virginica\n",
       "105           7.6          3.0           6.6          2.1  Iris-virginica"
      ]
     },
     "execution_count": 26,
     "metadata": {},
     "output_type": "execute_result"
    }
   ],
   "source": [
    "# Filter data using multiple conditions (Note the parentheses!)\n",
    "filtered_iris = iris[(iris['sepal_length'] > 6) & (iris['petal_length'] > 5)]\n",
    "\n",
    "# Display the filtered data\n",
    "filtered_iris.head()\n"
   ]
  },
  {
   "cell_type": "code",
   "execution_count": 27,
   "metadata": {
    "colab": {
     "base_uri": "https://localhost:8080/",
     "height": 206
    },
    "executionInfo": {
     "elapsed": 834,
     "status": "ok",
     "timestamp": 1736376415179,
     "user": {
      "displayName": "Jake Rhodes",
      "userId": "08644184539460642117"
     },
     "user_tz": 420
    },
    "id": "OyaP7UG_DOSl",
    "outputId": "fe4be5fa-d4f1-4777-fc94-8ea3e5412407"
   },
   "outputs": [
    {
     "data": {
      "text/html": [
       "<div>\n",
       "<style scoped>\n",
       "    .dataframe tbody tr th:only-of-type {\n",
       "        vertical-align: middle;\n",
       "    }\n",
       "\n",
       "    .dataframe tbody tr th {\n",
       "        vertical-align: top;\n",
       "    }\n",
       "\n",
       "    .dataframe thead th {\n",
       "        text-align: right;\n",
       "    }\n",
       "</style>\n",
       "<table border=\"1\" class=\"dataframe\">\n",
       "  <thead>\n",
       "    <tr style=\"text-align: right;\">\n",
       "      <th></th>\n",
       "      <th>sepal_length</th>\n",
       "      <th>sepal_width</th>\n",
       "      <th>petal_length</th>\n",
       "      <th>petal_width</th>\n",
       "      <th>species</th>\n",
       "    </tr>\n",
       "  </thead>\n",
       "  <tbody>\n",
       "    <tr>\n",
       "      <th>0</th>\n",
       "      <td>6.3</td>\n",
       "      <td>3.3</td>\n",
       "      <td>6.0</td>\n",
       "      <td>2.5</td>\n",
       "      <td>Iris-virginica</td>\n",
       "    </tr>\n",
       "    <tr>\n",
       "      <th>1</th>\n",
       "      <td>7.1</td>\n",
       "      <td>3.0</td>\n",
       "      <td>5.9</td>\n",
       "      <td>2.1</td>\n",
       "      <td>Iris-virginica</td>\n",
       "    </tr>\n",
       "    <tr>\n",
       "      <th>2</th>\n",
       "      <td>6.3</td>\n",
       "      <td>2.9</td>\n",
       "      <td>5.6</td>\n",
       "      <td>1.8</td>\n",
       "      <td>Iris-virginica</td>\n",
       "    </tr>\n",
       "    <tr>\n",
       "      <th>3</th>\n",
       "      <td>6.5</td>\n",
       "      <td>3.0</td>\n",
       "      <td>5.8</td>\n",
       "      <td>2.2</td>\n",
       "      <td>Iris-virginica</td>\n",
       "    </tr>\n",
       "    <tr>\n",
       "      <th>4</th>\n",
       "      <td>7.6</td>\n",
       "      <td>3.0</td>\n",
       "      <td>6.6</td>\n",
       "      <td>2.1</td>\n",
       "      <td>Iris-virginica</td>\n",
       "    </tr>\n",
       "  </tbody>\n",
       "</table>\n",
       "</div>"
      ],
      "text/plain": [
       "   sepal_length  sepal_width  petal_length  petal_width         species\n",
       "0           6.3          3.3           6.0          2.5  Iris-virginica\n",
       "1           7.1          3.0           5.9          2.1  Iris-virginica\n",
       "2           6.3          2.9           5.6          1.8  Iris-virginica\n",
       "3           6.5          3.0           5.8          2.2  Iris-virginica\n",
       "4           7.6          3.0           6.6          2.1  Iris-virginica"
      ]
     },
     "execution_count": 27,
     "metadata": {},
     "output_type": "execute_result"
    }
   ],
   "source": [
    "# Reset to default 0,1...n index\n",
    "filtered_iris.reset_index(drop = True).head()"
   ]
  },
  {
   "cell_type": "markdown",
   "metadata": {
    "id": "4Fj2UddtHN3X"
   },
   "source": [
    "## Multi-Index and Index Hierarchy\n",
    "\n",
    "Let us go over how to work with Multi-Index, first we'll create a quick example of what a Multi-Indexed DataFrame would look like:"
   ]
  },
  {
   "cell_type": "code",
   "execution_count": 28,
   "metadata": {
    "executionInfo": {
     "elapsed": 291,
     "status": "ok",
     "timestamp": 1736376842352,
     "user": {
      "displayName": "Jake Rhodes",
      "userId": "08644184539460642117"
     },
     "user_tz": 420
    },
    "id": "FrNrvRq3HcTw"
   },
   "outputs": [],
   "source": [
    "# Index Levels\n",
    "outside = ['G1','G1','G1','G2','G2','G2']\n",
    "inside = [1,2,3,1,2,3]\n",
    "hier_index = list(zip(outside,inside))\n",
    "hier_index = pd.MultiIndex.from_tuples(hier_index)"
   ]
  },
  {
   "cell_type": "code",
   "execution_count": 29,
   "metadata": {
    "colab": {
     "base_uri": "https://localhost:8080/"
    },
    "executionInfo": {
     "elapsed": 332,
     "status": "ok",
     "timestamp": 1736376844701,
     "user": {
      "displayName": "Jake Rhodes",
      "userId": "08644184539460642117"
     },
     "user_tz": 420
    },
    "id": "pqmaCVtMHeSj",
    "outputId": "5bea522a-cb48-48a6-c296-c5199ecd8def"
   },
   "outputs": [
    {
     "data": {
      "text/plain": [
       "MultiIndex([('G1', 1),\n",
       "            ('G1', 2),\n",
       "            ('G1', 3),\n",
       "            ('G2', 1),\n",
       "            ('G2', 2),\n",
       "            ('G2', 3)],\n",
       "           )"
      ]
     },
     "execution_count": 29,
     "metadata": {},
     "output_type": "execute_result"
    }
   ],
   "source": [
    "hier_index"
   ]
  },
  {
   "cell_type": "code",
   "execution_count": 30,
   "metadata": {
    "colab": {
     "base_uri": "https://localhost:8080/",
     "height": 237
    },
    "executionInfo": {
     "elapsed": 365,
     "status": "ok",
     "timestamp": 1736376897189,
     "user": {
      "displayName": "Jake Rhodes",
      "userId": "08644184539460642117"
     },
     "user_tz": 420
    },
    "id": "4Mh7fEZyHe8D",
    "outputId": "4c590a89-50fe-4f9f-eca4-5508614169be"
   },
   "outputs": [
    {
     "data": {
      "text/html": [
       "<div>\n",
       "<style scoped>\n",
       "    .dataframe tbody tr th:only-of-type {\n",
       "        vertical-align: middle;\n",
       "    }\n",
       "\n",
       "    .dataframe tbody tr th {\n",
       "        vertical-align: top;\n",
       "    }\n",
       "\n",
       "    .dataframe thead th {\n",
       "        text-align: right;\n",
       "    }\n",
       "</style>\n",
       "<table border=\"1\" class=\"dataframe\">\n",
       "  <thead>\n",
       "    <tr style=\"text-align: right;\">\n",
       "      <th></th>\n",
       "      <th></th>\n",
       "      <th>A</th>\n",
       "      <th>B</th>\n",
       "    </tr>\n",
       "  </thead>\n",
       "  <tbody>\n",
       "    <tr>\n",
       "      <th rowspan=\"3\" valign=\"top\">G1</th>\n",
       "      <th>1</th>\n",
       "      <td>2.136484</td>\n",
       "      <td>0.648232</td>\n",
       "    </tr>\n",
       "    <tr>\n",
       "      <th>2</th>\n",
       "      <td>-0.319808</td>\n",
       "      <td>-0.252079</td>\n",
       "    </tr>\n",
       "    <tr>\n",
       "      <th>3</th>\n",
       "      <td>-2.808421</td>\n",
       "      <td>-0.291600</td>\n",
       "    </tr>\n",
       "    <tr>\n",
       "      <th rowspan=\"3\" valign=\"top\">G2</th>\n",
       "      <th>1</th>\n",
       "      <td>0.310776</td>\n",
       "      <td>-0.388814</td>\n",
       "    </tr>\n",
       "    <tr>\n",
       "      <th>2</th>\n",
       "      <td>-0.551391</td>\n",
       "      <td>-0.467918</td>\n",
       "    </tr>\n",
       "    <tr>\n",
       "      <th>3</th>\n",
       "      <td>-0.312529</td>\n",
       "      <td>0.366204</td>\n",
       "    </tr>\n",
       "  </tbody>\n",
       "</table>\n",
       "</div>"
      ],
      "text/plain": [
       "             A         B\n",
       "G1 1  2.136484  0.648232\n",
       "   2 -0.319808 -0.252079\n",
       "   3 -2.808421 -0.291600\n",
       "G2 1  0.310776 -0.388814\n",
       "   2 -0.551391 -0.467918\n",
       "   3 -0.312529  0.366204"
      ]
     },
     "execution_count": 30,
     "metadata": {},
     "output_type": "execute_result"
    }
   ],
   "source": [
    "df = pd.DataFrame(np.random.randn(6,2),index=hier_index,columns=['A','B'])\n",
    "df"
   ]
  },
  {
   "cell_type": "markdown",
   "metadata": {
    "id": "NaV88xiaHfhS"
   },
   "source": [
    "Now let's show how to index this! For index hierarchy we use df.loc[], if this was on the columns axis, you would just use normal bracket notation df[]. Calling one level of the index returns the sub-dataframe:"
   ]
  },
  {
   "cell_type": "code",
   "execution_count": 31,
   "metadata": {
    "colab": {
     "base_uri": "https://localhost:8080/",
     "height": 143
    },
    "executionInfo": {
     "elapsed": 1079,
     "status": "ok",
     "timestamp": 1736376901165,
     "user": {
      "displayName": "Jake Rhodes",
      "userId": "08644184539460642117"
     },
     "user_tz": 420
    },
    "id": "D_7vEfmlHpdI",
    "outputId": "45adc187-8696-4dd2-8d0e-ec199cc41aeb"
   },
   "outputs": [
    {
     "data": {
      "text/html": [
       "<div>\n",
       "<style scoped>\n",
       "    .dataframe tbody tr th:only-of-type {\n",
       "        vertical-align: middle;\n",
       "    }\n",
       "\n",
       "    .dataframe tbody tr th {\n",
       "        vertical-align: top;\n",
       "    }\n",
       "\n",
       "    .dataframe thead th {\n",
       "        text-align: right;\n",
       "    }\n",
       "</style>\n",
       "<table border=\"1\" class=\"dataframe\">\n",
       "  <thead>\n",
       "    <tr style=\"text-align: right;\">\n",
       "      <th></th>\n",
       "      <th>A</th>\n",
       "      <th>B</th>\n",
       "    </tr>\n",
       "  </thead>\n",
       "  <tbody>\n",
       "    <tr>\n",
       "      <th>1</th>\n",
       "      <td>2.136484</td>\n",
       "      <td>0.648232</td>\n",
       "    </tr>\n",
       "    <tr>\n",
       "      <th>2</th>\n",
       "      <td>-0.319808</td>\n",
       "      <td>-0.252079</td>\n",
       "    </tr>\n",
       "    <tr>\n",
       "      <th>3</th>\n",
       "      <td>-2.808421</td>\n",
       "      <td>-0.291600</td>\n",
       "    </tr>\n",
       "  </tbody>\n",
       "</table>\n",
       "</div>"
      ],
      "text/plain": [
       "          A         B\n",
       "1  2.136484  0.648232\n",
       "2 -0.319808 -0.252079\n",
       "3 -2.808421 -0.291600"
      ]
     },
     "execution_count": 31,
     "metadata": {},
     "output_type": "execute_result"
    }
   ],
   "source": [
    "df.loc['G1']"
   ]
  },
  {
   "cell_type": "code",
   "execution_count": 32,
   "metadata": {
    "colab": {
     "base_uri": "https://localhost:8080/",
     "height": 146
    },
    "executionInfo": {
     "elapsed": 299,
     "status": "ok",
     "timestamp": 1736376903433,
     "user": {
      "displayName": "Jake Rhodes",
      "userId": "08644184539460642117"
     },
     "user_tz": 420
    },
    "id": "E0NfjoBWHpVs",
    "outputId": "892080e9-8163-4005-d0ed-f7822122a46c"
   },
   "outputs": [
    {
     "data": {
      "text/plain": [
       "A    2.136484\n",
       "B    0.648232\n",
       "Name: 1, dtype: float64"
      ]
     },
     "execution_count": 32,
     "metadata": {},
     "output_type": "execute_result"
    }
   ],
   "source": [
    "df.loc['G1'].loc[1]"
   ]
  },
  {
   "cell_type": "code",
   "execution_count": 33,
   "metadata": {
    "colab": {
     "base_uri": "https://localhost:8080/"
    },
    "executionInfo": {
     "elapsed": 317,
     "status": "ok",
     "timestamp": 1736376906867,
     "user": {
      "displayName": "Jake Rhodes",
      "userId": "08644184539460642117"
     },
     "user_tz": 420
    },
    "id": "5x72aaouHpLk",
    "outputId": "301c6664-1320-429b-cc70-8ef1000f2b82"
   },
   "outputs": [
    {
     "data": {
      "text/plain": [
       "FrozenList([None, None])"
      ]
     },
     "execution_count": 33,
     "metadata": {},
     "output_type": "execute_result"
    }
   ],
   "source": [
    "df.index.names"
   ]
  },
  {
   "cell_type": "code",
   "execution_count": 34,
   "metadata": {
    "executionInfo": {
     "elapsed": 809,
     "status": "ok",
     "timestamp": 1736376909542,
     "user": {
      "displayName": "Jake Rhodes",
      "userId": "08644184539460642117"
     },
     "user_tz": 420
    },
    "id": "wjAgJuq4HpAR"
   },
   "outputs": [],
   "source": [
    "df.index.names = ['Group','Num']"
   ]
  },
  {
   "cell_type": "code",
   "execution_count": 35,
   "metadata": {
    "colab": {
     "base_uri": "https://localhost:8080/",
     "height": 269
    },
    "executionInfo": {
     "elapsed": 5,
     "status": "ok",
     "timestamp": 1736376910792,
     "user": {
      "displayName": "Jake Rhodes",
      "userId": "08644184539460642117"
     },
     "user_tz": 420
    },
    "id": "juONH7waHozu",
    "outputId": "3bd8c7d5-8f08-482c-ce60-a8ee1838e2d6"
   },
   "outputs": [
    {
     "data": {
      "text/html": [
       "<div>\n",
       "<style scoped>\n",
       "    .dataframe tbody tr th:only-of-type {\n",
       "        vertical-align: middle;\n",
       "    }\n",
       "\n",
       "    .dataframe tbody tr th {\n",
       "        vertical-align: top;\n",
       "    }\n",
       "\n",
       "    .dataframe thead th {\n",
       "        text-align: right;\n",
       "    }\n",
       "</style>\n",
       "<table border=\"1\" class=\"dataframe\">\n",
       "  <thead>\n",
       "    <tr style=\"text-align: right;\">\n",
       "      <th></th>\n",
       "      <th></th>\n",
       "      <th>A</th>\n",
       "      <th>B</th>\n",
       "    </tr>\n",
       "    <tr>\n",
       "      <th>Group</th>\n",
       "      <th>Num</th>\n",
       "      <th></th>\n",
       "      <th></th>\n",
       "    </tr>\n",
       "  </thead>\n",
       "  <tbody>\n",
       "    <tr>\n",
       "      <th rowspan=\"3\" valign=\"top\">G1</th>\n",
       "      <th>1</th>\n",
       "      <td>2.136484</td>\n",
       "      <td>0.648232</td>\n",
       "    </tr>\n",
       "    <tr>\n",
       "      <th>2</th>\n",
       "      <td>-0.319808</td>\n",
       "      <td>-0.252079</td>\n",
       "    </tr>\n",
       "    <tr>\n",
       "      <th>3</th>\n",
       "      <td>-2.808421</td>\n",
       "      <td>-0.291600</td>\n",
       "    </tr>\n",
       "    <tr>\n",
       "      <th rowspan=\"3\" valign=\"top\">G2</th>\n",
       "      <th>1</th>\n",
       "      <td>0.310776</td>\n",
       "      <td>-0.388814</td>\n",
       "    </tr>\n",
       "    <tr>\n",
       "      <th>2</th>\n",
       "      <td>-0.551391</td>\n",
       "      <td>-0.467918</td>\n",
       "    </tr>\n",
       "    <tr>\n",
       "      <th>3</th>\n",
       "      <td>-0.312529</td>\n",
       "      <td>0.366204</td>\n",
       "    </tr>\n",
       "  </tbody>\n",
       "</table>\n",
       "</div>"
      ],
      "text/plain": [
       "                  A         B\n",
       "Group Num                    \n",
       "G1    1    2.136484  0.648232\n",
       "      2   -0.319808 -0.252079\n",
       "      3   -2.808421 -0.291600\n",
       "G2    1    0.310776 -0.388814\n",
       "      2   -0.551391 -0.467918\n",
       "      3   -0.312529  0.366204"
      ]
     },
     "execution_count": 35,
     "metadata": {},
     "output_type": "execute_result"
    }
   ],
   "source": [
    "df"
   ]
  },
  {
   "cell_type": "code",
   "execution_count": 36,
   "metadata": {
    "colab": {
     "base_uri": "https://localhost:8080/",
     "height": 174
    },
    "executionInfo": {
     "elapsed": 332,
     "status": "ok",
     "timestamp": 1736376914989,
     "user": {
      "displayName": "Jake Rhodes",
      "userId": "08644184539460642117"
     },
     "user_tz": 420
    },
    "id": "UllmZaVrHf2a",
    "outputId": "ca37fe5c-d359-43a7-d472-11cdb9cf5bcd"
   },
   "outputs": [
    {
     "data": {
      "text/html": [
       "<div>\n",
       "<style scoped>\n",
       "    .dataframe tbody tr th:only-of-type {\n",
       "        vertical-align: middle;\n",
       "    }\n",
       "\n",
       "    .dataframe tbody tr th {\n",
       "        vertical-align: top;\n",
       "    }\n",
       "\n",
       "    .dataframe thead th {\n",
       "        text-align: right;\n",
       "    }\n",
       "</style>\n",
       "<table border=\"1\" class=\"dataframe\">\n",
       "  <thead>\n",
       "    <tr style=\"text-align: right;\">\n",
       "      <th></th>\n",
       "      <th>A</th>\n",
       "      <th>B</th>\n",
       "    </tr>\n",
       "    <tr>\n",
       "      <th>Num</th>\n",
       "      <th></th>\n",
       "      <th></th>\n",
       "    </tr>\n",
       "  </thead>\n",
       "  <tbody>\n",
       "    <tr>\n",
       "      <th>1</th>\n",
       "      <td>2.136484</td>\n",
       "      <td>0.648232</td>\n",
       "    </tr>\n",
       "    <tr>\n",
       "      <th>2</th>\n",
       "      <td>-0.319808</td>\n",
       "      <td>-0.252079</td>\n",
       "    </tr>\n",
       "    <tr>\n",
       "      <th>3</th>\n",
       "      <td>-2.808421</td>\n",
       "      <td>-0.291600</td>\n",
       "    </tr>\n",
       "  </tbody>\n",
       "</table>\n",
       "</div>"
      ],
      "text/plain": [
       "            A         B\n",
       "Num                    \n",
       "1    2.136484  0.648232\n",
       "2   -0.319808 -0.252079\n",
       "3   -2.808421 -0.291600"
      ]
     },
     "execution_count": 36,
     "metadata": {},
     "output_type": "execute_result"
    }
   ],
   "source": [
    "# The xs() method in pandas is used to extract a cross-section from a DataFrame or Series\n",
    "df.xs('G1')"
   ]
  },
  {
   "cell_type": "code",
   "execution_count": 37,
   "metadata": {
    "colab": {
     "base_uri": "https://localhost:8080/",
     "height": 143
    },
    "executionInfo": {
     "elapsed": 824,
     "status": "ok",
     "timestamp": 1736376932166,
     "user": {
      "displayName": "Jake Rhodes",
      "userId": "08644184539460642117"
     },
     "user_tz": 420
    },
    "id": "DRvNDmCBH-ES",
    "outputId": "9db40c67-7ce4-4009-c618-37b85260f80e"
   },
   "outputs": [
    {
     "data": {
      "text/html": [
       "<div>\n",
       "<style scoped>\n",
       "    .dataframe tbody tr th:only-of-type {\n",
       "        vertical-align: middle;\n",
       "    }\n",
       "\n",
       "    .dataframe tbody tr th {\n",
       "        vertical-align: top;\n",
       "    }\n",
       "\n",
       "    .dataframe thead th {\n",
       "        text-align: right;\n",
       "    }\n",
       "</style>\n",
       "<table border=\"1\" class=\"dataframe\">\n",
       "  <thead>\n",
       "    <tr style=\"text-align: right;\">\n",
       "      <th></th>\n",
       "      <th>A</th>\n",
       "      <th>B</th>\n",
       "    </tr>\n",
       "    <tr>\n",
       "      <th>Group</th>\n",
       "      <th></th>\n",
       "      <th></th>\n",
       "    </tr>\n",
       "  </thead>\n",
       "  <tbody>\n",
       "    <tr>\n",
       "      <th>G1</th>\n",
       "      <td>2.136484</td>\n",
       "      <td>0.648232</td>\n",
       "    </tr>\n",
       "    <tr>\n",
       "      <th>G2</th>\n",
       "      <td>0.310776</td>\n",
       "      <td>-0.388814</td>\n",
       "    </tr>\n",
       "  </tbody>\n",
       "</table>\n",
       "</div>"
      ],
      "text/plain": [
       "              A         B\n",
       "Group                    \n",
       "G1     2.136484  0.648232\n",
       "G2     0.310776 -0.388814"
      ]
     },
     "execution_count": 37,
     "metadata": {},
     "output_type": "execute_result"
    }
   ],
   "source": [
    "df.xs(1, level='Num')"
   ]
  },
  {
   "cell_type": "markdown",
   "metadata": {
    "id": "rDR3GkehDOSl"
   },
   "source": [
    "## Methods for computing summary and descriptive statistics\n",
    "pandas objects have many reduction / summary statistics methods that extract a single value from the rows or columms of a DataFrame.  See Table 5-8 in *Python for Data Analysis* for a more complete list, but here are a few that are commonly used.\n",
    "\n",
    "`count`: number of non-NA values   \n",
    "`describe`: summary statistics for numerical columns   \n",
    "`min`, `max`: min and max values  \n",
    "`argmin`, `argmax`: index of min and max values (for Series only)   \n",
    "`idxmin`, `idxmax`: index or column name of min and max values  \n",
    "`sum`: sum of values  \n",
    "`cumsum` : cummulative sum\n",
    "`mean`: mean of values  \n",
    "`quantile`: quantile from 0 to 1 of values  \n",
    "`var`: (sample) variance of values  \n",
    "`std`: (sample) standard deviation of values  \n",
    "`df.corr()` and `df.cov()` will produce the correlation or covariance matrix.  Or two Series can be used to get the correlation (or covariance) with `Series1`.corr(`Series2`).\n",
    "\n",
    "Numpy functions can also be used: `np.corrcoef()`\n",
    "\n",
    "Most of these functions also take an `axis` argument which specifies whether to reduce over rows or columns: 0 for rows and 1 for columns.   \n",
    "There is also an argument `skipna` which specifies whether or not to skip missing values.  The default is True.\n"
   ]
  },
  {
   "cell_type": "code",
   "execution_count": 38,
   "metadata": {
    "colab": {
     "base_uri": "https://localhost:8080/"
    },
    "executionInfo": {
     "elapsed": 21,
     "status": "ok",
     "timestamp": 1736376058984,
     "user": {
      "displayName": "Jake Rhodes",
      "userId": "08644184539460642117"
     },
     "user_tz": 420
    },
    "id": "84wB2FoeDOSl",
    "outputId": "225f70ec-2e79-499a-9e1e-5352582bc935"
   },
   "outputs": [
    {
     "data": {
      "text/plain": [
       "13"
      ]
     },
     "execution_count": 38,
     "metadata": {},
     "output_type": "execute_result"
    }
   ],
   "source": [
    "iris.sepal_length.argmin()"
   ]
  },
  {
   "cell_type": "code",
   "execution_count": 39,
   "metadata": {
    "colab": {
     "base_uri": "https://localhost:8080/",
     "height": 423
    },
    "executionInfo": {
     "elapsed": 19,
     "status": "ok",
     "timestamp": 1736376058984,
     "user": {
      "displayName": "Jake Rhodes",
      "userId": "08644184539460642117"
     },
     "user_tz": 420
    },
    "id": "y99_yvm5DOSp",
    "outputId": "48d5f465-206e-40d1-8cc3-45e818fc4c5d"
   },
   "outputs": [
    {
     "data": {
      "text/html": [
       "<div>\n",
       "<style scoped>\n",
       "    .dataframe tbody tr th:only-of-type {\n",
       "        vertical-align: middle;\n",
       "    }\n",
       "\n",
       "    .dataframe tbody tr th {\n",
       "        vertical-align: top;\n",
       "    }\n",
       "\n",
       "    .dataframe thead th {\n",
       "        text-align: right;\n",
       "    }\n",
       "</style>\n",
       "<table border=\"1\" class=\"dataframe\">\n",
       "  <thead>\n",
       "    <tr style=\"text-align: right;\">\n",
       "      <th></th>\n",
       "      <th>sepal_length</th>\n",
       "      <th>sepal_width</th>\n",
       "      <th>petal_length</th>\n",
       "      <th>petal_width</th>\n",
       "      <th>species</th>\n",
       "    </tr>\n",
       "  </thead>\n",
       "  <tbody>\n",
       "    <tr>\n",
       "      <th>0</th>\n",
       "      <td>5.1</td>\n",
       "      <td>3.5</td>\n",
       "      <td>1.4</td>\n",
       "      <td>0.2</td>\n",
       "      <td>Iris-setosa</td>\n",
       "    </tr>\n",
       "    <tr>\n",
       "      <th>1</th>\n",
       "      <td>10.0</td>\n",
       "      <td>6.5</td>\n",
       "      <td>2.8</td>\n",
       "      <td>0.4</td>\n",
       "      <td>Iris-setosaIris-setosa</td>\n",
       "    </tr>\n",
       "    <tr>\n",
       "      <th>2</th>\n",
       "      <td>14.7</td>\n",
       "      <td>9.7</td>\n",
       "      <td>4.1</td>\n",
       "      <td>0.6</td>\n",
       "      <td>Iris-setosaIris-setosaIris-setosa</td>\n",
       "    </tr>\n",
       "    <tr>\n",
       "      <th>3</th>\n",
       "      <td>19.3</td>\n",
       "      <td>12.8</td>\n",
       "      <td>5.6</td>\n",
       "      <td>0.8</td>\n",
       "      <td>Iris-setosaIris-setosaIris-setosaIris-setosa</td>\n",
       "    </tr>\n",
       "    <tr>\n",
       "      <th>4</th>\n",
       "      <td>24.3</td>\n",
       "      <td>16.4</td>\n",
       "      <td>7.0</td>\n",
       "      <td>1.0</td>\n",
       "      <td>Iris-setosaIris-setosaIris-setosaIris-setosaIr...</td>\n",
       "    </tr>\n",
       "    <tr>\n",
       "      <th>...</th>\n",
       "      <td>...</td>\n",
       "      <td>...</td>\n",
       "      <td>...</td>\n",
       "      <td>...</td>\n",
       "      <td>...</td>\n",
       "    </tr>\n",
       "    <tr>\n",
       "      <th>145</th>\n",
       "      <td>851.6</td>\n",
       "      <td>446.2</td>\n",
       "      <td>543.1</td>\n",
       "      <td>171.8</td>\n",
       "      <td>Iris-setosaIris-setosaIris-setosaIris-setosaIr...</td>\n",
       "    </tr>\n",
       "    <tr>\n",
       "      <th>146</th>\n",
       "      <td>857.9</td>\n",
       "      <td>448.7</td>\n",
       "      <td>548.1</td>\n",
       "      <td>173.7</td>\n",
       "      <td>Iris-setosaIris-setosaIris-setosaIris-setosaIr...</td>\n",
       "    </tr>\n",
       "    <tr>\n",
       "      <th>147</th>\n",
       "      <td>864.4</td>\n",
       "      <td>451.7</td>\n",
       "      <td>553.3</td>\n",
       "      <td>175.7</td>\n",
       "      <td>Iris-setosaIris-setosaIris-setosaIris-setosaIr...</td>\n",
       "    </tr>\n",
       "    <tr>\n",
       "      <th>148</th>\n",
       "      <td>870.6</td>\n",
       "      <td>455.1</td>\n",
       "      <td>558.7</td>\n",
       "      <td>178.0</td>\n",
       "      <td>Iris-setosaIris-setosaIris-setosaIris-setosaIr...</td>\n",
       "    </tr>\n",
       "    <tr>\n",
       "      <th>149</th>\n",
       "      <td>876.5</td>\n",
       "      <td>458.1</td>\n",
       "      <td>563.8</td>\n",
       "      <td>179.8</td>\n",
       "      <td>Iris-setosaIris-setosaIris-setosaIris-setosaIr...</td>\n",
       "    </tr>\n",
       "  </tbody>\n",
       "</table>\n",
       "<p>150 rows × 5 columns</p>\n",
       "</div>"
      ],
      "text/plain": [
       "     sepal_length  sepal_width  petal_length  petal_width  \\\n",
       "0             5.1          3.5           1.4          0.2   \n",
       "1            10.0          6.5           2.8          0.4   \n",
       "2            14.7          9.7           4.1          0.6   \n",
       "3            19.3         12.8           5.6          0.8   \n",
       "4            24.3         16.4           7.0          1.0   \n",
       "..            ...          ...           ...          ...   \n",
       "145         851.6        446.2         543.1        171.8   \n",
       "146         857.9        448.7         548.1        173.7   \n",
       "147         864.4        451.7         553.3        175.7   \n",
       "148         870.6        455.1         558.7        178.0   \n",
       "149         876.5        458.1         563.8        179.8   \n",
       "\n",
       "                                               species  \n",
       "0                                          Iris-setosa  \n",
       "1                               Iris-setosaIris-setosa  \n",
       "2                    Iris-setosaIris-setosaIris-setosa  \n",
       "3         Iris-setosaIris-setosaIris-setosaIris-setosa  \n",
       "4    Iris-setosaIris-setosaIris-setosaIris-setosaIr...  \n",
       "..                                                 ...  \n",
       "145  Iris-setosaIris-setosaIris-setosaIris-setosaIr...  \n",
       "146  Iris-setosaIris-setosaIris-setosaIris-setosaIr...  \n",
       "147  Iris-setosaIris-setosaIris-setosaIris-setosaIr...  \n",
       "148  Iris-setosaIris-setosaIris-setosaIris-setosaIr...  \n",
       "149  Iris-setosaIris-setosaIris-setosaIris-setosaIr...  \n",
       "\n",
       "[150 rows x 5 columns]"
      ]
     },
     "execution_count": 39,
     "metadata": {},
     "output_type": "execute_result"
    }
   ],
   "source": [
    "iris.cumsum()"
   ]
  },
  {
   "cell_type": "markdown",
   "metadata": {
    "id": "PUMM3yHoDOSp"
   },
   "source": [
    "## Unique values and value counts\n",
    "\n",
    "``df.nunique()`` or ``df['column'].nunique()``  \n",
    "\n",
    "``df.value_counts()`` or ``df['column'].value_counts()``"
   ]
  },
  {
   "cell_type": "code",
   "execution_count": 40,
   "metadata": {
    "colab": {
     "base_uri": "https://localhost:8080/",
     "height": 241
    },
    "executionInfo": {
     "elapsed": 18,
     "status": "ok",
     "timestamp": 1736376058984,
     "user": {
      "displayName": "Jake Rhodes",
      "userId": "08644184539460642117"
     },
     "user_tz": 420
    },
    "id": "oUTcSnT6DOSp",
    "outputId": "81c12836-380d-46e0-bd43-555dc6fab669"
   },
   "outputs": [
    {
     "data": {
      "text/plain": [
       "sepal_length    35\n",
       "sepal_width     23\n",
       "petal_length    43\n",
       "petal_width     22\n",
       "species          3\n",
       "dtype: int64"
      ]
     },
     "execution_count": 40,
     "metadata": {},
     "output_type": "execute_result"
    }
   ],
   "source": [
    "iris.nunique()"
   ]
  },
  {
   "cell_type": "code",
   "execution_count": 41,
   "metadata": {
    "colab": {
     "base_uri": "https://localhost:8080/"
    },
    "executionInfo": {
     "elapsed": 930,
     "status": "ok",
     "timestamp": 1736376059897,
     "user": {
      "displayName": "Jake Rhodes",
      "userId": "08644184539460642117"
     },
     "user_tz": 420
    },
    "id": "D4xbl1-ODOSp",
    "outputId": "7a3b52e2-04d0-4d4f-9b60-25d75c39949a"
   },
   "outputs": [
    {
     "data": {
      "text/plain": [
       "array(['Iris-setosa', 'Iris-versicolor', 'Iris-virginica'], dtype=object)"
      ]
     },
     "execution_count": 41,
     "metadata": {},
     "output_type": "execute_result"
    }
   ],
   "source": [
    "iris.species.unique()"
   ]
  },
  {
   "cell_type": "markdown",
   "metadata": {
    "id": "ESR4rkimDOSp"
   },
   "source": [
    "`df.corr()` and `df.cov()` will produce the correlation or covariance matrix.  Or two Series can be used to get the correlation (or covariance) with `Series1`.corr(`Series2`).\n",
    "\n",
    "Numpy functions can also be used: `np.corrcoef()`"
   ]
  },
  {
   "cell_type": "code",
   "execution_count": 42,
   "metadata": {
    "colab": {
     "base_uri": "https://localhost:8080/",
     "height": 174
    },
    "executionInfo": {
     "elapsed": 28,
     "status": "ok",
     "timestamp": 1736376059897,
     "user": {
      "displayName": "Jake Rhodes",
      "userId": "08644184539460642117"
     },
     "user_tz": 420
    },
    "id": "roEKPoRSDOSp",
    "outputId": "fb21f599-bb7b-486a-bd81-73c2ebe6b92d"
   },
   "outputs": [
    {
     "data": {
      "text/html": [
       "<div>\n",
       "<style scoped>\n",
       "    .dataframe tbody tr th:only-of-type {\n",
       "        vertical-align: middle;\n",
       "    }\n",
       "\n",
       "    .dataframe tbody tr th {\n",
       "        vertical-align: top;\n",
       "    }\n",
       "\n",
       "    .dataframe thead th {\n",
       "        text-align: right;\n",
       "    }\n",
       "</style>\n",
       "<table border=\"1\" class=\"dataframe\">\n",
       "  <thead>\n",
       "    <tr style=\"text-align: right;\">\n",
       "      <th></th>\n",
       "      <th>sepal_length</th>\n",
       "      <th>sepal_width</th>\n",
       "      <th>petal_length</th>\n",
       "      <th>petal_width</th>\n",
       "    </tr>\n",
       "  </thead>\n",
       "  <tbody>\n",
       "    <tr>\n",
       "      <th>sepal_length</th>\n",
       "      <td>1.000000</td>\n",
       "      <td>-0.109369</td>\n",
       "      <td>0.871754</td>\n",
       "      <td>0.817954</td>\n",
       "    </tr>\n",
       "    <tr>\n",
       "      <th>sepal_width</th>\n",
       "      <td>-0.109369</td>\n",
       "      <td>1.000000</td>\n",
       "      <td>-0.420516</td>\n",
       "      <td>-0.356544</td>\n",
       "    </tr>\n",
       "    <tr>\n",
       "      <th>petal_length</th>\n",
       "      <td>0.871754</td>\n",
       "      <td>-0.420516</td>\n",
       "      <td>1.000000</td>\n",
       "      <td>0.962757</td>\n",
       "    </tr>\n",
       "    <tr>\n",
       "      <th>petal_width</th>\n",
       "      <td>0.817954</td>\n",
       "      <td>-0.356544</td>\n",
       "      <td>0.962757</td>\n",
       "      <td>1.000000</td>\n",
       "    </tr>\n",
       "  </tbody>\n",
       "</table>\n",
       "</div>"
      ],
      "text/plain": [
       "              sepal_length  sepal_width  petal_length  petal_width\n",
       "sepal_length      1.000000    -0.109369      0.871754     0.817954\n",
       "sepal_width      -0.109369     1.000000     -0.420516    -0.356544\n",
       "petal_length      0.871754    -0.420516      1.000000     0.962757\n",
       "petal_width       0.817954    -0.356544      0.962757     1.000000"
      ]
     },
     "execution_count": 42,
     "metadata": {},
     "output_type": "execute_result"
    }
   ],
   "source": [
    "iris.corr(numeric_only = True)"
   ]
  },
  {
   "cell_type": "markdown",
   "metadata": {
    "id": "lsur0pX4DOSp"
   },
   "source": [
    "---\n",
    "## Dropping rows and columns\n",
    "\n",
    "Columns and rows can be dropped with the `.drop()` method (using `axis=1` for columns and `axis=0` (default) for rows).  This method creates a new object unless `.inplace = True` is specified.\n",
    "\n",
    "The `del` command can also be used to drop columns in place."
   ]
  },
  {
   "cell_type": "code",
   "execution_count": 43,
   "metadata": {
    "colab": {
     "base_uri": "https://localhost:8080/",
     "height": 206
    },
    "executionInfo": {
     "elapsed": 27,
     "status": "ok",
     "timestamp": 1736376059897,
     "user": {
      "displayName": "Jake Rhodes",
      "userId": "08644184539460642117"
     },
     "user_tz": 420
    },
    "id": "dAK4DgoUDOSp",
    "outputId": "f51b6338-5ea3-40d4-ea3b-b5c345d81992"
   },
   "outputs": [
    {
     "data": {
      "text/html": [
       "<div>\n",
       "<style scoped>\n",
       "    .dataframe tbody tr th:only-of-type {\n",
       "        vertical-align: middle;\n",
       "    }\n",
       "\n",
       "    .dataframe tbody tr th {\n",
       "        vertical-align: top;\n",
       "    }\n",
       "\n",
       "    .dataframe thead th {\n",
       "        text-align: right;\n",
       "    }\n",
       "</style>\n",
       "<table border=\"1\" class=\"dataframe\">\n",
       "  <thead>\n",
       "    <tr style=\"text-align: right;\">\n",
       "      <th></th>\n",
       "      <th>sepal_length</th>\n",
       "      <th>sepal_width</th>\n",
       "      <th>petal_length</th>\n",
       "      <th>petal_width</th>\n",
       "    </tr>\n",
       "  </thead>\n",
       "  <tbody>\n",
       "    <tr>\n",
       "      <th>0</th>\n",
       "      <td>5.1</td>\n",
       "      <td>3.5</td>\n",
       "      <td>1.4</td>\n",
       "      <td>0.2</td>\n",
       "    </tr>\n",
       "    <tr>\n",
       "      <th>1</th>\n",
       "      <td>4.9</td>\n",
       "      <td>3.0</td>\n",
       "      <td>1.4</td>\n",
       "      <td>0.2</td>\n",
       "    </tr>\n",
       "    <tr>\n",
       "      <th>2</th>\n",
       "      <td>4.7</td>\n",
       "      <td>3.2</td>\n",
       "      <td>1.3</td>\n",
       "      <td>0.2</td>\n",
       "    </tr>\n",
       "    <tr>\n",
       "      <th>3</th>\n",
       "      <td>4.6</td>\n",
       "      <td>3.1</td>\n",
       "      <td>1.5</td>\n",
       "      <td>0.2</td>\n",
       "    </tr>\n",
       "    <tr>\n",
       "      <th>4</th>\n",
       "      <td>5.0</td>\n",
       "      <td>3.6</td>\n",
       "      <td>1.4</td>\n",
       "      <td>0.2</td>\n",
       "    </tr>\n",
       "  </tbody>\n",
       "</table>\n",
       "</div>"
      ],
      "text/plain": [
       "   sepal_length  sepal_width  petal_length  petal_width\n",
       "0           5.1          3.5           1.4          0.2\n",
       "1           4.9          3.0           1.4          0.2\n",
       "2           4.7          3.2           1.3          0.2\n",
       "3           4.6          3.1           1.5          0.2\n",
       "4           5.0          3.6           1.4          0.2"
      ]
     },
     "execution_count": 43,
     "metadata": {},
     "output_type": "execute_result"
    }
   ],
   "source": [
    "no_species = iris.drop('species', axis = 1)\n",
    "no_species.head()"
   ]
  },
  {
   "cell_type": "code",
   "execution_count": 44,
   "metadata": {
    "colab": {
     "base_uri": "https://localhost:8080/",
     "height": 206
    },
    "executionInfo": {
     "elapsed": 26,
     "status": "ok",
     "timestamp": 1736376059897,
     "user": {
      "displayName": "Jake Rhodes",
      "userId": "08644184539460642117"
     },
     "user_tz": 420
    },
    "id": "eHMeU8FJDOSp",
    "outputId": "09586af6-c5e0-4e47-a312-d29fbed6a7a5"
   },
   "outputs": [
    {
     "data": {
      "text/html": [
       "<div>\n",
       "<style scoped>\n",
       "    .dataframe tbody tr th:only-of-type {\n",
       "        vertical-align: middle;\n",
       "    }\n",
       "\n",
       "    .dataframe tbody tr th {\n",
       "        vertical-align: top;\n",
       "    }\n",
       "\n",
       "    .dataframe thead th {\n",
       "        text-align: right;\n",
       "    }\n",
       "</style>\n",
       "<table border=\"1\" class=\"dataframe\">\n",
       "  <thead>\n",
       "    <tr style=\"text-align: right;\">\n",
       "      <th></th>\n",
       "      <th>sepal_length</th>\n",
       "      <th>sepal_width</th>\n",
       "      <th>petal_length</th>\n",
       "      <th>petal_width</th>\n",
       "      <th>species</th>\n",
       "    </tr>\n",
       "  </thead>\n",
       "  <tbody>\n",
       "    <tr>\n",
       "      <th>0</th>\n",
       "      <td>5.1</td>\n",
       "      <td>3.5</td>\n",
       "      <td>1.4</td>\n",
       "      <td>0.2</td>\n",
       "      <td>Iris-setosa</td>\n",
       "    </tr>\n",
       "    <tr>\n",
       "      <th>1</th>\n",
       "      <td>4.9</td>\n",
       "      <td>3.0</td>\n",
       "      <td>1.4</td>\n",
       "      <td>0.2</td>\n",
       "      <td>Iris-setosa</td>\n",
       "    </tr>\n",
       "    <tr>\n",
       "      <th>2</th>\n",
       "      <td>4.7</td>\n",
       "      <td>3.2</td>\n",
       "      <td>1.3</td>\n",
       "      <td>0.2</td>\n",
       "      <td>Iris-setosa</td>\n",
       "    </tr>\n",
       "    <tr>\n",
       "      <th>3</th>\n",
       "      <td>4.6</td>\n",
       "      <td>3.1</td>\n",
       "      <td>1.5</td>\n",
       "      <td>0.2</td>\n",
       "      <td>Iris-setosa</td>\n",
       "    </tr>\n",
       "    <tr>\n",
       "      <th>4</th>\n",
       "      <td>5.0</td>\n",
       "      <td>3.6</td>\n",
       "      <td>1.4</td>\n",
       "      <td>0.2</td>\n",
       "      <td>Iris-setosa</td>\n",
       "    </tr>\n",
       "  </tbody>\n",
       "</table>\n",
       "</div>"
      ],
      "text/plain": [
       "   sepal_length  sepal_width  petal_length  petal_width      species\n",
       "0           5.1          3.5           1.4          0.2  Iris-setosa\n",
       "1           4.9          3.0           1.4          0.2  Iris-setosa\n",
       "2           4.7          3.2           1.3          0.2  Iris-setosa\n",
       "3           4.6          3.1           1.5          0.2  Iris-setosa\n",
       "4           5.0          3.6           1.4          0.2  Iris-setosa"
      ]
     },
     "execution_count": 44,
     "metadata": {},
     "output_type": "execute_result"
    }
   ],
   "source": [
    "# The original is unchanged if inplace = False\n",
    "iris.head()"
   ]
  },
  {
   "cell_type": "code",
   "execution_count": 34,
   "metadata": {
    "executionInfo": {
     "elapsed": 26,
     "status": "ok",
     "timestamp": 1736376059898,
     "user": {
      "displayName": "Jake Rhodes",
      "userId": "08644184539460642117"
     },
     "user_tz": 420
    },
    "id": "-qsRj2gRDOSp"
   },
   "outputs": [],
   "source": []
  },
  {
   "cell_type": "markdown",
   "metadata": {
    "id": "r0pjnWMmDOSp"
   },
   "source": [
    "## Adding columns\n",
    "\n",
    "Add a new column to the end of a data frame\n",
    "~~~\n",
    "df['new_col'] = value\n",
    "~~~\n",
    "\n",
    "Add a new column at a specific index\n",
    "\n",
    "`.insert(col_index, 'new_col_name', value(s))`"
   ]
  },
  {
   "cell_type": "code",
   "execution_count": 45,
   "metadata": {
    "executionInfo": {
     "elapsed": 26,
     "status": "ok",
     "timestamp": 1736376059898,
     "user": {
      "displayName": "Jake Rhodes",
      "userId": "08644184539460642117"
     },
     "user_tz": 420
    },
    "id": "LUvFmVgaDOSp"
   },
   "outputs": [],
   "source": [
    "iris['sum_petal_dims'] = iris['petal_length'] + iris['petal_width']"
   ]
  },
  {
   "cell_type": "code",
   "execution_count": 46,
   "metadata": {
    "colab": {
     "base_uri": "https://localhost:8080/",
     "height": 206
    },
    "executionInfo": {
     "elapsed": 26,
     "status": "ok",
     "timestamp": 1736376059898,
     "user": {
      "displayName": "Jake Rhodes",
      "userId": "08644184539460642117"
     },
     "user_tz": 420
    },
    "id": "tL1lm4BoDOSp",
    "outputId": "c7519199-effb-403d-92ef-9e275b395327"
   },
   "outputs": [
    {
     "data": {
      "text/html": [
       "<div>\n",
       "<style scoped>\n",
       "    .dataframe tbody tr th:only-of-type {\n",
       "        vertical-align: middle;\n",
       "    }\n",
       "\n",
       "    .dataframe tbody tr th {\n",
       "        vertical-align: top;\n",
       "    }\n",
       "\n",
       "    .dataframe thead th {\n",
       "        text-align: right;\n",
       "    }\n",
       "</style>\n",
       "<table border=\"1\" class=\"dataframe\">\n",
       "  <thead>\n",
       "    <tr style=\"text-align: right;\">\n",
       "      <th></th>\n",
       "      <th>sepal_length</th>\n",
       "      <th>sepal_width</th>\n",
       "      <th>petal_length</th>\n",
       "      <th>petal_width</th>\n",
       "      <th>species</th>\n",
       "      <th>sum_petal_dims</th>\n",
       "    </tr>\n",
       "  </thead>\n",
       "  <tbody>\n",
       "    <tr>\n",
       "      <th>0</th>\n",
       "      <td>5.1</td>\n",
       "      <td>3.5</td>\n",
       "      <td>1.4</td>\n",
       "      <td>0.2</td>\n",
       "      <td>Iris-setosa</td>\n",
       "      <td>1.6</td>\n",
       "    </tr>\n",
       "    <tr>\n",
       "      <th>1</th>\n",
       "      <td>4.9</td>\n",
       "      <td>3.0</td>\n",
       "      <td>1.4</td>\n",
       "      <td>0.2</td>\n",
       "      <td>Iris-setosa</td>\n",
       "      <td>1.6</td>\n",
       "    </tr>\n",
       "    <tr>\n",
       "      <th>2</th>\n",
       "      <td>4.7</td>\n",
       "      <td>3.2</td>\n",
       "      <td>1.3</td>\n",
       "      <td>0.2</td>\n",
       "      <td>Iris-setosa</td>\n",
       "      <td>1.5</td>\n",
       "    </tr>\n",
       "    <tr>\n",
       "      <th>3</th>\n",
       "      <td>4.6</td>\n",
       "      <td>3.1</td>\n",
       "      <td>1.5</td>\n",
       "      <td>0.2</td>\n",
       "      <td>Iris-setosa</td>\n",
       "      <td>1.7</td>\n",
       "    </tr>\n",
       "    <tr>\n",
       "      <th>4</th>\n",
       "      <td>5.0</td>\n",
       "      <td>3.6</td>\n",
       "      <td>1.4</td>\n",
       "      <td>0.2</td>\n",
       "      <td>Iris-setosa</td>\n",
       "      <td>1.6</td>\n",
       "    </tr>\n",
       "  </tbody>\n",
       "</table>\n",
       "</div>"
      ],
      "text/plain": [
       "   sepal_length  sepal_width  petal_length  petal_width      species  \\\n",
       "0           5.1          3.5           1.4          0.2  Iris-setosa   \n",
       "1           4.9          3.0           1.4          0.2  Iris-setosa   \n",
       "2           4.7          3.2           1.3          0.2  Iris-setosa   \n",
       "3           4.6          3.1           1.5          0.2  Iris-setosa   \n",
       "4           5.0          3.6           1.4          0.2  Iris-setosa   \n",
       "\n",
       "   sum_petal_dims  \n",
       "0             1.6  \n",
       "1             1.6  \n",
       "2             1.5  \n",
       "3             1.7  \n",
       "4             1.6  "
      ]
     },
     "execution_count": 46,
     "metadata": {},
     "output_type": "execute_result"
    }
   ],
   "source": [
    "iris.head()"
   ]
  },
  {
   "cell_type": "markdown",
   "metadata": {
    "id": "vJHMQ9bqDOSq"
   },
   "source": [
    "## Using Apply"
   ]
  },
  {
   "cell_type": "code",
   "execution_count": 47,
   "metadata": {
    "colab": {
     "base_uri": "https://localhost:8080/",
     "height": 458
    },
    "executionInfo": {
     "elapsed": 26,
     "status": "ok",
     "timestamp": 1736376059898,
     "user": {
      "displayName": "Jake Rhodes",
      "userId": "08644184539460642117"
     },
     "user_tz": 420
    },
    "id": "9R4Z4-TVDOSq",
    "outputId": "1ad79c56-df3f-4611-9821-6db00634ee38"
   },
   "outputs": [
    {
     "data": {
      "text/plain": [
       "0      1.629241\n",
       "1      1.589235\n",
       "2      1.547563\n",
       "3      1.526056\n",
       "4      1.609438\n",
       "         ...   \n",
       "145    1.902108\n",
       "146    1.840550\n",
       "147    1.871802\n",
       "148    1.824549\n",
       "149    1.774952\n",
       "Name: sepal_length, Length: 150, dtype: float64"
      ]
     },
     "execution_count": 47,
     "metadata": {},
     "output_type": "execute_result"
    }
   ],
   "source": [
    "iris['sepal_length'].apply(np.log)"
   ]
  },
  {
   "cell_type": "code",
   "execution_count": 48,
   "metadata": {
    "colab": {
     "base_uri": "https://localhost:8080/",
     "height": 458
    },
    "executionInfo": {
     "elapsed": 25,
     "status": "ok",
     "timestamp": 1736376059898,
     "user": {
      "displayName": "Jake Rhodes",
      "userId": "08644184539460642117"
     },
     "user_tz": 420
    },
    "id": "3bNrDTAXDOSq",
    "outputId": "751f727f-9a86-4f19-fe22-3d97e411105a"
   },
   "outputs": [
    {
     "data": {
      "text/plain": [
       "0      5.1\n",
       "1      4.9\n",
       "2      4.7\n",
       "3      4.6\n",
       "4      5.0\n",
       "      ... \n",
       "145    6.7\n",
       "146    6.3\n",
       "147    6.5\n",
       "148    6.2\n",
       "149    5.9\n",
       "Name: sepal_length, Length: 150, dtype: float64"
      ]
     },
     "execution_count": 48,
     "metadata": {},
     "output_type": "execute_result"
    }
   ],
   "source": [
    "# What happened?\n",
    "iris['sepal_length'].apply(np.mean)"
   ]
  },
  {
   "cell_type": "code",
   "execution_count": 49,
   "metadata": {
    "colab": {
     "base_uri": "https://localhost:8080/",
     "height": 209
    },
    "executionInfo": {
     "elapsed": 25,
     "status": "ok",
     "timestamp": 1736376059898,
     "user": {
      "displayName": "Jake Rhodes",
      "userId": "08644184539460642117"
     },
     "user_tz": 420
    },
    "id": "2TGrpObFDOSq",
    "outputId": "8e6864bc-6db8-47e0-bde7-30acec1817fb"
   },
   "outputs": [
    {
     "data": {
      "text/plain": [
       "sepal_length    5.843333\n",
       "sepal_width     3.054000\n",
       "petal_length    3.758667\n",
       "petal_width     1.198667\n",
       "dtype: float64"
      ]
     },
     "execution_count": 49,
     "metadata": {},
     "output_type": "execute_result"
    }
   ],
   "source": [
    "iris.iloc[:, 0:4].apply(np.mean)"
   ]
  },
  {
   "cell_type": "code",
   "execution_count": 50,
   "metadata": {
    "colab": {
     "base_uri": "https://localhost:8080/",
     "height": 458
    },
    "executionInfo": {
     "elapsed": 24,
     "status": "ok",
     "timestamp": 1736376059898,
     "user": {
      "displayName": "Jake Rhodes",
      "userId": "08644184539460642117"
     },
     "user_tz": 420
    },
    "id": "FCSdNVLHDOSq",
    "outputId": "cce99d6b-0244-4636-b65f-b5818138b251"
   },
   "outputs": [
    {
     "data": {
      "text/plain": [
       "0         Iris-Setosa\n",
       "1         Iris-Setosa\n",
       "2         Iris-Setosa\n",
       "3         Iris-Setosa\n",
       "4         Iris-Setosa\n",
       "            ...      \n",
       "145    Iris-Virginica\n",
       "146    Iris-Virginica\n",
       "147    Iris-Virginica\n",
       "148    Iris-Virginica\n",
       "149    Iris-Virginica\n",
       "Name: species, Length: 150, dtype: object"
      ]
     },
     "execution_count": 50,
     "metadata": {},
     "output_type": "execute_result"
    }
   ],
   "source": [
    "iris['species'].apply(lambda x: x.title())"
   ]
  },
  {
   "cell_type": "code",
   "execution_count": 51,
   "metadata": {
    "colab": {
     "base_uri": "https://localhost:8080/",
     "height": 458
    },
    "executionInfo": {
     "elapsed": 23,
     "status": "ok",
     "timestamp": 1736376059898,
     "user": {
      "displayName": "Jake Rhodes",
      "userId": "08644184539460642117"
     },
     "user_tz": 420
    },
    "id": "k4-TGxHFDOSq",
    "outputId": "ede6783b-deb1-41ca-cd1e-e7785ca0d86d"
   },
   "outputs": [
    {
     "data": {
      "text/plain": [
       "0         iris-setosa\n",
       "1         iris-setosa\n",
       "2         iris-setosa\n",
       "3         iris-setosa\n",
       "4         iris-setosa\n",
       "            ...      \n",
       "145    iris-virginica\n",
       "146    iris-virginica\n",
       "147    iris-virginica\n",
       "148    iris-virginica\n",
       "149    iris-virginica\n",
       "Name: species, Length: 150, dtype: object"
      ]
     },
     "execution_count": 51,
     "metadata": {},
     "output_type": "execute_result"
    }
   ],
   "source": [
    "iris['species'].str.lower()"
   ]
  },
  {
   "cell_type": "code",
   "execution_count": 52,
   "metadata": {
    "executionInfo": {
     "elapsed": 23,
     "status": "ok",
     "timestamp": 1736376059898,
     "user": {
      "displayName": "Jake Rhodes",
      "userId": "08644184539460642117"
     },
     "user_tz": 420
    },
    "id": "zVGP50VIDOSq"
   },
   "outputs": [],
   "source": [
    "def zero_one_scale(x):\n",
    "    return (x - np.min(x)) / (np.max(x)- np.min(x))"
   ]
  },
  {
   "cell_type": "code",
   "execution_count": 53,
   "metadata": {
    "colab": {
     "base_uri": "https://localhost:8080/",
     "height": 458
    },
    "executionInfo": {
     "elapsed": 23,
     "status": "ok",
     "timestamp": 1736376059898,
     "user": {
      "displayName": "Jake Rhodes",
      "userId": "08644184539460642117"
     },
     "user_tz": 420
    },
    "id": "ITZN99CpDOSq",
    "outputId": "08f8e936-de75-4ee0-f2d2-23f474aa6b7b"
   },
   "outputs": [
    {
     "data": {
      "text/plain": [
       "0      0.067797\n",
       "1      0.067797\n",
       "2      0.050847\n",
       "3      0.084746\n",
       "4      0.067797\n",
       "         ...   \n",
       "145    0.711864\n",
       "146    0.677966\n",
       "147    0.711864\n",
       "148    0.745763\n",
       "149    0.694915\n",
       "Name: petal_length, Length: 150, dtype: float64"
      ]
     },
     "execution_count": 53,
     "metadata": {},
     "output_type": "execute_result"
    }
   ],
   "source": [
    "zero_one_scale(iris.petal_length)"
   ]
  },
  {
   "cell_type": "code",
   "execution_count": 54,
   "metadata": {
    "colab": {
     "base_uri": "https://localhost:8080/",
     "height": 493
    },
    "executionInfo": {
     "elapsed": 23,
     "status": "ok",
     "timestamp": 1736376059898,
     "user": {
      "displayName": "Jake Rhodes",
      "userId": "08644184539460642117"
     },
     "user_tz": 420
    },
    "id": "5p7FiE5nDOSq",
    "outputId": "0cbba072-18f3-44ce-ef03-628b51044d3b"
   },
   "outputs": [
    {
     "data": {
      "text/plain": [
       "0     NaN\n",
       "1     NaN\n",
       "2     NaN\n",
       "3     NaN\n",
       "4     NaN\n",
       "       ..\n",
       "145   NaN\n",
       "146   NaN\n",
       "147   NaN\n",
       "148   NaN\n",
       "149   NaN\n",
       "Name: sepal_length, Length: 150, dtype: float64"
      ]
     },
     "execution_count": 54,
     "metadata": {},
     "output_type": "execute_result"
    }
   ],
   "source": [
    "## Why does this not work?\n",
    "iris['sepal_length'].apply(zero_one_scale)"
   ]
  },
  {
   "cell_type": "code",
   "execution_count": 55,
   "metadata": {
    "colab": {
     "base_uri": "https://localhost:8080/",
     "height": 493
    },
    "executionInfo": {
     "elapsed": 19,
     "status": "ok",
     "timestamp": 1736376059898,
     "user": {
      "displayName": "Jake Rhodes",
      "userId": "08644184539460642117"
     },
     "user_tz": 420
    },
    "id": "A9LTgdrHDOSq",
    "outputId": "215be296-76fa-4571-92cc-1833fe385536"
   },
   "outputs": [
    {
     "data": {
      "text/plain": [
       "0     NaN\n",
       "1     NaN\n",
       "2     NaN\n",
       "3     NaN\n",
       "4     NaN\n",
       "       ..\n",
       "145   NaN\n",
       "146   NaN\n",
       "147   NaN\n",
       "148   NaN\n",
       "149   NaN\n",
       "Name: petal_length, Length: 150, dtype: float64"
      ]
     },
     "execution_count": 55,
     "metadata": {},
     "output_type": "execute_result"
    }
   ],
   "source": [
    "## Why does this not work?\n",
    "iris['petal_length'].apply(lambda x: zero_one_scale(x))"
   ]
  },
  {
   "cell_type": "markdown",
   "metadata": {
    "id": "j70DQ1UeDOSq"
   },
   "source": [
    "## Missing Values\n",
    "\n",
    "**Ways to count missing values**\n",
    "~~~\n",
    "df.info()\n",
    "df.isna().sum()\n",
    "df.isna().sum(axis=0)\n",
    "~~~\n",
    "\n",
    "**Drop missing values with `.dropna()`**\n",
    "\n",
    "Calling `.dropna()` without any arguments will drop all rows with missing values\n",
    "\n",
    "Arguments:\n",
    "* `axis=1` will drop columns with missing values (default is `axis=0`)\n",
    "* `how='all'` will drop rows (or columns) if all the values are NA (default is `how='any'`)\n",
    "* `subset=` will limit na search to these specic columns (or indexes)\n",
    "    \n",
    "\n",
    "**Fill missing values with `.fillna()`**\n",
    "Arguments:\n",
    "* `value`: value used to fill.\n",
    "* `method'`: methods used to fill (forward or backward fill)\n"
   ]
  },
  {
   "cell_type": "code",
   "execution_count": 45,
   "metadata": {
    "executionInfo": {
     "elapsed": 18,
     "status": "ok",
     "timestamp": 1736376059898,
     "user": {
      "displayName": "Jake Rhodes",
      "userId": "08644184539460642117"
     },
     "user_tz": 420
    },
    "id": "ITwS7RGkDOSq"
   },
   "outputs": [],
   "source": []
  },
  {
   "cell_type": "code",
   "execution_count": 56,
   "metadata": {
    "colab": {
     "base_uri": "https://localhost:8080/",
     "height": 143
    },
    "executionInfo": {
     "elapsed": 17,
     "status": "ok",
     "timestamp": 1736376059898,
     "user": {
      "displayName": "Jake Rhodes",
      "userId": "08644184539460642117"
     },
     "user_tz": 420
    },
    "id": "QtJJpcCzDOSq",
    "outputId": "87bca7b6-c4ec-466f-f794-8b607cbc8fbb"
   },
   "outputs": [
    {
     "data": {
      "text/html": [
       "<div>\n",
       "<style scoped>\n",
       "    .dataframe tbody tr th:only-of-type {\n",
       "        vertical-align: middle;\n",
       "    }\n",
       "\n",
       "    .dataframe tbody tr th {\n",
       "        vertical-align: top;\n",
       "    }\n",
       "\n",
       "    .dataframe thead th {\n",
       "        text-align: right;\n",
       "    }\n",
       "</style>\n",
       "<table border=\"1\" class=\"dataframe\">\n",
       "  <thead>\n",
       "    <tr style=\"text-align: right;\">\n",
       "      <th></th>\n",
       "      <th>A</th>\n",
       "      <th>B</th>\n",
       "      <th>C</th>\n",
       "    </tr>\n",
       "  </thead>\n",
       "  <tbody>\n",
       "    <tr>\n",
       "      <th>0</th>\n",
       "      <td>1.0</td>\n",
       "      <td>NaN</td>\n",
       "      <td>7</td>\n",
       "    </tr>\n",
       "    <tr>\n",
       "      <th>1</th>\n",
       "      <td>2.0</td>\n",
       "      <td>4.0</td>\n",
       "      <td>8</td>\n",
       "    </tr>\n",
       "    <tr>\n",
       "      <th>2</th>\n",
       "      <td>NaN</td>\n",
       "      <td>6.0</td>\n",
       "      <td>9</td>\n",
       "    </tr>\n",
       "  </tbody>\n",
       "</table>\n",
       "</div>"
      ],
      "text/plain": [
       "     A    B  C\n",
       "0  1.0  NaN  7\n",
       "1  2.0  4.0  8\n",
       "2  NaN  6.0  9"
      ]
     },
     "execution_count": 56,
     "metadata": {},
     "output_type": "execute_result"
    }
   ],
   "source": [
    "# Creating a DataFrame with missing values\n",
    "missing_data = {'A': [1, 2, np.nan],\n",
    "        'B': [np.nan, 4, 6],\n",
    "        'C': [7, 8, 9]}\n",
    "\n",
    "m_df = pd.DataFrame(missing_data)\n",
    "m_df"
   ]
  },
  {
   "cell_type": "code",
   "execution_count": 57,
   "metadata": {
    "colab": {
     "base_uri": "https://localhost:8080/"
    },
    "executionInfo": {
     "elapsed": 17,
     "status": "ok",
     "timestamp": 1736376059898,
     "user": {
      "displayName": "Jake Rhodes",
      "userId": "08644184539460642117"
     },
     "user_tz": 420
    },
    "id": "KHY4b6NHDOSq",
    "outputId": "a5c77579-d2b8-4394-d3aa-ca1fe3bdab43"
   },
   "outputs": [
    {
     "name": "stdout",
     "output_type": "stream",
     "text": [
      "<class 'pandas.core.frame.DataFrame'>\n",
      "RangeIndex: 3 entries, 0 to 2\n",
      "Data columns (total 3 columns):\n",
      " #   Column  Non-Null Count  Dtype  \n",
      "---  ------  --------------  -----  \n",
      " 0   A       2 non-null      float64\n",
      " 1   B       2 non-null      float64\n",
      " 2   C       3 non-null      int64  \n",
      "dtypes: float64(2), int64(1)\n",
      "memory usage: 204.0 bytes\n"
     ]
    }
   ],
   "source": [
    "m_df.info()"
   ]
  },
  {
   "cell_type": "code",
   "execution_count": 58,
   "metadata": {
    "colab": {
     "base_uri": "https://localhost:8080/",
     "height": 143
    },
    "executionInfo": {
     "elapsed": 16,
     "status": "ok",
     "timestamp": 1736376059898,
     "user": {
      "displayName": "Jake Rhodes",
      "userId": "08644184539460642117"
     },
     "user_tz": 420
    },
    "id": "GU9Q9kgyDOSq",
    "outputId": "e4fcbd4e-19af-4b4f-a761-e194d018d6ef"
   },
   "outputs": [
    {
     "data": {
      "text/html": [
       "<div>\n",
       "<style scoped>\n",
       "    .dataframe tbody tr th:only-of-type {\n",
       "        vertical-align: middle;\n",
       "    }\n",
       "\n",
       "    .dataframe tbody tr th {\n",
       "        vertical-align: top;\n",
       "    }\n",
       "\n",
       "    .dataframe thead th {\n",
       "        text-align: right;\n",
       "    }\n",
       "</style>\n",
       "<table border=\"1\" class=\"dataframe\">\n",
       "  <thead>\n",
       "    <tr style=\"text-align: right;\">\n",
       "      <th></th>\n",
       "      <th>A</th>\n",
       "      <th>B</th>\n",
       "      <th>C</th>\n",
       "    </tr>\n",
       "  </thead>\n",
       "  <tbody>\n",
       "    <tr>\n",
       "      <th>0</th>\n",
       "      <td>False</td>\n",
       "      <td>True</td>\n",
       "      <td>False</td>\n",
       "    </tr>\n",
       "    <tr>\n",
       "      <th>1</th>\n",
       "      <td>False</td>\n",
       "      <td>False</td>\n",
       "      <td>False</td>\n",
       "    </tr>\n",
       "    <tr>\n",
       "      <th>2</th>\n",
       "      <td>True</td>\n",
       "      <td>False</td>\n",
       "      <td>False</td>\n",
       "    </tr>\n",
       "  </tbody>\n",
       "</table>\n",
       "</div>"
      ],
      "text/plain": [
       "       A      B      C\n",
       "0  False   True  False\n",
       "1  False  False  False\n",
       "2   True  False  False"
      ]
     },
     "execution_count": 58,
     "metadata": {},
     "output_type": "execute_result"
    }
   ],
   "source": [
    "# Check for missing values\n",
    "m_df.isna()"
   ]
  },
  {
   "cell_type": "code",
   "execution_count": 59,
   "metadata": {
    "colab": {
     "base_uri": "https://localhost:8080/",
     "height": 178
    },
    "executionInfo": {
     "elapsed": 15,
     "status": "ok",
     "timestamp": 1736376059898,
     "user": {
      "displayName": "Jake Rhodes",
      "userId": "08644184539460642117"
     },
     "user_tz": 420
    },
    "id": "OCyT7G1ZDOSq",
    "outputId": "dcc6c4a3-bc49-49ee-da5f-9d410b396324"
   },
   "outputs": [
    {
     "data": {
      "text/plain": [
       "A    1\n",
       "B    1\n",
       "C    0\n",
       "dtype: int64"
      ]
     },
     "execution_count": 59,
     "metadata": {},
     "output_type": "execute_result"
    }
   ],
   "source": [
    "# Check how many missing values\n",
    "m_df.isna().sum()"
   ]
  },
  {
   "cell_type": "code",
   "execution_count": 60,
   "metadata": {
    "colab": {
     "base_uri": "https://localhost:8080/",
     "height": 178
    },
    "executionInfo": {
     "elapsed": 642,
     "status": "ok",
     "timestamp": 1736376060526,
     "user": {
      "displayName": "Jake Rhodes",
      "userId": "08644184539460642117"
     },
     "user_tz": 420
    },
    "id": "v27TzUpgDOSq",
    "outputId": "adf8d8fe-1b03-469e-aac4-10a10be52d54"
   },
   "outputs": [
    {
     "data": {
      "text/plain": [
       "0    1\n",
       "1    0\n",
       "2    1\n",
       "dtype: int64"
      ]
     },
     "execution_count": 60,
     "metadata": {},
     "output_type": "execute_result"
    }
   ],
   "source": [
    "# Check how many missing values\n",
    "m_df.isna().sum(axis = 1)"
   ]
  },
  {
   "cell_type": "code",
   "execution_count": 61,
   "metadata": {
    "colab": {
     "base_uri": "https://localhost:8080/",
     "height": 143
    },
    "executionInfo": {
     "elapsed": 48,
     "status": "ok",
     "timestamp": 1736376060527,
     "user": {
      "displayName": "Jake Rhodes",
      "userId": "08644184539460642117"
     },
     "user_tz": 420
    },
    "id": "6HCStCbgDOSq",
    "outputId": "5a4f8ef6-b48b-4e3f-a971-b76aa0ca9c54"
   },
   "outputs": [
    {
     "data": {
      "text/html": [
       "<div>\n",
       "<style scoped>\n",
       "    .dataframe tbody tr th:only-of-type {\n",
       "        vertical-align: middle;\n",
       "    }\n",
       "\n",
       "    .dataframe tbody tr th {\n",
       "        vertical-align: top;\n",
       "    }\n",
       "\n",
       "    .dataframe thead th {\n",
       "        text-align: right;\n",
       "    }\n",
       "</style>\n",
       "<table border=\"1\" class=\"dataframe\">\n",
       "  <thead>\n",
       "    <tr style=\"text-align: right;\">\n",
       "      <th></th>\n",
       "      <th>A</th>\n",
       "      <th>B</th>\n",
       "      <th>C</th>\n",
       "    </tr>\n",
       "  </thead>\n",
       "  <tbody>\n",
       "    <tr>\n",
       "      <th>0</th>\n",
       "      <td>1.0</td>\n",
       "      <td>-1.0</td>\n",
       "      <td>7</td>\n",
       "    </tr>\n",
       "    <tr>\n",
       "      <th>1</th>\n",
       "      <td>2.0</td>\n",
       "      <td>4.0</td>\n",
       "      <td>8</td>\n",
       "    </tr>\n",
       "    <tr>\n",
       "      <th>2</th>\n",
       "      <td>-1.0</td>\n",
       "      <td>6.0</td>\n",
       "      <td>9</td>\n",
       "    </tr>\n",
       "  </tbody>\n",
       "</table>\n",
       "</div>"
      ],
      "text/plain": [
       "     A    B  C\n",
       "0  1.0 -1.0  7\n",
       "1  2.0  4.0  8\n",
       "2 -1.0  6.0  9"
      ]
     },
     "execution_count": 61,
     "metadata": {},
     "output_type": "execute_result"
    }
   ],
   "source": [
    "# Fill missing values\n",
    "df_filled = m_df.fillna(-1)\n",
    "df_filled"
   ]
  },
  {
   "cell_type": "code",
   "execution_count": 62,
   "metadata": {
    "colab": {
     "base_uri": "https://localhost:8080/",
     "height": 143
    },
    "executionInfo": {
     "elapsed": 47,
     "status": "ok",
     "timestamp": 1736376060527,
     "user": {
      "displayName": "Jake Rhodes",
      "userId": "08644184539460642117"
     },
     "user_tz": 420
    },
    "id": "OIGcsTZsDOSr",
    "outputId": "c4df951f-8a62-4434-c6c9-c6f50e102f18"
   },
   "outputs": [
    {
     "data": {
      "text/html": [
       "<div>\n",
       "<style scoped>\n",
       "    .dataframe tbody tr th:only-of-type {\n",
       "        vertical-align: middle;\n",
       "    }\n",
       "\n",
       "    .dataframe tbody tr th {\n",
       "        vertical-align: top;\n",
       "    }\n",
       "\n",
       "    .dataframe thead th {\n",
       "        text-align: right;\n",
       "    }\n",
       "</style>\n",
       "<table border=\"1\" class=\"dataframe\">\n",
       "  <thead>\n",
       "    <tr style=\"text-align: right;\">\n",
       "      <th></th>\n",
       "      <th>A</th>\n",
       "      <th>B</th>\n",
       "      <th>C</th>\n",
       "    </tr>\n",
       "  </thead>\n",
       "  <tbody>\n",
       "    <tr>\n",
       "      <th>0</th>\n",
       "      <td>1.0</td>\n",
       "      <td>NaN</td>\n",
       "      <td>7</td>\n",
       "    </tr>\n",
       "    <tr>\n",
       "      <th>1</th>\n",
       "      <td>2.0</td>\n",
       "      <td>4.0</td>\n",
       "      <td>8</td>\n",
       "    </tr>\n",
       "    <tr>\n",
       "      <th>2</th>\n",
       "      <td>NaN</td>\n",
       "      <td>6.0</td>\n",
       "      <td>9</td>\n",
       "    </tr>\n",
       "  </tbody>\n",
       "</table>\n",
       "</div>"
      ],
      "text/plain": [
       "     A    B  C\n",
       "0  1.0  NaN  7\n",
       "1  2.0  4.0  8\n",
       "2  NaN  6.0  9"
      ]
     },
     "execution_count": 62,
     "metadata": {},
     "output_type": "execute_result"
    }
   ],
   "source": [
    "m_df"
   ]
  },
  {
   "cell_type": "code",
   "execution_count": 63,
   "metadata": {
    "colab": {
     "base_uri": "https://localhost:8080/",
     "height": 143
    },
    "executionInfo": {
     "elapsed": 46,
     "status": "ok",
     "timestamp": 1736376060527,
     "user": {
      "displayName": "Jake Rhodes",
      "userId": "08644184539460642117"
     },
     "user_tz": 420
    },
    "id": "eankcnysDOSr",
    "outputId": "8c226ac3-6bf8-4f8f-b293-edb14571f3b6"
   },
   "outputs": [
    {
     "data": {
      "text/html": [
       "<div>\n",
       "<style scoped>\n",
       "    .dataframe tbody tr th:only-of-type {\n",
       "        vertical-align: middle;\n",
       "    }\n",
       "\n",
       "    .dataframe tbody tr th {\n",
       "        vertical-align: top;\n",
       "    }\n",
       "\n",
       "    .dataframe thead th {\n",
       "        text-align: right;\n",
       "    }\n",
       "</style>\n",
       "<table border=\"1\" class=\"dataframe\">\n",
       "  <thead>\n",
       "    <tr style=\"text-align: right;\">\n",
       "      <th></th>\n",
       "      <th>A</th>\n",
       "      <th>B</th>\n",
       "      <th>C</th>\n",
       "    </tr>\n",
       "  </thead>\n",
       "  <tbody>\n",
       "    <tr>\n",
       "      <th>0</th>\n",
       "      <td>1.0</td>\n",
       "      <td>5.0</td>\n",
       "      <td>7</td>\n",
       "    </tr>\n",
       "    <tr>\n",
       "      <th>1</th>\n",
       "      <td>2.0</td>\n",
       "      <td>4.0</td>\n",
       "      <td>8</td>\n",
       "    </tr>\n",
       "    <tr>\n",
       "      <th>2</th>\n",
       "      <td>1.5</td>\n",
       "      <td>6.0</td>\n",
       "      <td>9</td>\n",
       "    </tr>\n",
       "  </tbody>\n",
       "</table>\n",
       "</div>"
      ],
      "text/plain": [
       "     A    B  C\n",
       "0  1.0  5.0  7\n",
       "1  2.0  4.0  8\n",
       "2  1.5  6.0  9"
      ]
     },
     "execution_count": 63,
     "metadata": {},
     "output_type": "execute_result"
    }
   ],
   "source": [
    "# Fill with mean column value\n",
    "m_df.fillna(m_df.mean())"
   ]
  },
  {
   "cell_type": "code",
   "execution_count": 64,
   "metadata": {
    "colab": {
     "base_uri": "https://localhost:8080/",
     "height": 89
    },
    "executionInfo": {
     "elapsed": 46,
     "status": "ok",
     "timestamp": 1736376060527,
     "user": {
      "displayName": "Jake Rhodes",
      "userId": "08644184539460642117"
     },
     "user_tz": 420
    },
    "id": "F79glDWIDOSr",
    "outputId": "ddf5e70e-debc-46f9-c83a-838be3151bcf"
   },
   "outputs": [
    {
     "data": {
      "text/html": [
       "<div>\n",
       "<style scoped>\n",
       "    .dataframe tbody tr th:only-of-type {\n",
       "        vertical-align: middle;\n",
       "    }\n",
       "\n",
       "    .dataframe tbody tr th {\n",
       "        vertical-align: top;\n",
       "    }\n",
       "\n",
       "    .dataframe thead th {\n",
       "        text-align: right;\n",
       "    }\n",
       "</style>\n",
       "<table border=\"1\" class=\"dataframe\">\n",
       "  <thead>\n",
       "    <tr style=\"text-align: right;\">\n",
       "      <th></th>\n",
       "      <th>A</th>\n",
       "      <th>B</th>\n",
       "      <th>C</th>\n",
       "    </tr>\n",
       "  </thead>\n",
       "  <tbody>\n",
       "    <tr>\n",
       "      <th>1</th>\n",
       "      <td>2.0</td>\n",
       "      <td>4.0</td>\n",
       "      <td>8</td>\n",
       "    </tr>\n",
       "  </tbody>\n",
       "</table>\n",
       "</div>"
      ],
      "text/plain": [
       "     A    B  C\n",
       "1  2.0  4.0  8"
      ]
     },
     "execution_count": 64,
     "metadata": {},
     "output_type": "execute_result"
    }
   ],
   "source": [
    "# Remove rows with missing values\n",
    "df_dropped = m_df.dropna()\n",
    "\n",
    "# Display the cleaned DataFrame\n",
    "df_dropped"
   ]
  },
  {
   "cell_type": "code",
   "execution_count": 54,
   "metadata": {
    "executionInfo": {
     "elapsed": 45,
     "status": "ok",
     "timestamp": 1736376060527,
     "user": {
      "displayName": "Jake Rhodes",
      "userId": "08644184539460642117"
     },
     "user_tz": 420
    },
    "id": "kRnKSpZtDOSr"
   },
   "outputs": [],
   "source": []
  },
  {
   "cell_type": "code",
   "execution_count": 65,
   "metadata": {
    "colab": {
     "base_uri": "https://localhost:8080/",
     "height": 143
    },
    "executionInfo": {
     "elapsed": 44,
     "status": "ok",
     "timestamp": 1736376060527,
     "user": {
      "displayName": "Jake Rhodes",
      "userId": "08644184539460642117"
     },
     "user_tz": 420
    },
    "id": "Fk6R9FHnDOSr",
    "outputId": "27477006-2278-4d87-f95c-1af2b1e90901"
   },
   "outputs": [
    {
     "data": {
      "text/html": [
       "<div>\n",
       "<style scoped>\n",
       "    .dataframe tbody tr th:only-of-type {\n",
       "        vertical-align: middle;\n",
       "    }\n",
       "\n",
       "    .dataframe tbody tr th {\n",
       "        vertical-align: top;\n",
       "    }\n",
       "\n",
       "    .dataframe thead th {\n",
       "        text-align: right;\n",
       "    }\n",
       "</style>\n",
       "<table border=\"1\" class=\"dataframe\">\n",
       "  <thead>\n",
       "    <tr style=\"text-align: right;\">\n",
       "      <th></th>\n",
       "      <th></th>\n",
       "      <th>A</th>\n",
       "      <th>B</th>\n",
       "    </tr>\n",
       "    <tr>\n",
       "      <th>Group</th>\n",
       "      <th>Num</th>\n",
       "      <th></th>\n",
       "      <th></th>\n",
       "    </tr>\n",
       "  </thead>\n",
       "  <tbody>\n",
       "    <tr>\n",
       "      <th rowspan=\"3\" valign=\"top\">G1</th>\n",
       "      <th>1</th>\n",
       "      <td>2.136484</td>\n",
       "      <td>0.648232</td>\n",
       "    </tr>\n",
       "    <tr>\n",
       "      <th>2</th>\n",
       "      <td>-0.319808</td>\n",
       "      <td>-0.252079</td>\n",
       "    </tr>\n",
       "    <tr>\n",
       "      <th>3</th>\n",
       "      <td>-2.808421</td>\n",
       "      <td>-0.291600</td>\n",
       "    </tr>\n",
       "    <tr>\n",
       "      <th rowspan=\"2\" valign=\"top\">G2</th>\n",
       "      <th>1</th>\n",
       "      <td>0.310776</td>\n",
       "      <td>-0.388814</td>\n",
       "    </tr>\n",
       "    <tr>\n",
       "      <th>2</th>\n",
       "      <td>-0.551391</td>\n",
       "      <td>-0.467918</td>\n",
       "    </tr>\n",
       "  </tbody>\n",
       "</table>\n",
       "</div>"
      ],
      "text/plain": [
       "                  A         B\n",
       "Group Num                    \n",
       "G1    1    2.136484  0.648232\n",
       "      2   -0.319808 -0.252079\n",
       "      3   -2.808421 -0.291600\n",
       "G2    1    0.310776 -0.388814\n",
       "      2   -0.551391 -0.467918"
      ]
     },
     "execution_count": 65,
     "metadata": {},
     "output_type": "execute_result"
    }
   ],
   "source": [
    "df.head()"
   ]
  },
  {
   "cell_type": "code",
   "execution_count": 66,
   "metadata": {
    "colab": {
     "base_uri": "https://localhost:8080/"
    },
    "executionInfo": {
     "elapsed": 43,
     "status": "ok",
     "timestamp": 1736376060527,
     "user": {
      "displayName": "Jake Rhodes",
      "userId": "08644184539460642117"
     },
     "user_tz": 420
    },
    "id": "kC2YbnmNDOSr",
    "outputId": "33f14c80-a208-4ffd-9375-a53b890e06f7"
   },
   "outputs": [
    {
     "name": "stdout",
     "output_type": "stream",
     "text": [
      "          A         B\n",
      "0  2.136484  0.648232\n",
      "1 -0.319808 -0.252079\n",
      "2 -2.808421 -0.291600\n",
      "3  0.310776 -0.388814\n",
      "4 -0.551391 -0.467918\n",
      "5 -0.312529  0.366204\n"
     ]
    }
   ],
   "source": [
    "# Write DataFrame to a CSV file\n",
    "df.to_csv('data.csv', index=False)\n",
    "\n",
    "# Read data from a CSV file\n",
    "new_df = pd.read_csv('data.csv')\n",
    "\n",
    "# Display the DataFrame\n",
    "print(new_df)\n"
   ]
  },
  {
   "cell_type": "code",
   "execution_count": 56,
   "metadata": {
    "executionInfo": {
     "elapsed": 39,
     "status": "ok",
     "timestamp": 1736376060527,
     "user": {
      "displayName": "Jake Rhodes",
      "userId": "08644184539460642117"
     },
     "user_tz": 420
    },
    "id": "FNXp4rwnDOSr"
   },
   "outputs": [],
   "source": []
  },
  {
   "cell_type": "markdown",
   "metadata": {
    "id": "G1eejwalDOSr"
   },
   "source": [
    "## Groupby, Aggregation\n",
    "\n",
    "### Use Titanic data example here"
   ]
  },
  {
   "cell_type": "code",
   "execution_count": 67,
   "metadata": {
    "executionInfo": {
     "elapsed": 38,
     "status": "ok",
     "timestamp": 1736376060527,
     "user": {
      "displayName": "Jake Rhodes",
      "userId": "08644184539460642117"
     },
     "user_tz": 420
    },
    "id": "Hv9TS_UaDOSr"
   },
   "outputs": [],
   "source": [
    "## Titanic data\n",
    "from sklearn.datasets import fetch_openml\n",
    "dat = fetch_openml(data_id=40945, parser = 'auto')\n",
    "titanic = dat.frame"
   ]
  },
  {
   "cell_type": "code",
   "execution_count": 68,
   "metadata": {
    "colab": {
     "base_uri": "https://localhost:8080/",
     "height": 538
    },
    "executionInfo": {
     "elapsed": 38,
     "status": "ok",
     "timestamp": 1736376060527,
     "user": {
      "displayName": "Jake Rhodes",
      "userId": "08644184539460642117"
     },
     "user_tz": 420
    },
    "id": "Tl34baO9DOSr",
    "outputId": "46b0a2a3-dbba-4ecc-c225-3951fe00a9d1"
   },
   "outputs": [
    {
     "data": {
      "text/html": [
       "<div>\n",
       "<style scoped>\n",
       "    .dataframe tbody tr th:only-of-type {\n",
       "        vertical-align: middle;\n",
       "    }\n",
       "\n",
       "    .dataframe tbody tr th {\n",
       "        vertical-align: top;\n",
       "    }\n",
       "\n",
       "    .dataframe thead th {\n",
       "        text-align: right;\n",
       "    }\n",
       "</style>\n",
       "<table border=\"1\" class=\"dataframe\">\n",
       "  <thead>\n",
       "    <tr style=\"text-align: right;\">\n",
       "      <th></th>\n",
       "      <th>pclass</th>\n",
       "      <th>survived</th>\n",
       "      <th>name</th>\n",
       "      <th>sex</th>\n",
       "      <th>age</th>\n",
       "      <th>sibsp</th>\n",
       "      <th>parch</th>\n",
       "      <th>ticket</th>\n",
       "      <th>fare</th>\n",
       "      <th>cabin</th>\n",
       "      <th>embarked</th>\n",
       "      <th>boat</th>\n",
       "      <th>body</th>\n",
       "      <th>home.dest</th>\n",
       "    </tr>\n",
       "  </thead>\n",
       "  <tbody>\n",
       "    <tr>\n",
       "      <th>0</th>\n",
       "      <td>1</td>\n",
       "      <td>1</td>\n",
       "      <td>Allen, Miss. Elisabeth Walton</td>\n",
       "      <td>female</td>\n",
       "      <td>29.0000</td>\n",
       "      <td>0</td>\n",
       "      <td>0</td>\n",
       "      <td>24160</td>\n",
       "      <td>211.3375</td>\n",
       "      <td>B5</td>\n",
       "      <td>S</td>\n",
       "      <td>2</td>\n",
       "      <td>NaN</td>\n",
       "      <td>St Louis, MO</td>\n",
       "    </tr>\n",
       "    <tr>\n",
       "      <th>1</th>\n",
       "      <td>1</td>\n",
       "      <td>1</td>\n",
       "      <td>Allison, Master. Hudson Trevor</td>\n",
       "      <td>male</td>\n",
       "      <td>0.9167</td>\n",
       "      <td>1</td>\n",
       "      <td>2</td>\n",
       "      <td>113781</td>\n",
       "      <td>151.5500</td>\n",
       "      <td>C22 C26</td>\n",
       "      <td>S</td>\n",
       "      <td>11</td>\n",
       "      <td>NaN</td>\n",
       "      <td>Montreal, PQ / Chesterville, ON</td>\n",
       "    </tr>\n",
       "    <tr>\n",
       "      <th>2</th>\n",
       "      <td>1</td>\n",
       "      <td>0</td>\n",
       "      <td>Allison, Miss. Helen Loraine</td>\n",
       "      <td>female</td>\n",
       "      <td>2.0000</td>\n",
       "      <td>1</td>\n",
       "      <td>2</td>\n",
       "      <td>113781</td>\n",
       "      <td>151.5500</td>\n",
       "      <td>C22 C26</td>\n",
       "      <td>S</td>\n",
       "      <td>NaN</td>\n",
       "      <td>NaN</td>\n",
       "      <td>Montreal, PQ / Chesterville, ON</td>\n",
       "    </tr>\n",
       "    <tr>\n",
       "      <th>3</th>\n",
       "      <td>1</td>\n",
       "      <td>0</td>\n",
       "      <td>Allison, Mr. Hudson Joshua Creighton</td>\n",
       "      <td>male</td>\n",
       "      <td>30.0000</td>\n",
       "      <td>1</td>\n",
       "      <td>2</td>\n",
       "      <td>113781</td>\n",
       "      <td>151.5500</td>\n",
       "      <td>C22 C26</td>\n",
       "      <td>S</td>\n",
       "      <td>NaN</td>\n",
       "      <td>135.0</td>\n",
       "      <td>Montreal, PQ / Chesterville, ON</td>\n",
       "    </tr>\n",
       "    <tr>\n",
       "      <th>4</th>\n",
       "      <td>1</td>\n",
       "      <td>0</td>\n",
       "      <td>Allison, Mrs. Hudson J C (Bessie Waldo Daniels)</td>\n",
       "      <td>female</td>\n",
       "      <td>25.0000</td>\n",
       "      <td>1</td>\n",
       "      <td>2</td>\n",
       "      <td>113781</td>\n",
       "      <td>151.5500</td>\n",
       "      <td>C22 C26</td>\n",
       "      <td>S</td>\n",
       "      <td>NaN</td>\n",
       "      <td>NaN</td>\n",
       "      <td>Montreal, PQ / Chesterville, ON</td>\n",
       "    </tr>\n",
       "  </tbody>\n",
       "</table>\n",
       "</div>"
      ],
      "text/plain": [
       "   pclass survived                                             name     sex  \\\n",
       "0       1        1                    Allen, Miss. Elisabeth Walton  female   \n",
       "1       1        1                   Allison, Master. Hudson Trevor    male   \n",
       "2       1        0                     Allison, Miss. Helen Loraine  female   \n",
       "3       1        0             Allison, Mr. Hudson Joshua Creighton    male   \n",
       "4       1        0  Allison, Mrs. Hudson J C (Bessie Waldo Daniels)  female   \n",
       "\n",
       "       age  sibsp  parch  ticket      fare    cabin embarked boat   body  \\\n",
       "0  29.0000      0      0   24160  211.3375       B5        S    2    NaN   \n",
       "1   0.9167      1      2  113781  151.5500  C22 C26        S   11    NaN   \n",
       "2   2.0000      1      2  113781  151.5500  C22 C26        S  NaN    NaN   \n",
       "3  30.0000      1      2  113781  151.5500  C22 C26        S  NaN  135.0   \n",
       "4  25.0000      1      2  113781  151.5500  C22 C26        S  NaN    NaN   \n",
       "\n",
       "                         home.dest  \n",
       "0                     St Louis, MO  \n",
       "1  Montreal, PQ / Chesterville, ON  \n",
       "2  Montreal, PQ / Chesterville, ON  \n",
       "3  Montreal, PQ / Chesterville, ON  \n",
       "4  Montreal, PQ / Chesterville, ON  "
      ]
     },
     "execution_count": 68,
     "metadata": {},
     "output_type": "execute_result"
    }
   ],
   "source": [
    "titanic.head()"
   ]
  },
  {
   "cell_type": "code",
   "execution_count": 69,
   "metadata": {
    "executionInfo": {
     "elapsed": 37,
     "status": "ok",
     "timestamp": 1736376060527,
     "user": {
      "displayName": "Jake Rhodes",
      "userId": "08644184539460642117"
     },
     "user_tz": 420
    },
    "id": "0SMlggWJDOSr"
   },
   "outputs": [],
   "source": [
    "titanic.drop('name', axis = 1, inplace = True)"
   ]
  },
  {
   "cell_type": "code",
   "execution_count": 70,
   "metadata": {
    "colab": {
     "base_uri": "https://localhost:8080/"
    },
    "executionInfo": {
     "elapsed": 36,
     "status": "ok",
     "timestamp": 1736376060527,
     "user": {
      "displayName": "Jake Rhodes",
      "userId": "08644184539460642117"
     },
     "user_tz": 420
    },
    "id": "sTvRRlnvDOSr",
    "outputId": "42b5815f-cde6-4dcd-93bf-cd8e4564ceea"
   },
   "outputs": [
    {
     "name": "stdout",
     "output_type": "stream",
     "text": [
      "Age By Sex:\n",
      " sex\n",
      "female    28.687071\n",
      "male      30.585233\n",
      "Name: age, dtype: float64\n"
     ]
    }
   ],
   "source": [
    "# Average age by sex\n",
    "age_by_sex = titanic.groupby('sex')['age'].mean()\n",
    "\n",
    "# Display the aggregated data\n",
    "print(\"Age By Sex:\\n\", age_by_sex)\n"
   ]
  },
  {
   "cell_type": "code",
   "execution_count": 71,
   "metadata": {
    "colab": {
     "base_uri": "https://localhost:8080/",
     "height": 358
    },
    "executionInfo": {
     "elapsed": 34,
     "status": "ok",
     "timestamp": 1736376060527,
     "user": {
      "displayName": "Jake Rhodes",
      "userId": "08644184539460642117"
     },
     "user_tz": 420
    },
    "id": "LyEi4Hw0DOSr",
    "outputId": "e7c477f4-0cc2-49b4-df59-8ae106ebff8b"
   },
   "outputs": [
    {
     "data": {
      "text/plain": [
       "sex     pclass\n",
       "female  1         37.037594\n",
       "        2         27.499191\n",
       "        3         22.185307\n",
       "male    1         41.029250\n",
       "        2         30.815401\n",
       "        3         25.962273\n",
       "Name: age, dtype: float64"
      ]
     },
     "execution_count": 71,
     "metadata": {},
     "output_type": "execute_result"
    }
   ],
   "source": [
    "# Multiple Grouping Categories\n",
    "titanic.groupby(['sex', 'pclass'])['age'].mean()"
   ]
  },
  {
   "cell_type": "code",
   "execution_count": 72,
   "metadata": {
    "colab": {
     "base_uri": "https://localhost:8080/",
     "height": 198
    },
    "executionInfo": {
     "elapsed": 31,
     "status": "ok",
     "timestamp": 1736376060527,
     "user": {
      "displayName": "Jake Rhodes",
      "userId": "08644184539460642117"
     },
     "user_tz": 420
    },
    "id": "YMWIodYrDOSr",
    "outputId": "56e22225-4e0c-4a12-eeb5-2aff0552c741"
   },
   "outputs": [
    {
     "data": {
      "text/html": [
       "<div>\n",
       "<style scoped>\n",
       "    .dataframe tbody tr th:only-of-type {\n",
       "        vertical-align: middle;\n",
       "    }\n",
       "\n",
       "    .dataframe tbody tr th {\n",
       "        vertical-align: top;\n",
       "    }\n",
       "\n",
       "    .dataframe thead th {\n",
       "        text-align: right;\n",
       "    }\n",
       "</style>\n",
       "<table border=\"1\" class=\"dataframe\">\n",
       "  <thead>\n",
       "    <tr style=\"text-align: right;\">\n",
       "      <th></th>\n",
       "      <th>age</th>\n",
       "      <th>fare</th>\n",
       "    </tr>\n",
       "    <tr>\n",
       "      <th>sex</th>\n",
       "      <th></th>\n",
       "      <th></th>\n",
       "    </tr>\n",
       "  </thead>\n",
       "  <tbody>\n",
       "    <tr>\n",
       "      <th>female</th>\n",
       "      <td>28.687071</td>\n",
       "      <td>46.198097</td>\n",
       "    </tr>\n",
       "    <tr>\n",
       "      <th>male</th>\n",
       "      <td>30.585233</td>\n",
       "      <td>26.154601</td>\n",
       "    </tr>\n",
       "  </tbody>\n",
       "</table>\n",
       "</div>"
      ],
      "text/plain": [
       "              age       fare\n",
       "sex                         \n",
       "female  28.687071  46.198097\n",
       "male    30.585233  26.154601"
      ]
     },
     "execution_count": 72,
     "metadata": {},
     "output_type": "execute_result"
    }
   ],
   "source": [
    "# Multiple Target Variables\n",
    "titanic.groupby(['sex'])[['age', 'fare']].mean()"
   ]
  },
  {
   "cell_type": "code",
   "execution_count": 73,
   "metadata": {
    "colab": {
     "base_uri": "https://localhost:8080/",
     "height": 198
    },
    "executionInfo": {
     "elapsed": 29,
     "status": "ok",
     "timestamp": 1736376060527,
     "user": {
      "displayName": "Jake Rhodes",
      "userId": "08644184539460642117"
     },
     "user_tz": 420
    },
    "id": "_U7b4rMMDOSr",
    "outputId": "41d3d976-429b-4c45-acc0-c63008f08f4b"
   },
   "outputs": [
    {
     "data": {
      "text/html": [
       "<div>\n",
       "<style scoped>\n",
       "    .dataframe tbody tr th:only-of-type {\n",
       "        vertical-align: middle;\n",
       "    }\n",
       "\n",
       "    .dataframe tbody tr th {\n",
       "        vertical-align: top;\n",
       "    }\n",
       "\n",
       "    .dataframe thead th {\n",
       "        text-align: right;\n",
       "    }\n",
       "</style>\n",
       "<table border=\"1\" class=\"dataframe\">\n",
       "  <thead>\n",
       "    <tr style=\"text-align: right;\">\n",
       "      <th></th>\n",
       "      <th>mean</th>\n",
       "      <th>max</th>\n",
       "      <th>min</th>\n",
       "      <th>sum</th>\n",
       "    </tr>\n",
       "    <tr>\n",
       "      <th>sex</th>\n",
       "      <th></th>\n",
       "      <th></th>\n",
       "      <th></th>\n",
       "      <th></th>\n",
       "    </tr>\n",
       "  </thead>\n",
       "  <tbody>\n",
       "    <tr>\n",
       "      <th>female</th>\n",
       "      <td>29.0</td>\n",
       "      <td>76.0</td>\n",
       "      <td>0.0</td>\n",
       "      <td>11131.0</td>\n",
       "    </tr>\n",
       "    <tr>\n",
       "      <th>male</th>\n",
       "      <td>31.0</td>\n",
       "      <td>80.0</td>\n",
       "      <td>0.0</td>\n",
       "      <td>20125.0</td>\n",
       "    </tr>\n",
       "  </tbody>\n",
       "</table>\n",
       "</div>"
      ],
      "text/plain": [
       "        mean   max  min      sum\n",
       "sex                             \n",
       "female  29.0  76.0  0.0  11131.0\n",
       "male    31.0  80.0  0.0  20125.0"
      ]
     },
     "execution_count": 73,
     "metadata": {},
     "output_type": "execute_result"
    }
   ],
   "source": [
    "# Multiple Aggregations\n",
    "titanic.groupby('sex')['age'].agg(['mean', 'max', 'min', 'sum']).round()\n"
   ]
  },
  {
   "cell_type": "code",
   "execution_count": 74,
   "metadata": {
    "colab": {
     "base_uri": "https://localhost:8080/",
     "height": 233
    },
    "executionInfo": {
     "elapsed": 28,
     "status": "ok",
     "timestamp": 1736376060527,
     "user": {
      "displayName": "Jake Rhodes",
      "userId": "08644184539460642117"
     },
     "user_tz": 420
    },
    "id": "e9Lr7yTbDOSr",
    "outputId": "c6160ac0-c19c-4a61-cab5-6353c84375e6"
   },
   "outputs": [
    {
     "data": {
      "text/plain": [
       "sex\n",
       "female    505.5792\n",
       "male      512.3292\n",
       "Name: fare, dtype: float64"
      ]
     },
     "execution_count": 74,
     "metadata": {},
     "output_type": "execute_result"
    }
   ],
   "source": [
    "# Define a custom aggregation function\n",
    "def range(series):\n",
    "    return series.max() - series.min()\n",
    "\n",
    "titanic.groupby('sex')['fare'].agg(range)\n"
   ]
  },
  {
   "cell_type": "code",
   "execution_count": 75,
   "metadata": {
    "colab": {
     "base_uri": "https://localhost:8080/"
    },
    "executionInfo": {
     "elapsed": 27,
     "status": "ok",
     "timestamp": 1736376060527,
     "user": {
      "displayName": "Jake Rhodes",
      "userId": "08644184539460642117"
     },
     "user_tz": 420
    },
    "id": "541_jlcGDOSr",
    "outputId": "5616e22f-aee8-4b12-84fb-d94306315944"
   },
   "outputs": [
    {
     "name": "stdout",
     "output_type": "stream",
     "text": [
      "Region-wise Summary:\n",
      "                                      total_fare  agerage_fare  average_age\n",
      "home.dest                                                                 \n",
      "?Havana, Cuba                           27.7208       27.7208    28.500000\n",
      "Aberdeen / Portland, OR                 31.5000       15.7500    26.000000\n",
      "Albany, NY                              28.5375       28.5375    31.000000\n",
      "Altdorf, Switzerland                    35.6000       17.8000    21.500000\n",
      "Amenia, ND                             122.3500       61.1750    46.500000\n",
      "...                                         ...           ...          ...\n",
      "Worcester, England                      26.0000       26.0000    19.000000\n",
      "Worcester, MA                           65.0000       32.5000    37.000000\n",
      "Yoevil, England / Cottage Grove, OR     13.5000       13.5000    26.000000\n",
      "Youngstown, OH                         659.4668      164.8667    40.750000\n",
      "Zurich, Switzerland                    207.9000       69.3000    43.333333\n",
      "\n",
      "[369 rows x 3 columns]\n"
     ]
    }
   ],
   "source": [
    "# Group data by 'Region' and apply named aggregations to multiple columns\n",
    "region_summary = titanic.groupby('home.dest').agg(\n",
    "    total_fare=('fare', 'sum'),\n",
    "    agerage_fare=('fare', 'mean'),\n",
    "    average_age=('age', 'mean')\n",
    ")\n",
    "\n",
    "# Display the summary for each region\n",
    "print(\"Region-wise Summary:\\n\", region_summary)\n"
   ]
  },
  {
   "cell_type": "code",
   "execution_count": 65,
   "metadata": {
    "executionInfo": {
     "elapsed": 25,
     "status": "ok",
     "timestamp": 1736376060527,
     "user": {
      "displayName": "Jake Rhodes",
      "userId": "08644184539460642117"
     },
     "user_tz": 420
    },
    "id": "cL8GvVyeDOSs"
   },
   "outputs": [],
   "source": []
  },
  {
   "cell_type": "code",
   "execution_count": 76,
   "metadata": {
    "executionInfo": {
     "elapsed": 25,
     "status": "ok",
     "timestamp": 1736376060527,
     "user": {
      "displayName": "Jake Rhodes",
      "userId": "08644184539460642117"
     },
     "user_tz": 420
    },
    "id": "8ZE0YnVpDOSs"
   },
   "outputs": [],
   "source": [
    "# Need dataset to use concat, merge, etc.; check Shannon's files"
   ]
  },
  {
   "cell_type": "code",
   "execution_count": 77,
   "metadata": {
    "colab": {
     "base_uri": "https://localhost:8080/"
    },
    "executionInfo": {
     "elapsed": 25,
     "status": "ok",
     "timestamp": 1736376060527,
     "user": {
      "displayName": "Jake Rhodes",
      "userId": "08644184539460642117"
     },
     "user_tz": 420
    },
    "id": "CJnhwnIPDOSs",
    "outputId": "c03f3a61-9aae-4f99-b8ca-35ca963a621a"
   },
   "outputs": [
    {
     "name": "stdout",
     "output_type": "stream",
     "text": [
      "Concatenated DataFrame:\n",
      "     A   B\n",
      "0  A0  B0\n",
      "1  A1  B1\n",
      "2  A2  B2\n",
      "0  A3  B3\n",
      "1  A4  B4\n",
      "2  A5  B5\n"
     ]
    }
   ],
   "source": [
    "import pandas as pd\n",
    "\n",
    "# Create two DataFrames\n",
    "df1 = pd.DataFrame({'A': ['A0', 'A1', 'A2'],\n",
    "                    'B': ['B0', 'B1', 'B2']})\n",
    "\n",
    "df2 = pd.DataFrame({'A': ['A3', 'A4', 'A5'],\n",
    "                    'B': ['B3', 'B4', 'B5']})\n",
    "\n",
    "# Concatenate DataFrames vertically\n",
    "result = pd.concat([df1, df2], axis=0)\n",
    "\n",
    "# Display the concatenated DataFrame\n",
    "print(\"Concatenated DataFrame:\\n\", result)\n"
   ]
  },
  {
   "cell_type": "code",
   "execution_count": 78,
   "metadata": {
    "colab": {
     "base_uri": "https://localhost:8080/"
    },
    "executionInfo": {
     "elapsed": 23,
     "status": "ok",
     "timestamp": 1736376060527,
     "user": {
      "displayName": "Jake Rhodes",
      "userId": "08644184539460642117"
     },
     "user_tz": 420
    },
    "id": "yB4TMeu4DOSs",
    "outputId": "dbdcd8e3-581c-4a34-e0f1-455e48aeb60e"
   },
   "outputs": [
    {
     "name": "stdout",
     "output_type": "stream",
     "text": [
      "Inner Merge:\n",
      "   key  value_left  value_right\n",
      "0   B           2            4\n",
      "1   C           3            5\n"
     ]
    }
   ],
   "source": [
    "# Create two DataFrames with a common column 'key'\n",
    "left = pd.DataFrame({'key': ['A', 'B', 'C'],\n",
    "                     'value_left': [1, 2, 3]})\n",
    "\n",
    "right = pd.DataFrame({'key': ['B', 'C', 'D'],\n",
    "                      'value_right': [4, 5, 6]})\n",
    "\n",
    "# Merge DataFrames based on the 'key' column\n",
    "merged_inner = pd.merge(left, right, on='key', how='inner')\n",
    "\n",
    "# Display the merged DataFrame\n",
    "print(\"Inner Merge:\\n\", merged_inner)\n"
   ]
  },
  {
   "cell_type": "code",
   "execution_count": 79,
   "metadata": {
    "colab": {
     "base_uri": "https://localhost:8080/"
    },
    "executionInfo": {
     "elapsed": 22,
     "status": "ok",
     "timestamp": 1736376060527,
     "user": {
      "displayName": "Jake Rhodes",
      "userId": "08644184539460642117"
     },
     "user_tz": 420
    },
    "id": "9oqj6QadDOSs",
    "outputId": "5e77e21c-4999-4139-f95a-99faa0a4afda"
   },
   "outputs": [
    {
     "name": "stdout",
     "output_type": "stream",
     "text": [
      "Outer Merge:\n",
      "   key  value_left  value_right\n",
      "0   A         1.0          NaN\n",
      "1   B         2.0          4.0\n",
      "2   C         3.0          5.0\n",
      "3   D         NaN          6.0\n"
     ]
    }
   ],
   "source": [
    "merged_outer = pd.merge(left, right, on='key', how='outer')\n",
    "print(\"Outer Merge:\\n\", merged_outer)"
   ]
  },
  {
   "cell_type": "code",
   "execution_count": 80,
   "metadata": {
    "colab": {
     "base_uri": "https://localhost:8080/"
    },
    "executionInfo": {
     "elapsed": 21,
     "status": "ok",
     "timestamp": 1736376060527,
     "user": {
      "displayName": "Jake Rhodes",
      "userId": "08644184539460642117"
     },
     "user_tz": 420
    },
    "id": "F5ib4cMZDOSs",
    "outputId": "6f16ac9a-09dc-4b2d-8225-100de958d41f"
   },
   "outputs": [
    {
     "name": "stdout",
     "output_type": "stream",
     "text": [
      "      Name  Math_Score  Science_Score\n",
      "0    Alice          90             88\n",
      "1      Bob          85             92\n",
      "2  Charlie          78             80\n"
     ]
    }
   ],
   "source": [
    "# Create a DataFrame with wide-format data\n",
    "data = {'Name': ['Alice', 'Bob', 'Charlie'],\n",
    "        'Math_Score': [90, 85, 78],\n",
    "        'Science_Score': [88, 92, 80]}\n",
    "\n",
    "df = pd.DataFrame(data)\n",
    "\n",
    "print(df)"
   ]
  },
  {
   "cell_type": "code",
   "execution_count": 81,
   "metadata": {
    "colab": {
     "base_uri": "https://localhost:8080/"
    },
    "executionInfo": {
     "elapsed": 20,
     "status": "ok",
     "timestamp": 1736376060527,
     "user": {
      "displayName": "Jake Rhodes",
      "userId": "08644184539460642117"
     },
     "user_tz": 420
    },
    "id": "aIUw0Aw4DOSs",
    "outputId": "da5ac340-276e-46f0-98ae-88341bda7ca7"
   },
   "outputs": [
    {
     "name": "stdout",
     "output_type": "stream",
     "text": [
      "Melted DataFrame:\n",
      "       Name        Subject  Score\n",
      "0    Alice     Math_Score     90\n",
      "1      Bob     Math_Score     85\n",
      "2  Charlie     Math_Score     78\n",
      "3    Alice  Science_Score     88\n",
      "4      Bob  Science_Score     92\n",
      "5  Charlie  Science_Score     80\n"
     ]
    }
   ],
   "source": [
    "\n",
    "# Melt the DataFrame to long-format\n",
    "melted_df = pd.melt(df, id_vars=['Name'], var_name='Subject', value_name='Score')\n",
    "\n",
    "# Display the melted DataFrame\n",
    "print(\"Melted DataFrame:\\n\", melted_df)"
   ]
  },
  {
   "cell_type": "code",
   "execution_count": 82,
   "metadata": {
    "colab": {
     "base_uri": "https://localhost:8080/"
    },
    "executionInfo": {
     "elapsed": 16,
     "status": "ok",
     "timestamp": 1736376060527,
     "user": {
      "displayName": "Jake Rhodes",
      "userId": "08644184539460642117"
     },
     "user_tz": 420
    },
    "id": "gl60QRePDOSs",
    "outputId": "77e96775-ef9c-40f6-ac37-c3e3f87be2f4"
   },
   "outputs": [
    {
     "name": "stdout",
     "output_type": "stream",
     "text": [
      "      Name        Subject  Score Grade\n",
      "0    Alice     Math_Score     90     A\n",
      "1      Bob     Math_Score     85     B\n",
      "2  Charlie     Math_Score     78     C\n",
      "3    Alice  Science_Score     88     B\n",
      "4      Bob  Science_Score     92     A\n",
      "5  Charlie  Science_Score     80     B\n"
     ]
    }
   ],
   "source": [
    "\n",
    "# Define a mapping function to assign letter grades\n",
    "def assign_grade(score):\n",
    "    if score >= 90:\n",
    "        return 'A'\n",
    "    elif score >= 80:\n",
    "        return 'B'\n",
    "    elif score >= 70:\n",
    "        return 'C'\n",
    "    else:\n",
    "        return 'F'\n",
    "\n",
    "# Apply the mapping function to create a new column 'Grade'\n",
    "melted_df['Grade'] = melted_df['Score'].map(assign_grade)\n",
    "\n",
    "# Display the DataFrame with letter grades\n",
    "print(melted_df)\n"
   ]
  },
  {
   "cell_type": "code",
   "execution_count": 83,
   "metadata": {
    "colab": {
     "base_uri": "https://localhost:8080/"
    },
    "executionInfo": {
     "elapsed": 15,
     "status": "ok",
     "timestamp": 1736376060527,
     "user": {
      "displayName": "Jake Rhodes",
      "userId": "08644184539460642117"
     },
     "user_tz": 420
    },
    "id": "9mLInKOxDOSs",
    "outputId": "5f5134ca-a918-44e9-aab4-d1037750b29e"
   },
   "outputs": [
    {
     "name": "stdout",
     "output_type": "stream",
     "text": [
      "      Name  Age AgeGroup\n",
      "0    Alice   28     0-30\n",
      "1      Bob   45    41-50\n",
      "2  Charlie   60      51+\n",
      "3    David   34    31-40\n",
      "4    Scott   50    41-50\n",
      "5      Liz   40    31-40\n"
     ]
    }
   ],
   "source": [
    "data = {'Name': ['Alice', 'Bob', 'Charlie', 'David', 'Scott', 'Liz'],\n",
    "        'Age': [28, 45, 60, 34, 50, 40]}\n",
    "\n",
    "df = pd.DataFrame(data)\n",
    "\n",
    "# Define bin edges and labels for age groups\n",
    "bin_edges = [0, 30, 40, 50, 100]\n",
    "bin_labels = ['0-30', '31-40', '41-50', '51+']\n",
    "\n",
    "# Use the `cut` function to create a new column 'AgeGroup'\n",
    "df['AgeGroup'] = pd.cut(df['Age'], bins=bin_edges, labels=bin_labels)\n",
    "\n",
    "# Display the DataFrame with age groups\n",
    "print(df)\n"
   ]
  },
  {
   "cell_type": "code",
   "execution_count": 84,
   "metadata": {},
   "outputs": [],
   "source": [
    "import numpy as np\n",
    "import json\n",
    "import os"
   ]
  },
  {
   "cell_type": "code",
   "execution_count": 85,
   "metadata": {},
   "outputs": [],
   "source": [
    "# Make the data directory if it doesn't exist\n",
    "if not os.path.exists('data'):\n",
    "    os.makedirs('data')"
   ]
  },
  {
   "cell_type": "markdown",
   "metadata": {},
   "source": [
    "### Read in CSV"
   ]
  },
  {
   "cell_type": "code",
   "execution_count": 86,
   "metadata": {},
   "outputs": [
    {
     "name": "stderr",
     "output_type": "stream",
     "text": [
      "  % Total    % Received % Xferd  Average Speed   Time    Time     Time  Current\n",
      "                                 Dload  Upload   Total   Spent    Left  Speed\n",
      "\n",
      "  0     0    0     0    0     0      0      0 --:--:-- --:--:-- --:--:--     0\n",
      "  0  786k    0     0    0     0      0      0 --:--:--  0:00:01 --:--:--     0\n",
      " 42  786k   42  336k    0     0   170k      0  0:00:04  0:00:01  0:00:03  170k\n",
      " 77  786k   77  608k    0     0   204k      0  0:00:03  0:00:02  0:00:01  204k\n",
      "100  786k  100  786k    0     0   226k      0  0:00:03  0:00:03 --:--:--  226k\n"
     ]
    }
   ],
   "source": [
    "!curl -L -o data/example_csv.csv https://raw.githubusercontent.com/rhodes-byu/stat386-datasets/refs/heads/main/reading_examples/example_csv.csv"
   ]
  },
  {
   "cell_type": "code",
   "execution_count": 87,
   "metadata": {},
   "outputs": [],
   "source": [
    "df = pd.read_csv('data/example_csv.csv', index_col = 0, thousands = ',')"
   ]
  },
  {
   "cell_type": "code",
   "execution_count": 88,
   "metadata": {},
   "outputs": [
    {
     "data": {
      "text/html": [
       "<div>\n",
       "<style scoped>\n",
       "    .dataframe tbody tr th:only-of-type {\n",
       "        vertical-align: middle;\n",
       "    }\n",
       "\n",
       "    .dataframe tbody tr th {\n",
       "        vertical-align: top;\n",
       "    }\n",
       "\n",
       "    .dataframe thead th {\n",
       "        text-align: right;\n",
       "    }\n",
       "</style>\n",
       "<table border=\"1\" class=\"dataframe\">\n",
       "  <thead>\n",
       "    <tr style=\"text-align: right;\">\n",
       "      <th></th>\n",
       "      <th>Job #</th>\n",
       "      <th>Doc #</th>\n",
       "      <th>Borough</th>\n",
       "      <th>Initial Cost</th>\n",
       "      <th>Total Est. Fee</th>\n",
       "      <th>Existing Zoning Sqft</th>\n",
       "      <th>Proposed Zoning Sqft</th>\n",
       "      <th>Enlargement SQ Footage</th>\n",
       "      <th>Street Frontage</th>\n",
       "      <th>ExistingNo. of Stories</th>\n",
       "      <th>Proposed No. of Stories</th>\n",
       "      <th>Existing Height</th>\n",
       "      <th>Proposed Height</th>\n",
       "    </tr>\n",
       "  </thead>\n",
       "  <tbody>\n",
       "    <tr>\n",
       "      <th>0</th>\n",
       "      <td>121577873</td>\n",
       "      <td>2</td>\n",
       "      <td>MANHATTAN</td>\n",
       "      <td>$75000.00</td>\n",
       "      <td>$986.00</td>\n",
       "      <td>0</td>\n",
       "      <td>0</td>\n",
       "      <td>0</td>\n",
       "      <td>0</td>\n",
       "      <td>0</td>\n",
       "      <td>0</td>\n",
       "      <td>0</td>\n",
       "      <td>0</td>\n",
       "    </tr>\n",
       "    <tr>\n",
       "      <th>1</th>\n",
       "      <td>520129502</td>\n",
       "      <td>1</td>\n",
       "      <td>STATEN ISLAND</td>\n",
       "      <td>$0.00</td>\n",
       "      <td>$1144.00</td>\n",
       "      <td>0</td>\n",
       "      <td>0</td>\n",
       "      <td>0</td>\n",
       "      <td>143</td>\n",
       "      <td>0</td>\n",
       "      <td>0</td>\n",
       "      <td>0</td>\n",
       "      <td>0</td>\n",
       "    </tr>\n",
       "    <tr>\n",
       "      <th>2</th>\n",
       "      <td>121601560</td>\n",
       "      <td>1</td>\n",
       "      <td>MANHATTAN</td>\n",
       "      <td>$30000.00</td>\n",
       "      <td>$522.50</td>\n",
       "      <td>0</td>\n",
       "      <td>0</td>\n",
       "      <td>0</td>\n",
       "      <td>0</td>\n",
       "      <td>5</td>\n",
       "      <td>5</td>\n",
       "      <td>54</td>\n",
       "      <td>54</td>\n",
       "    </tr>\n",
       "    <tr>\n",
       "      <th>3</th>\n",
       "      <td>121601203</td>\n",
       "      <td>1</td>\n",
       "      <td>MANHATTAN</td>\n",
       "      <td>$1500.00</td>\n",
       "      <td>$225.00</td>\n",
       "      <td>0</td>\n",
       "      <td>0</td>\n",
       "      <td>0</td>\n",
       "      <td>0</td>\n",
       "      <td>12</td>\n",
       "      <td>12</td>\n",
       "      <td>120</td>\n",
       "      <td>120</td>\n",
       "    </tr>\n",
       "    <tr>\n",
       "      <th>4</th>\n",
       "      <td>121601338</td>\n",
       "      <td>1</td>\n",
       "      <td>MANHATTAN</td>\n",
       "      <td>$19500.00</td>\n",
       "      <td>$389.50</td>\n",
       "      <td>0</td>\n",
       "      <td>0</td>\n",
       "      <td>0</td>\n",
       "      <td>0</td>\n",
       "      <td>6</td>\n",
       "      <td>6</td>\n",
       "      <td>64</td>\n",
       "      <td>64</td>\n",
       "    </tr>\n",
       "  </tbody>\n",
       "</table>\n",
       "</div>"
      ],
      "text/plain": [
       "       Job #  Doc #        Borough Initial Cost Total Est. Fee  \\\n",
       "0  121577873      2      MANHATTAN    $75000.00        $986.00   \n",
       "1  520129502      1  STATEN ISLAND        $0.00       $1144.00   \n",
       "2  121601560      1      MANHATTAN    $30000.00        $522.50   \n",
       "3  121601203      1      MANHATTAN     $1500.00        $225.00   \n",
       "4  121601338      1      MANHATTAN    $19500.00        $389.50   \n",
       "\n",
       "   Existing Zoning Sqft  Proposed Zoning Sqft  Enlargement SQ Footage  \\\n",
       "0                     0                     0                       0   \n",
       "1                     0                     0                       0   \n",
       "2                     0                     0                       0   \n",
       "3                     0                     0                       0   \n",
       "4                     0                     0                       0   \n",
       "\n",
       "   Street Frontage  ExistingNo. of Stories  Proposed No. of Stories  \\\n",
       "0                0                       0                        0   \n",
       "1              143                       0                        0   \n",
       "2                0                       5                        5   \n",
       "3                0                      12                       12   \n",
       "4                0                       6                        6   \n",
       "\n",
       "   Existing Height  Proposed Height  \n",
       "0                0                0  \n",
       "1                0                0  \n",
       "2               54               54  \n",
       "3              120              120  \n",
       "4               64               64  "
      ]
     },
     "execution_count": 88,
     "metadata": {},
     "output_type": "execute_result"
    }
   ],
   "source": [
    "df.head()"
   ]
  },
  {
   "cell_type": "code",
   "execution_count": 89,
   "metadata": {},
   "outputs": [],
   "source": [
    "df2 = pd.read_csv('data/example_csv.csv')"
   ]
  },
  {
   "cell_type": "code",
   "execution_count": 90,
   "metadata": {},
   "outputs": [
    {
     "data": {
      "text/html": [
       "<div>\n",
       "<style scoped>\n",
       "    .dataframe tbody tr th:only-of-type {\n",
       "        vertical-align: middle;\n",
       "    }\n",
       "\n",
       "    .dataframe tbody tr th {\n",
       "        vertical-align: top;\n",
       "    }\n",
       "\n",
       "    .dataframe thead th {\n",
       "        text-align: right;\n",
       "    }\n",
       "</style>\n",
       "<table border=\"1\" class=\"dataframe\">\n",
       "  <thead>\n",
       "    <tr style=\"text-align: right;\">\n",
       "      <th></th>\n",
       "      <th>Unnamed: 0</th>\n",
       "      <th>Job #</th>\n",
       "      <th>Doc #</th>\n",
       "      <th>Borough</th>\n",
       "      <th>Initial Cost</th>\n",
       "      <th>Total Est. Fee</th>\n",
       "      <th>Existing Zoning Sqft</th>\n",
       "      <th>Proposed Zoning Sqft</th>\n",
       "      <th>Enlargement SQ Footage</th>\n",
       "      <th>Street Frontage</th>\n",
       "      <th>ExistingNo. of Stories</th>\n",
       "      <th>Proposed No. of Stories</th>\n",
       "      <th>Existing Height</th>\n",
       "      <th>Proposed Height</th>\n",
       "    </tr>\n",
       "  </thead>\n",
       "  <tbody>\n",
       "    <tr>\n",
       "      <th>0</th>\n",
       "      <td>0</td>\n",
       "      <td>121577873</td>\n",
       "      <td>2</td>\n",
       "      <td>MANHATTAN</td>\n",
       "      <td>$75000.00</td>\n",
       "      <td>$986.00</td>\n",
       "      <td>0</td>\n",
       "      <td>0</td>\n",
       "      <td>0</td>\n",
       "      <td>0</td>\n",
       "      <td>0</td>\n",
       "      <td>0</td>\n",
       "      <td>0</td>\n",
       "      <td>0</td>\n",
       "    </tr>\n",
       "    <tr>\n",
       "      <th>1</th>\n",
       "      <td>1</td>\n",
       "      <td>520129502</td>\n",
       "      <td>1</td>\n",
       "      <td>STATEN ISLAND</td>\n",
       "      <td>$0.00</td>\n",
       "      <td>$1144.00</td>\n",
       "      <td>0</td>\n",
       "      <td>0</td>\n",
       "      <td>0</td>\n",
       "      <td>143</td>\n",
       "      <td>0</td>\n",
       "      <td>0</td>\n",
       "      <td>0</td>\n",
       "      <td>0</td>\n",
       "    </tr>\n",
       "    <tr>\n",
       "      <th>2</th>\n",
       "      <td>2</td>\n",
       "      <td>121601560</td>\n",
       "      <td>1</td>\n",
       "      <td>MANHATTAN</td>\n",
       "      <td>$30000.00</td>\n",
       "      <td>$522.50</td>\n",
       "      <td>0</td>\n",
       "      <td>0</td>\n",
       "      <td>0</td>\n",
       "      <td>0</td>\n",
       "      <td>5</td>\n",
       "      <td>5</td>\n",
       "      <td>54</td>\n",
       "      <td>54</td>\n",
       "    </tr>\n",
       "    <tr>\n",
       "      <th>3</th>\n",
       "      <td>3</td>\n",
       "      <td>121601203</td>\n",
       "      <td>1</td>\n",
       "      <td>MANHATTAN</td>\n",
       "      <td>$1500.00</td>\n",
       "      <td>$225.00</td>\n",
       "      <td>0</td>\n",
       "      <td>0</td>\n",
       "      <td>0</td>\n",
       "      <td>0</td>\n",
       "      <td>12</td>\n",
       "      <td>12</td>\n",
       "      <td>120</td>\n",
       "      <td>120</td>\n",
       "    </tr>\n",
       "    <tr>\n",
       "      <th>4</th>\n",
       "      <td>4</td>\n",
       "      <td>121601338</td>\n",
       "      <td>1</td>\n",
       "      <td>MANHATTAN</td>\n",
       "      <td>$19500.00</td>\n",
       "      <td>$389.50</td>\n",
       "      <td>0</td>\n",
       "      <td>0</td>\n",
       "      <td>0</td>\n",
       "      <td>0</td>\n",
       "      <td>6</td>\n",
       "      <td>6</td>\n",
       "      <td>64</td>\n",
       "      <td>64</td>\n",
       "    </tr>\n",
       "  </tbody>\n",
       "</table>\n",
       "</div>"
      ],
      "text/plain": [
       "   Unnamed: 0      Job #  Doc #        Borough Initial Cost Total Est. Fee  \\\n",
       "0           0  121577873      2      MANHATTAN    $75000.00        $986.00   \n",
       "1           1  520129502      1  STATEN ISLAND        $0.00       $1144.00   \n",
       "2           2  121601560      1      MANHATTAN    $30000.00        $522.50   \n",
       "3           3  121601203      1      MANHATTAN     $1500.00        $225.00   \n",
       "4           4  121601338      1      MANHATTAN    $19500.00        $389.50   \n",
       "\n",
       "   Existing Zoning Sqft  Proposed Zoning Sqft  Enlargement SQ Footage  \\\n",
       "0                     0                     0                       0   \n",
       "1                     0                     0                       0   \n",
       "2                     0                     0                       0   \n",
       "3                     0                     0                       0   \n",
       "4                     0                     0                       0   \n",
       "\n",
       "   Street Frontage  ExistingNo. of Stories  Proposed No. of Stories  \\\n",
       "0                0                       0                        0   \n",
       "1              143                       0                        0   \n",
       "2                0                       5                        5   \n",
       "3                0                      12                       12   \n",
       "4                0                       6                        6   \n",
       "\n",
       "   Existing Height  Proposed Height  \n",
       "0                0                0  \n",
       "1                0                0  \n",
       "2               54               54  \n",
       "3              120              120  \n",
       "4               64               64  "
      ]
     },
     "execution_count": 90,
     "metadata": {},
     "output_type": "execute_result"
    }
   ],
   "source": [
    "df2.head()"
   ]
  },
  {
   "cell_type": "code",
   "execution_count": 91,
   "metadata": {},
   "outputs": [],
   "source": [
    "def replace_dollar(s):\n",
    "    return float(s.replace('$', ''))\n",
    "\n",
    "d = {'Initial Cost': replace_dollar, 'Total Est. Fee': replace_dollar}\n",
    "\n",
    "df2 = pd.read_csv('data/example_csv.csv', converters = d, thousands = ',')"
   ]
  },
  {
   "cell_type": "code",
   "execution_count": 92,
   "metadata": {},
   "outputs": [
    {
     "data": {
      "text/html": [
       "<div>\n",
       "<style scoped>\n",
       "    .dataframe tbody tr th:only-of-type {\n",
       "        vertical-align: middle;\n",
       "    }\n",
       "\n",
       "    .dataframe tbody tr th {\n",
       "        vertical-align: top;\n",
       "    }\n",
       "\n",
       "    .dataframe thead th {\n",
       "        text-align: right;\n",
       "    }\n",
       "</style>\n",
       "<table border=\"1\" class=\"dataframe\">\n",
       "  <thead>\n",
       "    <tr style=\"text-align: right;\">\n",
       "      <th></th>\n",
       "      <th>Unnamed: 0</th>\n",
       "      <th>Job #</th>\n",
       "      <th>Doc #</th>\n",
       "      <th>Borough</th>\n",
       "      <th>Initial Cost</th>\n",
       "      <th>Total Est. Fee</th>\n",
       "      <th>Existing Zoning Sqft</th>\n",
       "      <th>Proposed Zoning Sqft</th>\n",
       "      <th>Enlargement SQ Footage</th>\n",
       "      <th>Street Frontage</th>\n",
       "      <th>ExistingNo. of Stories</th>\n",
       "      <th>Proposed No. of Stories</th>\n",
       "      <th>Existing Height</th>\n",
       "      <th>Proposed Height</th>\n",
       "    </tr>\n",
       "  </thead>\n",
       "  <tbody>\n",
       "    <tr>\n",
       "      <th>0</th>\n",
       "      <td>0</td>\n",
       "      <td>121577873</td>\n",
       "      <td>2</td>\n",
       "      <td>MANHATTAN</td>\n",
       "      <td>75000.0</td>\n",
       "      <td>986.0</td>\n",
       "      <td>0</td>\n",
       "      <td>0</td>\n",
       "      <td>0</td>\n",
       "      <td>0</td>\n",
       "      <td>0</td>\n",
       "      <td>0</td>\n",
       "      <td>0</td>\n",
       "      <td>0</td>\n",
       "    </tr>\n",
       "    <tr>\n",
       "      <th>1</th>\n",
       "      <td>1</td>\n",
       "      <td>520129502</td>\n",
       "      <td>1</td>\n",
       "      <td>STATEN ISLAND</td>\n",
       "      <td>0.0</td>\n",
       "      <td>1144.0</td>\n",
       "      <td>0</td>\n",
       "      <td>0</td>\n",
       "      <td>0</td>\n",
       "      <td>143</td>\n",
       "      <td>0</td>\n",
       "      <td>0</td>\n",
       "      <td>0</td>\n",
       "      <td>0</td>\n",
       "    </tr>\n",
       "    <tr>\n",
       "      <th>2</th>\n",
       "      <td>2</td>\n",
       "      <td>121601560</td>\n",
       "      <td>1</td>\n",
       "      <td>MANHATTAN</td>\n",
       "      <td>30000.0</td>\n",
       "      <td>522.5</td>\n",
       "      <td>0</td>\n",
       "      <td>0</td>\n",
       "      <td>0</td>\n",
       "      <td>0</td>\n",
       "      <td>5</td>\n",
       "      <td>5</td>\n",
       "      <td>54</td>\n",
       "      <td>54</td>\n",
       "    </tr>\n",
       "    <tr>\n",
       "      <th>3</th>\n",
       "      <td>3</td>\n",
       "      <td>121601203</td>\n",
       "      <td>1</td>\n",
       "      <td>MANHATTAN</td>\n",
       "      <td>1500.0</td>\n",
       "      <td>225.0</td>\n",
       "      <td>0</td>\n",
       "      <td>0</td>\n",
       "      <td>0</td>\n",
       "      <td>0</td>\n",
       "      <td>12</td>\n",
       "      <td>12</td>\n",
       "      <td>120</td>\n",
       "      <td>120</td>\n",
       "    </tr>\n",
       "    <tr>\n",
       "      <th>4</th>\n",
       "      <td>4</td>\n",
       "      <td>121601338</td>\n",
       "      <td>1</td>\n",
       "      <td>MANHATTAN</td>\n",
       "      <td>19500.0</td>\n",
       "      <td>389.5</td>\n",
       "      <td>0</td>\n",
       "      <td>0</td>\n",
       "      <td>0</td>\n",
       "      <td>0</td>\n",
       "      <td>6</td>\n",
       "      <td>6</td>\n",
       "      <td>64</td>\n",
       "      <td>64</td>\n",
       "    </tr>\n",
       "  </tbody>\n",
       "</table>\n",
       "</div>"
      ],
      "text/plain": [
       "   Unnamed: 0      Job #  Doc #        Borough  Initial Cost  Total Est. Fee  \\\n",
       "0           0  121577873      2      MANHATTAN       75000.0           986.0   \n",
       "1           1  520129502      1  STATEN ISLAND           0.0          1144.0   \n",
       "2           2  121601560      1      MANHATTAN       30000.0           522.5   \n",
       "3           3  121601203      1      MANHATTAN        1500.0           225.0   \n",
       "4           4  121601338      1      MANHATTAN       19500.0           389.5   \n",
       "\n",
       "   Existing Zoning Sqft  Proposed Zoning Sqft  Enlargement SQ Footage  \\\n",
       "0                     0                     0                       0   \n",
       "1                     0                     0                       0   \n",
       "2                     0                     0                       0   \n",
       "3                     0                     0                       0   \n",
       "4                     0                     0                       0   \n",
       "\n",
       "   Street Frontage  ExistingNo. of Stories  Proposed No. of Stories  \\\n",
       "0                0                       0                        0   \n",
       "1              143                       0                        0   \n",
       "2                0                       5                        5   \n",
       "3                0                      12                       12   \n",
       "4                0                       6                        6   \n",
       "\n",
       "   Existing Height  Proposed Height  \n",
       "0                0                0  \n",
       "1                0                0  \n",
       "2               54               54  \n",
       "3              120              120  \n",
       "4               64               64  "
      ]
     },
     "execution_count": 92,
     "metadata": {},
     "output_type": "execute_result"
    }
   ],
   "source": [
    "df2.head()"
   ]
  },
  {
   "cell_type": "code",
   "execution_count": 93,
   "metadata": {},
   "outputs": [
    {
     "name": "stderr",
     "output_type": "stream",
     "text": [
      "  % Total    % Received % Xferd  Average Speed   Time    Time     Time  Current\n",
      "                                 Dload  Upload   Total   Spent    Left  Speed\n",
      "\n",
      "  0     0    0     0    0     0      0      0 --:--:-- --:--:-- --:--:--     0\n",
      "  0     0    0     0    0     0      0      0 --:--:-- --:--:-- --:--:--     0\n",
      "  7 97626    7  6890    0     0   4115      0  0:00:23  0:00:01  0:00:22  4120\n",
      "100 97626  100 97626    0     0  44819      0  0:00:02  0:00:02 --:--:-- 44885\n"
     ]
    }
   ],
   "source": [
    "!curl -L -o data/example_csv2.csv https://raw.githubusercontent.com/rhodes-byu/stat386-datasets/refs/heads/main/reading_examples/example_csv2.csv"
   ]
  },
  {
   "cell_type": "code",
   "execution_count": 94,
   "metadata": {},
   "outputs": [
    {
     "data": {
      "text/html": [
       "<div>\n",
       "<style scoped>\n",
       "    .dataframe tbody tr th:only-of-type {\n",
       "        vertical-align: middle;\n",
       "    }\n",
       "\n",
       "    .dataframe tbody tr th {\n",
       "        vertical-align: top;\n",
       "    }\n",
       "\n",
       "    .dataframe thead th {\n",
       "        text-align: right;\n",
       "    }\n",
       "</style>\n",
       "<table border=\"1\" class=\"dataframe\">\n",
       "  <thead>\n",
       "    <tr style=\"text-align: right;\">\n",
       "      <th></th>\n",
       "      <th>carrier</th>\n",
       "      <th>name</th>\n",
       "    </tr>\n",
       "  </thead>\n",
       "  <tbody>\n",
       "    <tr>\n",
       "      <th>0</th>\n",
       "      <td>9E</td>\n",
       "      <td>Endeavor Air Inc.</td>\n",
       "    </tr>\n",
       "    <tr>\n",
       "      <th>1</th>\n",
       "      <td>AA</td>\n",
       "      <td>American Airlines Inc.</td>\n",
       "    </tr>\n",
       "    <tr>\n",
       "      <th>2</th>\n",
       "      <td>AS</td>\n",
       "      <td>Alaska Airlines Inc.</td>\n",
       "    </tr>\n",
       "    <tr>\n",
       "      <th>3</th>\n",
       "      <td>B6</td>\n",
       "      <td>JetBlue Airways</td>\n",
       "    </tr>\n",
       "    <tr>\n",
       "      <th>4</th>\n",
       "      <td>DL</td>\n",
       "      <td>Delta Air Lines Inc.</td>\n",
       "    </tr>\n",
       "    <tr>\n",
       "      <th>5</th>\n",
       "      <td>EV</td>\n",
       "      <td>ExpressJet Airlines Inc.</td>\n",
       "    </tr>\n",
       "    <tr>\n",
       "      <th>6</th>\n",
       "      <td>F9</td>\n",
       "      <td>Frontier Airlines Inc.</td>\n",
       "    </tr>\n",
       "    <tr>\n",
       "      <th>7</th>\n",
       "      <td>FL</td>\n",
       "      <td>AirTran Airways Corporation</td>\n",
       "    </tr>\n",
       "    <tr>\n",
       "      <th>8</th>\n",
       "      <td>HA</td>\n",
       "      <td>Hawaiian Airlines Inc.</td>\n",
       "    </tr>\n",
       "    <tr>\n",
       "      <th>9</th>\n",
       "      <td>MQ</td>\n",
       "      <td>Envoy Air</td>\n",
       "    </tr>\n",
       "    <tr>\n",
       "      <th>10</th>\n",
       "      <td>OO</td>\n",
       "      <td>SkyWest Airlines Inc.</td>\n",
       "    </tr>\n",
       "    <tr>\n",
       "      <th>11</th>\n",
       "      <td>UA</td>\n",
       "      <td>United Air Lines Inc.</td>\n",
       "    </tr>\n",
       "    <tr>\n",
       "      <th>12</th>\n",
       "      <td>US</td>\n",
       "      <td>US Airways Inc.</td>\n",
       "    </tr>\n",
       "    <tr>\n",
       "      <th>13</th>\n",
       "      <td>VX</td>\n",
       "      <td>Virgin America</td>\n",
       "    </tr>\n",
       "    <tr>\n",
       "      <th>14</th>\n",
       "      <td>WN</td>\n",
       "      <td>Southwest Airlines Co.</td>\n",
       "    </tr>\n",
       "    <tr>\n",
       "      <th>15</th>\n",
       "      <td>YV</td>\n",
       "      <td>Mesa Airlines Inc.</td>\n",
       "    </tr>\n",
       "  </tbody>\n",
       "</table>\n",
       "</div>"
      ],
      "text/plain": [
       "   carrier                         name\n",
       "0       9E            Endeavor Air Inc.\n",
       "1       AA       American Airlines Inc.\n",
       "2       AS         Alaska Airlines Inc.\n",
       "3       B6              JetBlue Airways\n",
       "4       DL         Delta Air Lines Inc.\n",
       "5       EV     ExpressJet Airlines Inc.\n",
       "6       F9       Frontier Airlines Inc.\n",
       "7       FL  AirTran Airways Corporation\n",
       "8       HA       Hawaiian Airlines Inc.\n",
       "9       MQ                    Envoy Air\n",
       "10      OO        SkyWest Airlines Inc.\n",
       "11      UA        United Air Lines Inc.\n",
       "12      US              US Airways Inc.\n",
       "13      VX               Virgin America\n",
       "14      WN       Southwest Airlines Co.\n",
       "15      YV           Mesa Airlines Inc."
      ]
     },
     "execution_count": 94,
     "metadata": {},
     "output_type": "execute_result"
    }
   ],
   "source": [
    "url = 'https://github.com/rhodes-byu/stat386-data/raw/main/Flights/airlines.csv'\n",
    "pd.read_csv(url)"
   ]
  },
  {
   "cell_type": "markdown",
   "metadata": {},
   "source": [
    "## read_excel"
   ]
  },
  {
   "cell_type": "code",
   "execution_count": 95,
   "metadata": {},
   "outputs": [
    {
     "name": "stderr",
     "output_type": "stream",
     "text": [
      "  % Total    % Received % Xferd  Average Speed   Time    Time     Time  Current\n",
      "                                 Dload  Upload   Total   Spent    Left  Speed\n",
      "\n",
      "  0     0    0     0    0     0      0      0 --:--:-- --:--:-- --:--:--     0\n",
      "  0     0    0     0    0     0      0      0 --:--:-- --:--:-- --:--:--     0\n",
      "100 37027  100 37027    0     0  25739      0  0:00:01  0:00:01 --:--:-- 25802\n"
     ]
    }
   ],
   "source": [
    "!curl -L -o data/example_excel.xlsx https://raw.githubusercontent.com/rhodes-byu/stat386-datasets/refs/heads/main/reading_examples/example_excel.xlsx"
   ]
  },
  {
   "cell_type": "code",
   "execution_count": 96,
   "metadata": {},
   "outputs": [
    {
     "name": "stderr",
     "output_type": "stream",
     "text": [
      "c:\\Users\\rhodes8\\AppData\\Local\\miniconda3\\Lib\\site-packages\\openpyxl\\worksheet\\_reader.py:329: UserWarning: Unknown extension is not supported and will be removed\n",
      "  warn(msg)\n",
      "c:\\Users\\rhodes8\\AppData\\Local\\miniconda3\\Lib\\site-packages\\openpyxl\\worksheet\\_reader.py:329: UserWarning: Unknown extension is not supported and will be removed\n",
      "  warn(msg)\n",
      "c:\\Users\\rhodes8\\AppData\\Local\\miniconda3\\Lib\\site-packages\\openpyxl\\worksheet\\_reader.py:329: UserWarning: Unknown extension is not supported and will be removed\n",
      "  warn(msg)\n"
     ]
    }
   ],
   "source": [
    "df = pd.read_excel('data/example_excel.xlsx', sheet_name=None)"
   ]
  },
  {
   "cell_type": "code",
   "execution_count": 97,
   "metadata": {},
   "outputs": [
    {
     "data": {
      "text/plain": [
       "{'lines':         Length   StartLat   StartLong     EndLat     EndLong\n",
       " 0    49.577714  49.551486 -155.822754  48.586409 -155.310905\n",
       " 1    39.418778  47.324024 -146.035211  46.608399 -146.696869\n",
       " 2    73.384708  32.557205 -150.716994  31.484649 -148.786118\n",
       " 3    53.887653  27.927758 -157.081876  26.930518 -158.351094\n",
       " 4    34.188955  26.132931 -165.429277  25.165107 -165.491697\n",
       " ..         ...        ...         ...        ...         ...\n",
       " 194  29.924958  13.556401   50.296986  12.930688   49.609328\n",
       " 195  56.993956  13.833703   51.274892  12.496541   50.122412\n",
       " 196  41.292251   6.250756   57.826152   5.194911   57.077106\n",
       " 197  86.802562   2.288475   55.370944   0.936597   52.998963\n",
       " 198  34.680930   0.250012   53.082190  -0.644668   52.457985\n",
       " \n",
       " [199 rows x 5 columns],\n",
       " 'structures':         MidLat     LidLong      Length\n",
       " 0   -50.857458 -122.135574  278.857288\n",
       " 1   -35.959708 -146.589519  148.580221\n",
       " 2   -36.178433 -147.438439  105.344291\n",
       " 3   -28.123491 -160.731936  226.039786\n",
       " 4   -22.844131 -178.526995  198.317290\n",
       " ..         ...         ...         ...\n",
       " 271 -50.930531  -29.258279  128.457549\n",
       " 272  42.339564  -57.664499  250.590778\n",
       " 273 -51.366684  -30.204990   97.150999\n",
       " 274 -51.036995  -31.391716   66.975654\n",
       " 275  13.081607   49.348600   36.479683\n",
       " \n",
       " [276 rows x 3 columns],\n",
       " 'mountains':      Latitude   Longitude  Length  Width          Area\n",
       " 0  -79.988808    4.307852   200.5   73.3  13289.309593\n",
       " 1  -75.398320  116.796480   140.9   95.9   6818.450017\n",
       " 2  -65.453430  -43.153121    29.1   14.1    319.588593\n",
       " 3  -64.703710 -156.406594   141.8  110.9  14399.442861\n",
       " 4  -62.314895   55.898515   125.3   42.1   2959.060298\n",
       " ..        ...         ...     ...    ...           ...\n",
       " 64  46.069336 -126.370594   306.4  169.3  36393.651976\n",
       " 65  47.174093 -160.901975   174.4   69.6  10842.220783\n",
       " 66  49.866715  110.448521   443.9  262.1  88392.313881\n",
       " 67  53.482625  152.758589   246.3  201.2  40231.874049\n",
       " 68  57.620235  106.449640   179.2   82.9  12495.387194\n",
       " \n",
       " [69 rows x 5 columns]}"
      ]
     },
     "execution_count": 97,
     "metadata": {},
     "output_type": "execute_result"
    }
   ],
   "source": [
    "df"
   ]
  },
  {
   "cell_type": "code",
   "execution_count": 98,
   "metadata": {},
   "outputs": [
    {
     "data": {
      "text/plain": [
       "dict_keys(['lines', 'structures', 'mountains'])"
      ]
     },
     "execution_count": 98,
     "metadata": {},
     "output_type": "execute_result"
    }
   ],
   "source": [
    "df.keys()"
   ]
  },
  {
   "cell_type": "code",
   "execution_count": 99,
   "metadata": {},
   "outputs": [],
   "source": [
    "lines = df['lines']"
   ]
  },
  {
   "cell_type": "code",
   "execution_count": 100,
   "metadata": {},
   "outputs": [
    {
     "data": {
      "text/html": [
       "<div>\n",
       "<style scoped>\n",
       "    .dataframe tbody tr th:only-of-type {\n",
       "        vertical-align: middle;\n",
       "    }\n",
       "\n",
       "    .dataframe tbody tr th {\n",
       "        vertical-align: top;\n",
       "    }\n",
       "\n",
       "    .dataframe thead th {\n",
       "        text-align: right;\n",
       "    }\n",
       "</style>\n",
       "<table border=\"1\" class=\"dataframe\">\n",
       "  <thead>\n",
       "    <tr style=\"text-align: right;\">\n",
       "      <th></th>\n",
       "      <th>Length</th>\n",
       "      <th>StartLat</th>\n",
       "      <th>StartLong</th>\n",
       "      <th>EndLat</th>\n",
       "      <th>EndLong</th>\n",
       "    </tr>\n",
       "  </thead>\n",
       "  <tbody>\n",
       "    <tr>\n",
       "      <th>0</th>\n",
       "      <td>49.577714</td>\n",
       "      <td>49.551486</td>\n",
       "      <td>-155.822754</td>\n",
       "      <td>48.586409</td>\n",
       "      <td>-155.310905</td>\n",
       "    </tr>\n",
       "    <tr>\n",
       "      <th>1</th>\n",
       "      <td>39.418778</td>\n",
       "      <td>47.324024</td>\n",
       "      <td>-146.035211</td>\n",
       "      <td>46.608399</td>\n",
       "      <td>-146.696869</td>\n",
       "    </tr>\n",
       "    <tr>\n",
       "      <th>2</th>\n",
       "      <td>73.384708</td>\n",
       "      <td>32.557205</td>\n",
       "      <td>-150.716994</td>\n",
       "      <td>31.484649</td>\n",
       "      <td>-148.786118</td>\n",
       "    </tr>\n",
       "    <tr>\n",
       "      <th>3</th>\n",
       "      <td>53.887653</td>\n",
       "      <td>27.927758</td>\n",
       "      <td>-157.081876</td>\n",
       "      <td>26.930518</td>\n",
       "      <td>-158.351094</td>\n",
       "    </tr>\n",
       "    <tr>\n",
       "      <th>4</th>\n",
       "      <td>34.188955</td>\n",
       "      <td>26.132931</td>\n",
       "      <td>-165.429277</td>\n",
       "      <td>25.165107</td>\n",
       "      <td>-165.491697</td>\n",
       "    </tr>\n",
       "  </tbody>\n",
       "</table>\n",
       "</div>"
      ],
      "text/plain": [
       "      Length   StartLat   StartLong     EndLat     EndLong\n",
       "0  49.577714  49.551486 -155.822754  48.586409 -155.310905\n",
       "1  39.418778  47.324024 -146.035211  46.608399 -146.696869\n",
       "2  73.384708  32.557205 -150.716994  31.484649 -148.786118\n",
       "3  53.887653  27.927758 -157.081876  26.930518 -158.351094\n",
       "4  34.188955  26.132931 -165.429277  25.165107 -165.491697"
      ]
     },
     "execution_count": 100,
     "metadata": {},
     "output_type": "execute_result"
    }
   ],
   "source": [
    "lines.head()"
   ]
  },
  {
   "cell_type": "code",
   "execution_count": 101,
   "metadata": {},
   "outputs": [
    {
     "name": "stderr",
     "output_type": "stream",
     "text": [
      "c:\\Users\\rhodes8\\AppData\\Local\\miniconda3\\Lib\\site-packages\\openpyxl\\worksheet\\_reader.py:329: UserWarning: Unknown extension is not supported and will be removed\n",
      "  warn(msg)\n"
     ]
    }
   ],
   "source": [
    "df = pd.read_excel('data/example_excel.xlsx', sheet_name = 'lines')"
   ]
  },
  {
   "cell_type": "code",
   "execution_count": 102,
   "metadata": {},
   "outputs": [
    {
     "data": {
      "text/html": [
       "<div>\n",
       "<style scoped>\n",
       "    .dataframe tbody tr th:only-of-type {\n",
       "        vertical-align: middle;\n",
       "    }\n",
       "\n",
       "    .dataframe tbody tr th {\n",
       "        vertical-align: top;\n",
       "    }\n",
       "\n",
       "    .dataframe thead th {\n",
       "        text-align: right;\n",
       "    }\n",
       "</style>\n",
       "<table border=\"1\" class=\"dataframe\">\n",
       "  <thead>\n",
       "    <tr style=\"text-align: right;\">\n",
       "      <th></th>\n",
       "      <th>Length</th>\n",
       "      <th>StartLat</th>\n",
       "      <th>StartLong</th>\n",
       "      <th>EndLat</th>\n",
       "      <th>EndLong</th>\n",
       "    </tr>\n",
       "  </thead>\n",
       "  <tbody>\n",
       "    <tr>\n",
       "      <th>0</th>\n",
       "      <td>49.577714</td>\n",
       "      <td>49.551486</td>\n",
       "      <td>-155.822754</td>\n",
       "      <td>48.586409</td>\n",
       "      <td>-155.310905</td>\n",
       "    </tr>\n",
       "    <tr>\n",
       "      <th>1</th>\n",
       "      <td>39.418778</td>\n",
       "      <td>47.324024</td>\n",
       "      <td>-146.035211</td>\n",
       "      <td>46.608399</td>\n",
       "      <td>-146.696869</td>\n",
       "    </tr>\n",
       "    <tr>\n",
       "      <th>2</th>\n",
       "      <td>73.384708</td>\n",
       "      <td>32.557205</td>\n",
       "      <td>-150.716994</td>\n",
       "      <td>31.484649</td>\n",
       "      <td>-148.786118</td>\n",
       "    </tr>\n",
       "    <tr>\n",
       "      <th>3</th>\n",
       "      <td>53.887653</td>\n",
       "      <td>27.927758</td>\n",
       "      <td>-157.081876</td>\n",
       "      <td>26.930518</td>\n",
       "      <td>-158.351094</td>\n",
       "    </tr>\n",
       "    <tr>\n",
       "      <th>4</th>\n",
       "      <td>34.188955</td>\n",
       "      <td>26.132931</td>\n",
       "      <td>-165.429277</td>\n",
       "      <td>25.165107</td>\n",
       "      <td>-165.491697</td>\n",
       "    </tr>\n",
       "    <tr>\n",
       "      <th>...</th>\n",
       "      <td>...</td>\n",
       "      <td>...</td>\n",
       "      <td>...</td>\n",
       "      <td>...</td>\n",
       "      <td>...</td>\n",
       "    </tr>\n",
       "    <tr>\n",
       "      <th>194</th>\n",
       "      <td>29.924958</td>\n",
       "      <td>13.556401</td>\n",
       "      <td>50.296986</td>\n",
       "      <td>12.930688</td>\n",
       "      <td>49.609328</td>\n",
       "    </tr>\n",
       "    <tr>\n",
       "      <th>195</th>\n",
       "      <td>56.993956</td>\n",
       "      <td>13.833703</td>\n",
       "      <td>51.274892</td>\n",
       "      <td>12.496541</td>\n",
       "      <td>50.122412</td>\n",
       "    </tr>\n",
       "    <tr>\n",
       "      <th>196</th>\n",
       "      <td>41.292251</td>\n",
       "      <td>6.250756</td>\n",
       "      <td>57.826152</td>\n",
       "      <td>5.194911</td>\n",
       "      <td>57.077106</td>\n",
       "    </tr>\n",
       "    <tr>\n",
       "      <th>197</th>\n",
       "      <td>86.802562</td>\n",
       "      <td>2.288475</td>\n",
       "      <td>55.370944</td>\n",
       "      <td>0.936597</td>\n",
       "      <td>52.998963</td>\n",
       "    </tr>\n",
       "    <tr>\n",
       "      <th>198</th>\n",
       "      <td>34.680930</td>\n",
       "      <td>0.250012</td>\n",
       "      <td>53.082190</td>\n",
       "      <td>-0.644668</td>\n",
       "      <td>52.457985</td>\n",
       "    </tr>\n",
       "  </tbody>\n",
       "</table>\n",
       "<p>199 rows × 5 columns</p>\n",
       "</div>"
      ],
      "text/plain": [
       "        Length   StartLat   StartLong     EndLat     EndLong\n",
       "0    49.577714  49.551486 -155.822754  48.586409 -155.310905\n",
       "1    39.418778  47.324024 -146.035211  46.608399 -146.696869\n",
       "2    73.384708  32.557205 -150.716994  31.484649 -148.786118\n",
       "3    53.887653  27.927758 -157.081876  26.930518 -158.351094\n",
       "4    34.188955  26.132931 -165.429277  25.165107 -165.491697\n",
       "..         ...        ...         ...        ...         ...\n",
       "194  29.924958  13.556401   50.296986  12.930688   49.609328\n",
       "195  56.993956  13.833703   51.274892  12.496541   50.122412\n",
       "196  41.292251   6.250756   57.826152   5.194911   57.077106\n",
       "197  86.802562   2.288475   55.370944   0.936597   52.998963\n",
       "198  34.680930   0.250012   53.082190  -0.644668   52.457985\n",
       "\n",
       "[199 rows x 5 columns]"
      ]
     },
     "execution_count": 102,
     "metadata": {},
     "output_type": "execute_result"
    }
   ],
   "source": [
    "df"
   ]
  },
  {
   "cell_type": "markdown",
   "metadata": {},
   "source": [
    "## json files"
   ]
  },
  {
   "cell_type": "code",
   "execution_count": 103,
   "metadata": {},
   "outputs": [
    {
     "name": "stderr",
     "output_type": "stream",
     "text": [
      "  % Total    % Received % Xferd  Average Speed   Time    Time     Time  Current\n",
      "                                 Dload  Upload   Total   Spent    Left  Speed\n",
      "\n",
      "  0     0    0     0    0     0      0      0 --:--:-- --:--:-- --:--:--     0\n",
      "  0     0    0     0    0     0      0      0 --:--:-- --:--:-- --:--:--     0\n",
      "100  1283  100  1283    0     0   1125      0  0:00:01  0:00:01 --:--:--  1128\n"
     ]
    }
   ],
   "source": [
    "!curl -L -o data/example_json.json https://raw.githubusercontent.com/rhodes-byu/stat386-datasets/refs/heads/main/reading_examples/example_json.json"
   ]
  },
  {
   "cell_type": "code",
   "execution_count": 104,
   "metadata": {},
   "outputs": [
    {
     "data": {
      "text/html": [
       "<div>\n",
       "<style scoped>\n",
       "    .dataframe tbody tr th:only-of-type {\n",
       "        vertical-align: middle;\n",
       "    }\n",
       "\n",
       "    .dataframe tbody tr th {\n",
       "        vertical-align: top;\n",
       "    }\n",
       "\n",
       "    .dataframe thead th {\n",
       "        text-align: right;\n",
       "    }\n",
       "</style>\n",
       "<table border=\"1\" class=\"dataframe\">\n",
       "  <thead>\n",
       "    <tr style=\"text-align: right;\">\n",
       "      <th></th>\n",
       "      <th>cap</th>\n",
       "      <th>display_scores</th>\n",
       "      <th>raw_scores</th>\n",
       "      <th>user</th>\n",
       "    </tr>\n",
       "  </thead>\n",
       "  <tbody>\n",
       "    <tr>\n",
       "      <th>english</th>\n",
       "      <td>0.796108</td>\n",
       "      <td>{'astroturf': 0.30000000000000004, 'fake_follo...</td>\n",
       "      <td>{'astroturf': 0.06, 'fake_follower': 0.0, 'fin...</td>\n",
       "      <td>NaN</td>\n",
       "    </tr>\n",
       "    <tr>\n",
       "      <th>universal</th>\n",
       "      <td>0.733500</td>\n",
       "      <td>{'astroturf': 0.4, 'fake_follower': 0.0, 'fina...</td>\n",
       "      <td>{'astroturf': 0.09, 'fake_follower': 0.0, 'fin...</td>\n",
       "      <td>NaN</td>\n",
       "    </tr>\n",
       "    <tr>\n",
       "      <th>majority_lang</th>\n",
       "      <td>NaN</td>\n",
       "      <td>NaN</td>\n",
       "      <td>NaN</td>\n",
       "      <td>en</td>\n",
       "    </tr>\n",
       "    <tr>\n",
       "      <th>user_data</th>\n",
       "      <td>NaN</td>\n",
       "      <td>NaN</td>\n",
       "      <td>NaN</td>\n",
       "      <td>{'id_str': '17600950', 'screen_name': 'BYU'}</td>\n",
       "    </tr>\n",
       "  </tbody>\n",
       "</table>\n",
       "</div>"
      ],
      "text/plain": [
       "                    cap                                     display_scores  \\\n",
       "english        0.796108  {'astroturf': 0.30000000000000004, 'fake_follo...   \n",
       "universal      0.733500  {'astroturf': 0.4, 'fake_follower': 0.0, 'fina...   \n",
       "majority_lang       NaN                                                NaN   \n",
       "user_data           NaN                                                NaN   \n",
       "\n",
       "                                                      raw_scores  \\\n",
       "english        {'astroturf': 0.06, 'fake_follower': 0.0, 'fin...   \n",
       "universal      {'astroturf': 0.09, 'fake_follower': 0.0, 'fin...   \n",
       "majority_lang                                                NaN   \n",
       "user_data                                                    NaN   \n",
       "\n",
       "                                                       user  \n",
       "english                                                 NaN  \n",
       "universal                                               NaN  \n",
       "majority_lang                                            en  \n",
       "user_data      {'id_str': '17600950', 'screen_name': 'BYU'}  "
      ]
     },
     "execution_count": 104,
     "metadata": {},
     "output_type": "execute_result"
    }
   ],
   "source": [
    "pd.read_json('data/example_json.json')"
   ]
  },
  {
   "cell_type": "code",
   "execution_count": 105,
   "metadata": {},
   "outputs": [
    {
     "name": "stdout",
     "output_type": "stream",
     "text": [
      "{'cap': {'english': 0.7961080923981387, 'universal': 0.7334998320027682}, 'display_scores': {'english': {'astroturf': 0.3, 'fake_follower': 0.0, 'financial': 0.0, 'other': 1.6, 'overall': 2.2, 'self_declared': 0.0, 'spammer': 0.0}, 'universal': {'astroturf': 0.4, 'fake_follower': 0.0, 'financial': 0.0, 'other': 0.8, 'overall': 1.1, 'self_declared': 0.0, 'spammer': 0.0}}, 'raw_scores': {'english': {'astroturf': 0.06, 'fake_follower': 0.0, 'financial': 0.0, 'other': 0.31, 'overall': 0.43, 'self_declared': 0.0, 'spammer': 0.0}, 'universal': {'astroturf': 0.09, 'fake_follower': 0.0, 'financial': 0.0, 'other': 0.15, 'overall': 0.22, 'self_declared': 0.0, 'spammer': 0.0}}, 'user': {'majority_lang': 'en', 'user_data': {'id_str': '17600950', 'screen_name': 'BYU'}}}\n"
     ]
    }
   ],
   "source": [
    "with open('data/example_json.json', 'r') as file:\n",
    "    json_object = json.load(open('data/example_json.json', 'r'))\n",
    "\n",
    "print(json_object)"
   ]
  },
  {
   "cell_type": "code",
   "execution_count": 106,
   "metadata": {},
   "outputs": [
    {
     "data": {
      "text/plain": [
       "{'english': 0.7961080923981387, 'universal': 0.7334998320027682}"
      ]
     },
     "execution_count": 106,
     "metadata": {},
     "output_type": "execute_result"
    }
   ],
   "source": [
    "json_object['cap']"
   ]
  },
  {
   "cell_type": "code",
   "execution_count": 107,
   "metadata": {},
   "outputs": [
    {
     "data": {
      "text/html": [
       "<div>\n",
       "<style scoped>\n",
       "    .dataframe tbody tr th:only-of-type {\n",
       "        vertical-align: middle;\n",
       "    }\n",
       "\n",
       "    .dataframe tbody tr th {\n",
       "        vertical-align: top;\n",
       "    }\n",
       "\n",
       "    .dataframe thead th {\n",
       "        text-align: right;\n",
       "    }\n",
       "</style>\n",
       "<table border=\"1\" class=\"dataframe\">\n",
       "  <thead>\n",
       "    <tr style=\"text-align: right;\">\n",
       "      <th></th>\n",
       "      <th>cap</th>\n",
       "      <th>display_scores</th>\n",
       "      <th>raw_scores</th>\n",
       "      <th>user</th>\n",
       "    </tr>\n",
       "  </thead>\n",
       "  <tbody>\n",
       "    <tr>\n",
       "      <th>english</th>\n",
       "      <td>0.796108</td>\n",
       "      <td>{'astroturf': 0.3, 'fake_follower': 0.0, 'fina...</td>\n",
       "      <td>{'astroturf': 0.06, 'fake_follower': 0.0, 'fin...</td>\n",
       "      <td>NaN</td>\n",
       "    </tr>\n",
       "    <tr>\n",
       "      <th>universal</th>\n",
       "      <td>0.733500</td>\n",
       "      <td>{'astroturf': 0.4, 'fake_follower': 0.0, 'fina...</td>\n",
       "      <td>{'astroturf': 0.09, 'fake_follower': 0.0, 'fin...</td>\n",
       "      <td>NaN</td>\n",
       "    </tr>\n",
       "    <tr>\n",
       "      <th>majority_lang</th>\n",
       "      <td>NaN</td>\n",
       "      <td>NaN</td>\n",
       "      <td>NaN</td>\n",
       "      <td>en</td>\n",
       "    </tr>\n",
       "    <tr>\n",
       "      <th>user_data</th>\n",
       "      <td>NaN</td>\n",
       "      <td>NaN</td>\n",
       "      <td>NaN</td>\n",
       "      <td>{'id_str': '17600950', 'screen_name': 'BYU'}</td>\n",
       "    </tr>\n",
       "  </tbody>\n",
       "</table>\n",
       "</div>"
      ],
      "text/plain": [
       "                    cap                                     display_scores  \\\n",
       "english        0.796108  {'astroturf': 0.3, 'fake_follower': 0.0, 'fina...   \n",
       "universal      0.733500  {'astroturf': 0.4, 'fake_follower': 0.0, 'fina...   \n",
       "majority_lang       NaN                                                NaN   \n",
       "user_data           NaN                                                NaN   \n",
       "\n",
       "                                                      raw_scores  \\\n",
       "english        {'astroturf': 0.06, 'fake_follower': 0.0, 'fin...   \n",
       "universal      {'astroturf': 0.09, 'fake_follower': 0.0, 'fin...   \n",
       "majority_lang                                                NaN   \n",
       "user_data                                                    NaN   \n",
       "\n",
       "                                                       user  \n",
       "english                                                 NaN  \n",
       "universal                                               NaN  \n",
       "majority_lang                                            en  \n",
       "user_data      {'id_str': '17600950', 'screen_name': 'BYU'}  "
      ]
     },
     "execution_count": 107,
     "metadata": {},
     "output_type": "execute_result"
    }
   ],
   "source": [
    "pd.DataFrame(json_object)"
   ]
  },
  {
   "cell_type": "code",
   "execution_count": 108,
   "metadata": {},
   "outputs": [
    {
     "data": {
      "text/html": [
       "<div>\n",
       "<style scoped>\n",
       "    .dataframe tbody tr th:only-of-type {\n",
       "        vertical-align: middle;\n",
       "    }\n",
       "\n",
       "    .dataframe tbody tr th {\n",
       "        vertical-align: top;\n",
       "    }\n",
       "\n",
       "    .dataframe thead th {\n",
       "        text-align: right;\n",
       "    }\n",
       "</style>\n",
       "<table border=\"1\" class=\"dataframe\">\n",
       "  <thead>\n",
       "    <tr style=\"text-align: right;\">\n",
       "      <th></th>\n",
       "      <th>cap.english</th>\n",
       "      <th>cap.universal</th>\n",
       "      <th>display_scores.english.astroturf</th>\n",
       "      <th>display_scores.english.fake_follower</th>\n",
       "      <th>display_scores.english.financial</th>\n",
       "      <th>display_scores.english.other</th>\n",
       "      <th>display_scores.english.overall</th>\n",
       "      <th>display_scores.english.self_declared</th>\n",
       "      <th>display_scores.english.spammer</th>\n",
       "      <th>display_scores.universal.astroturf</th>\n",
       "      <th>...</th>\n",
       "      <th>raw_scores.universal.astroturf</th>\n",
       "      <th>raw_scores.universal.fake_follower</th>\n",
       "      <th>raw_scores.universal.financial</th>\n",
       "      <th>raw_scores.universal.other</th>\n",
       "      <th>raw_scores.universal.overall</th>\n",
       "      <th>raw_scores.universal.self_declared</th>\n",
       "      <th>raw_scores.universal.spammer</th>\n",
       "      <th>user.majority_lang</th>\n",
       "      <th>user.user_data.id_str</th>\n",
       "      <th>user.user_data.screen_name</th>\n",
       "    </tr>\n",
       "  </thead>\n",
       "  <tbody>\n",
       "    <tr>\n",
       "      <th>0</th>\n",
       "      <td>0.796108</td>\n",
       "      <td>0.7335</td>\n",
       "      <td>0.3</td>\n",
       "      <td>0.0</td>\n",
       "      <td>0.0</td>\n",
       "      <td>1.6</td>\n",
       "      <td>2.2</td>\n",
       "      <td>0.0</td>\n",
       "      <td>0.0</td>\n",
       "      <td>0.4</td>\n",
       "      <td>...</td>\n",
       "      <td>0.09</td>\n",
       "      <td>0.0</td>\n",
       "      <td>0.0</td>\n",
       "      <td>0.15</td>\n",
       "      <td>0.22</td>\n",
       "      <td>0.0</td>\n",
       "      <td>0.0</td>\n",
       "      <td>en</td>\n",
       "      <td>17600950</td>\n",
       "      <td>BYU</td>\n",
       "    </tr>\n",
       "  </tbody>\n",
       "</table>\n",
       "<p>1 rows × 33 columns</p>\n",
       "</div>"
      ],
      "text/plain": [
       "   cap.english  cap.universal  display_scores.english.astroturf  \\\n",
       "0     0.796108         0.7335                               0.3   \n",
       "\n",
       "   display_scores.english.fake_follower  display_scores.english.financial  \\\n",
       "0                                   0.0                               0.0   \n",
       "\n",
       "   display_scores.english.other  display_scores.english.overall  \\\n",
       "0                           1.6                             2.2   \n",
       "\n",
       "   display_scores.english.self_declared  display_scores.english.spammer  \\\n",
       "0                                   0.0                             0.0   \n",
       "\n",
       "   display_scores.universal.astroturf  ...  raw_scores.universal.astroturf  \\\n",
       "0                                 0.4  ...                            0.09   \n",
       "\n",
       "   raw_scores.universal.fake_follower  raw_scores.universal.financial  \\\n",
       "0                                 0.0                             0.0   \n",
       "\n",
       "   raw_scores.universal.other  raw_scores.universal.overall  \\\n",
       "0                        0.15                          0.22   \n",
       "\n",
       "   raw_scores.universal.self_declared  raw_scores.universal.spammer  \\\n",
       "0                                 0.0                           0.0   \n",
       "\n",
       "   user.majority_lang  user.user_data.id_str  user.user_data.screen_name  \n",
       "0                  en               17600950                         BYU  \n",
       "\n",
       "[1 rows x 33 columns]"
      ]
     },
     "execution_count": 108,
     "metadata": {},
     "output_type": "execute_result"
    }
   ],
   "source": [
    "pd.json_normalize(json_object)"
   ]
  },
  {
   "cell_type": "markdown",
   "metadata": {},
   "source": [
    "## read_html"
   ]
  },
  {
   "cell_type": "code",
   "execution_count": 109,
   "metadata": {},
   "outputs": [],
   "source": [
    "url = 'https://en.wikipedia.org/wiki/List_of_Super_Bowl_champions'"
   ]
  },
  {
   "cell_type": "code",
   "execution_count": 110,
   "metadata": {},
   "outputs": [],
   "source": [
    "dfs = pd.read_html(url)"
   ]
  },
  {
   "cell_type": "code",
   "execution_count": 111,
   "metadata": {},
   "outputs": [
    {
     "data": {
      "text/plain": [
       "17"
      ]
     },
     "execution_count": 111,
     "metadata": {},
     "output_type": "execute_result"
    }
   ],
   "source": [
    "len(dfs)"
   ]
  },
  {
   "cell_type": "code",
   "execution_count": 112,
   "metadata": {},
   "outputs": [
    {
     "data": {
      "text/html": [
       "<div>\n",
       "<style scoped>\n",
       "    .dataframe tbody tr th:only-of-type {\n",
       "        vertical-align: middle;\n",
       "    }\n",
       "\n",
       "    .dataframe tbody tr th {\n",
       "        vertical-align: top;\n",
       "    }\n",
       "\n",
       "    .dataframe thead th {\n",
       "        text-align: right;\n",
       "    }\n",
       "</style>\n",
       "<table border=\"1\" class=\"dataframe\">\n",
       "  <thead>\n",
       "    <tr style=\"text-align: right;\">\n",
       "      <th></th>\n",
       "      <th>vteNFL championships (1933–present)</th>\n",
       "      <th>vteNFL championships (1933–present).1</th>\n",
       "    </tr>\n",
       "  </thead>\n",
       "  <tbody>\n",
       "    <tr>\n",
       "      <th>0</th>\n",
       "      <td>NFL Championship (1933–1969)[1]</td>\n",
       "      <td>1933 1934 1935 1936 1937 1938 1939 1940 1941 1...</td>\n",
       "    </tr>\n",
       "    <tr>\n",
       "      <th>1</th>\n",
       "      <td>1921 APFA de facto championship game 1925 NFL ...</td>\n",
       "      <td>1921 APFA de facto championship game 1925 NFL ...</td>\n",
       "    </tr>\n",
       "    <tr>\n",
       "      <th>2</th>\n",
       "      <td>AFL Championship (1960–1969)[1]</td>\n",
       "      <td>1960 1961 1962 1963 1964 1965 1966 1967 1968 1969</td>\n",
       "    </tr>\n",
       "    <tr>\n",
       "      <th>3</th>\n",
       "      <td>Pre-Super Bowl AFL playoffs Pre-Super Bowl AFL...</td>\n",
       "      <td>Pre-Super Bowl AFL playoffs Pre-Super Bowl AFL...</td>\n",
       "    </tr>\n",
       "    <tr>\n",
       "      <th>4</th>\n",
       "      <td>AFL–NFL World Championship Game (1966–1969)[1][2]</td>\n",
       "      <td>1966 (I) 1967 (II) 1968 (III) 1969 (IV)</td>\n",
       "    </tr>\n",
       "  </tbody>\n",
       "</table>\n",
       "</div>"
      ],
      "text/plain": [
       "                 vteNFL championships (1933–present)  \\\n",
       "0                    NFL Championship (1933–1969)[1]   \n",
       "1  1921 APFA de facto championship game 1925 NFL ...   \n",
       "2                    AFL Championship (1960–1969)[1]   \n",
       "3  Pre-Super Bowl AFL playoffs Pre-Super Bowl AFL...   \n",
       "4  AFL–NFL World Championship Game (1966–1969)[1][2]   \n",
       "\n",
       "               vteNFL championships (1933–present).1  \n",
       "0  1933 1934 1935 1936 1937 1938 1939 1940 1941 1...  \n",
       "1  1921 APFA de facto championship game 1925 NFL ...  \n",
       "2  1960 1961 1962 1963 1964 1965 1966 1967 1968 1969  \n",
       "3  Pre-Super Bowl AFL playoffs Pre-Super Bowl AFL...  \n",
       "4            1966 (I) 1967 (II) 1968 (III) 1969 (IV)  "
      ]
     },
     "execution_count": 112,
     "metadata": {},
     "output_type": "execute_result"
    }
   ],
   "source": [
    "dfs[9].head()"
   ]
  },
  {
   "cell_type": "code",
   "execution_count": 113,
   "metadata": {},
   "outputs": [
    {
     "data": {
      "text/html": [
       "<div>\n",
       "<style scoped>\n",
       "    .dataframe tbody tr th:only-of-type {\n",
       "        vertical-align: middle;\n",
       "    }\n",
       "\n",
       "    .dataframe tbody tr th {\n",
       "        vertical-align: top;\n",
       "    }\n",
       "\n",
       "    .dataframe thead th {\n",
       "        text-align: right;\n",
       "    }\n",
       "</style>\n",
       "<table border=\"1\" class=\"dataframe\">\n",
       "  <thead>\n",
       "    <tr style=\"text-align: right;\">\n",
       "      <th></th>\n",
       "      <th>Game</th>\n",
       "      <th>Date/Season</th>\n",
       "      <th>Winning team</th>\n",
       "      <th>Score</th>\n",
       "      <th>Losing team</th>\n",
       "      <th>Venue</th>\n",
       "      <th>City</th>\n",
       "      <th>Attendance</th>\n",
       "      <th>Referee</th>\n",
       "      <th>Ref</th>\n",
       "    </tr>\n",
       "  </thead>\n",
       "  <tbody>\n",
       "    <tr>\n",
       "      <th>0</th>\n",
       "      <td>I [sb 1]</td>\n",
       "      <td>January 15, 1967 (1966 AFL/1966 NFL)</td>\n",
       "      <td>Green Bay Packersn (1, 1–0)</td>\n",
       "      <td>35–10</td>\n",
       "      <td>Kansas City Chiefsa (1, 0–1)</td>\n",
       "      <td>Los Angeles Memorial Coliseum</td>\n",
       "      <td>Los Angeles, California[sb 2]</td>\n",
       "      <td>61946</td>\n",
       "      <td>Norm Schachter</td>\n",
       "      <td>[7][8]</td>\n",
       "    </tr>\n",
       "    <tr>\n",
       "      <th>1</th>\n",
       "      <td>II [sb 1]</td>\n",
       "      <td>January 14, 1968 (1967 AFL/1967 NFL)</td>\n",
       "      <td>Green Bay Packersn (2, 2–0)</td>\n",
       "      <td>33–14</td>\n",
       "      <td>Oakland Raidersa (1, 0–1)</td>\n",
       "      <td>Miami Orange Bowl</td>\n",
       "      <td>Miami, Florida[sb 3]</td>\n",
       "      <td>75546</td>\n",
       "      <td>Jack Vest</td>\n",
       "      <td>[9][8]</td>\n",
       "    </tr>\n",
       "    <tr>\n",
       "      <th>2</th>\n",
       "      <td>III [sb 1]</td>\n",
       "      <td>January 12, 1969 (1968 AFL/1968 NFL)</td>\n",
       "      <td>New York Jetsa (1, 1–0)</td>\n",
       "      <td>16–7</td>\n",
       "      <td>Baltimore Coltsn (1, 0–1)</td>\n",
       "      <td>Miami Orange Bowl (2)</td>\n",
       "      <td>Miami, Florida (2)[sb 3]</td>\n",
       "      <td>75389</td>\n",
       "      <td>Tom Bell</td>\n",
       "      <td>[10][8]</td>\n",
       "    </tr>\n",
       "    <tr>\n",
       "      <th>3</th>\n",
       "      <td>IV [sb 1]</td>\n",
       "      <td>January 11, 1970 (1969 AFL/1969 NFL)</td>\n",
       "      <td>Kansas City Chiefsa (2, 1–1)</td>\n",
       "      <td>23–7</td>\n",
       "      <td>Minnesota Vikingsn (1, 0–1)</td>\n",
       "      <td>Tulane Stadium</td>\n",
       "      <td>New Orleans, Louisiana</td>\n",
       "      <td>80562</td>\n",
       "      <td>John McDonough</td>\n",
       "      <td>[11][8]</td>\n",
       "    </tr>\n",
       "    <tr>\n",
       "      <th>4</th>\n",
       "      <td>V</td>\n",
       "      <td>January 17, 1971 (1970)</td>\n",
       "      <td>Baltimore ColtsA (2, 1–1)</td>\n",
       "      <td>16–13</td>\n",
       "      <td>Dallas CowboysN (1, 0–1)</td>\n",
       "      <td>Miami Orange Bowl (3)</td>\n",
       "      <td>Miami, Florida (3)[sb 3]</td>\n",
       "      <td>79204</td>\n",
       "      <td>Norm Schachter</td>\n",
       "      <td>[12][8]</td>\n",
       "    </tr>\n",
       "    <tr>\n",
       "      <th>5</th>\n",
       "      <td>VI</td>\n",
       "      <td>January 16, 1972 (1971)</td>\n",
       "      <td>Dallas CowboysN (2, 1–1)</td>\n",
       "      <td>24–3</td>\n",
       "      <td>Miami DolphinsA (1, 0–1)</td>\n",
       "      <td>Tulane Stadium (2)</td>\n",
       "      <td>New Orleans, Louisiana (2)</td>\n",
       "      <td>81023</td>\n",
       "      <td>Jim Tunney</td>\n",
       "      <td>[13][8]</td>\n",
       "    </tr>\n",
       "    <tr>\n",
       "      <th>6</th>\n",
       "      <td>VII</td>\n",
       "      <td>January 14, 1973 (1972)</td>\n",
       "      <td>Miami DolphinsA (2, 1–1)</td>\n",
       "      <td>14–7</td>\n",
       "      <td>Washington RedskinsN (1, 0–1)</td>\n",
       "      <td>Los Angeles Memorial Coliseum (2)</td>\n",
       "      <td>Los Angeles, California (2)[sb 2]</td>\n",
       "      <td>90182</td>\n",
       "      <td>Tom Bell</td>\n",
       "      <td>[14][8]</td>\n",
       "    </tr>\n",
       "    <tr>\n",
       "      <th>7</th>\n",
       "      <td>VIII</td>\n",
       "      <td>January 13, 1974 (1973)</td>\n",
       "      <td>Miami DolphinsA (3, 2–1)</td>\n",
       "      <td>24–7</td>\n",
       "      <td>Minnesota VikingsN (2, 0–2)</td>\n",
       "      <td>Rice Stadium[sb 4]</td>\n",
       "      <td>Houston, Texas</td>\n",
       "      <td>71882</td>\n",
       "      <td>Ben Dreith</td>\n",
       "      <td>[15][8]</td>\n",
       "    </tr>\n",
       "    <tr>\n",
       "      <th>8</th>\n",
       "      <td>IX</td>\n",
       "      <td>January 12, 1975 (1974)</td>\n",
       "      <td>Pittsburgh SteelersA (1, 1–0)</td>\n",
       "      <td>16–6</td>\n",
       "      <td>Minnesota VikingsN (3, 0–3)</td>\n",
       "      <td>Tulane Stadium (3)</td>\n",
       "      <td>New Orleans, Louisiana (3)</td>\n",
       "      <td>80997</td>\n",
       "      <td>Bernie Ulman</td>\n",
       "      <td>[16][8]</td>\n",
       "    </tr>\n",
       "    <tr>\n",
       "      <th>9</th>\n",
       "      <td>X</td>\n",
       "      <td>January 18, 1976 (1975)</td>\n",
       "      <td>Pittsburgh SteelersA (2, 2–0)</td>\n",
       "      <td>21–17</td>\n",
       "      <td>Dallas CowboysN (3, 1–2) .mw-parser-output .ci...</td>\n",
       "      <td>Miami Orange Bowl (4)</td>\n",
       "      <td>Miami, Florida (4)[sb 3]</td>\n",
       "      <td>80187</td>\n",
       "      <td>Norm Schachter</td>\n",
       "      <td>[17][8]</td>\n",
       "    </tr>\n",
       "    <tr>\n",
       "      <th>10</th>\n",
       "      <td>XI</td>\n",
       "      <td>January 9, 1977 (1976)</td>\n",
       "      <td>Oakland RaidersA (2, 1–1)</td>\n",
       "      <td>32–14</td>\n",
       "      <td>Minnesota VikingsN (4, 0–4)</td>\n",
       "      <td>Rose Bowl[sb 5]</td>\n",
       "      <td>Pasadena, California (3)[sb 2]</td>\n",
       "      <td>103438</td>\n",
       "      <td>Jim Tunney</td>\n",
       "      <td>[18][8]</td>\n",
       "    </tr>\n",
       "    <tr>\n",
       "      <th>11</th>\n",
       "      <td>XII</td>\n",
       "      <td>January 15, 1978 (1977)</td>\n",
       "      <td>Dallas CowboysN (4, 2–2)</td>\n",
       "      <td>27–10</td>\n",
       "      <td>Denver BroncosA (1, 0–1)</td>\n",
       "      <td>Louisiana Superdome[sb 6]</td>\n",
       "      <td>New Orleans, Louisiana (4)</td>\n",
       "      <td>76400</td>\n",
       "      <td>Jim Tunney</td>\n",
       "      <td>[20][8]</td>\n",
       "    </tr>\n",
       "    <tr>\n",
       "      <th>12</th>\n",
       "      <td>XIII</td>\n",
       "      <td>January 21, 1979 (1978)</td>\n",
       "      <td>Pittsburgh SteelersA (3, 3–0)</td>\n",
       "      <td>35–31</td>\n",
       "      <td>Dallas CowboysN (5, 2–3)</td>\n",
       "      <td>Miami Orange Bowl (5)</td>\n",
       "      <td>Miami, Florida (5)[sb 3]</td>\n",
       "      <td>79484</td>\n",
       "      <td>Pat Haggerty</td>\n",
       "      <td>[21][8]</td>\n",
       "    </tr>\n",
       "    <tr>\n",
       "      <th>13</th>\n",
       "      <td>XIV</td>\n",
       "      <td>January 20, 1980 (1979)</td>\n",
       "      <td>Pittsburgh SteelersA (4, 4–0)</td>\n",
       "      <td>31–19</td>\n",
       "      <td>Los Angeles RamsN (1, 0–1)</td>\n",
       "      <td>Rose Bowl (2)[sb 5][sb 7]</td>\n",
       "      <td>Pasadena, California (4)[sb 2]</td>\n",
       "      <td>103985</td>\n",
       "      <td>Fred Silva</td>\n",
       "      <td>[22][8]</td>\n",
       "    </tr>\n",
       "    <tr>\n",
       "      <th>14</th>\n",
       "      <td>XV</td>\n",
       "      <td>January 25, 1981 (1980)</td>\n",
       "      <td>Oakland RaidersA (3, 2–1) [W]</td>\n",
       "      <td>27–10</td>\n",
       "      <td>Philadelphia EaglesN (1, 0–1)</td>\n",
       "      <td>Louisiana Superdome (2)[sb 6]</td>\n",
       "      <td>New Orleans, Louisiana (5)</td>\n",
       "      <td>76135</td>\n",
       "      <td>Ben Dreith</td>\n",
       "      <td>[23][8]</td>\n",
       "    </tr>\n",
       "    <tr>\n",
       "      <th>15</th>\n",
       "      <td>XVI</td>\n",
       "      <td>January 24, 1982 (1981)</td>\n",
       "      <td>San Francisco 49ersN (1, 1–0)</td>\n",
       "      <td>26–21</td>\n",
       "      <td>Cincinnati BengalsA (1, 0–1)</td>\n",
       "      <td>Pontiac Silverdome</td>\n",
       "      <td>Pontiac, Michigan[sb 8]</td>\n",
       "      <td>81270</td>\n",
       "      <td>Pat Haggerty</td>\n",
       "      <td>[25][8]</td>\n",
       "    </tr>\n",
       "    <tr>\n",
       "      <th>16</th>\n",
       "      <td>XVII</td>\n",
       "      <td>January 30, 1983 (1982)</td>\n",
       "      <td>Washington RedskinsN (2, 1–1)</td>\n",
       "      <td>27–17</td>\n",
       "      <td>Miami DolphinsA (4, 2–2)</td>\n",
       "      <td>Rose Bowl (3)[sb 5]</td>\n",
       "      <td>Pasadena, California (5)[sb 2]</td>\n",
       "      <td>103667</td>\n",
       "      <td>Jerry Markbreit</td>\n",
       "      <td>[26][8]</td>\n",
       "    </tr>\n",
       "    <tr>\n",
       "      <th>17</th>\n",
       "      <td>XVIII</td>\n",
       "      <td>January 22, 1984 (1983)</td>\n",
       "      <td>Los Angeles RaidersA (4, 3–1)</td>\n",
       "      <td>38–9</td>\n",
       "      <td>Washington RedskinsN (3, 1–2)</td>\n",
       "      <td>Tampa Stadium</td>\n",
       "      <td>Tampa, Florida</td>\n",
       "      <td>72920</td>\n",
       "      <td>Gene Barth</td>\n",
       "      <td>[27][8]</td>\n",
       "    </tr>\n",
       "    <tr>\n",
       "      <th>18</th>\n",
       "      <td>XIX</td>\n",
       "      <td>January 20, 1985 (1984)</td>\n",
       "      <td>San Francisco 49ersN (2, 2–0)</td>\n",
       "      <td>38–16</td>\n",
       "      <td>Miami DolphinsA (5, 2–3)</td>\n",
       "      <td>Stanford Stadium[sb 9]</td>\n",
       "      <td>Stanford, California[sb 10]</td>\n",
       "      <td>84059</td>\n",
       "      <td>Pat Haggerty</td>\n",
       "      <td>[29][8]</td>\n",
       "    </tr>\n",
       "    <tr>\n",
       "      <th>19</th>\n",
       "      <td>XX</td>\n",
       "      <td>January 26, 1986 (1985)</td>\n",
       "      <td>Chicago BearsN (1, 1–0)</td>\n",
       "      <td>46–10</td>\n",
       "      <td>New England PatriotsA (1, 0–1) [W]</td>\n",
       "      <td>Louisiana Superdome (3)[sb 6]</td>\n",
       "      <td>New Orleans, Louisiana (6)</td>\n",
       "      <td>73818</td>\n",
       "      <td>Red Cashion</td>\n",
       "      <td>[30][8]</td>\n",
       "    </tr>\n",
       "    <tr>\n",
       "      <th>20</th>\n",
       "      <td>XXI</td>\n",
       "      <td>January 25, 1987 (1986)</td>\n",
       "      <td>New York GiantsN (1, 1–0)</td>\n",
       "      <td>39–20</td>\n",
       "      <td>Denver BroncosA (2, 0–2)</td>\n",
       "      <td>Rose Bowl (4)[sb 5]</td>\n",
       "      <td>Pasadena, California (6)[sb 2]</td>\n",
       "      <td>101063</td>\n",
       "      <td>Jerry Markbreit</td>\n",
       "      <td>[31][8]</td>\n",
       "    </tr>\n",
       "    <tr>\n",
       "      <th>21</th>\n",
       "      <td>XXII</td>\n",
       "      <td>January 31, 1988 (1987)</td>\n",
       "      <td>Washington RedskinsN (4, 2–2)</td>\n",
       "      <td>42–10</td>\n",
       "      <td>Denver BroncosA (3, 0–3)</td>\n",
       "      <td>San Diego–Jack Murphy Stadium[sb 11]</td>\n",
       "      <td>San Diego, California</td>\n",
       "      <td>73302</td>\n",
       "      <td>Bob McElwee</td>\n",
       "      <td>[32][8]</td>\n",
       "    </tr>\n",
       "    <tr>\n",
       "      <th>22</th>\n",
       "      <td>XXIII</td>\n",
       "      <td>January 22, 1989 (1988)</td>\n",
       "      <td>San Francisco 49ersN (3, 3–0)</td>\n",
       "      <td>20–16</td>\n",
       "      <td>Cincinnati BengalsA (2, 0–2)</td>\n",
       "      <td>Joe Robbie Stadium[sb 12]</td>\n",
       "      <td>Miami, Florida (6)[sb 3]</td>\n",
       "      <td>75129</td>\n",
       "      <td>Jerry Seeman</td>\n",
       "      <td>[33][8]</td>\n",
       "    </tr>\n",
       "    <tr>\n",
       "      <th>23</th>\n",
       "      <td>XXIV</td>\n",
       "      <td>January 28, 1990 (1989)</td>\n",
       "      <td>San Francisco 49ersN (4, 4–0)</td>\n",
       "      <td>55–10</td>\n",
       "      <td>Denver BroncosA (4, 0–4)</td>\n",
       "      <td>Louisiana Superdome (4)[sb 6]</td>\n",
       "      <td>New Orleans, Louisiana (7)</td>\n",
       "      <td>72919</td>\n",
       "      <td>Dick Jorgensen</td>\n",
       "      <td>[34][8]</td>\n",
       "    </tr>\n",
       "    <tr>\n",
       "      <th>24</th>\n",
       "      <td>XXV</td>\n",
       "      <td>January 27, 1991 (1990)</td>\n",
       "      <td>New York GiantsN (2, 2–0)</td>\n",
       "      <td>20–19</td>\n",
       "      <td>Buffalo BillsA (1, 0–1)</td>\n",
       "      <td>Tampa Stadium (2)</td>\n",
       "      <td>Tampa, Florida (2)</td>\n",
       "      <td>73813</td>\n",
       "      <td>Jerry Seeman</td>\n",
       "      <td>[35][8]</td>\n",
       "    </tr>\n",
       "    <tr>\n",
       "      <th>25</th>\n",
       "      <td>XXVI</td>\n",
       "      <td>January 26, 1992 (1991)</td>\n",
       "      <td>Washington RedskinsN (5, 3–2)</td>\n",
       "      <td>37–24</td>\n",
       "      <td>Buffalo BillsA (2, 0–2)</td>\n",
       "      <td>Metrodome</td>\n",
       "      <td>Minneapolis, Minnesota</td>\n",
       "      <td>63130</td>\n",
       "      <td>Jerry Markbreit</td>\n",
       "      <td>[36][8]</td>\n",
       "    </tr>\n",
       "    <tr>\n",
       "      <th>26</th>\n",
       "      <td>XXVII</td>\n",
       "      <td>January 31, 1993 (1992)</td>\n",
       "      <td>Dallas CowboysN (6, 3–3)</td>\n",
       "      <td>52–17</td>\n",
       "      <td>Buffalo BillsA (3, 0–3) [W]</td>\n",
       "      <td>Rose Bowl (5)[sb 5]</td>\n",
       "      <td>Pasadena, California (7)[sb 2]</td>\n",
       "      <td>98374</td>\n",
       "      <td>Dick Hantak</td>\n",
       "      <td>[37][8]</td>\n",
       "    </tr>\n",
       "    <tr>\n",
       "      <th>27</th>\n",
       "      <td>XXVIII</td>\n",
       "      <td>January 30, 1994 (1993)</td>\n",
       "      <td>Dallas CowboysN (7, 4–3)</td>\n",
       "      <td>30–13</td>\n",
       "      <td>Buffalo BillsA (4, 0–4)</td>\n",
       "      <td>Georgia Dome</td>\n",
       "      <td>Atlanta, Georgia</td>\n",
       "      <td>72817</td>\n",
       "      <td>Bob McElwee</td>\n",
       "      <td>[38][8]</td>\n",
       "    </tr>\n",
       "    <tr>\n",
       "      <th>28</th>\n",
       "      <td>XXIX</td>\n",
       "      <td>January 29, 1995 (1994)</td>\n",
       "      <td>San Francisco 49ersN (5, 5–0)</td>\n",
       "      <td>49–26</td>\n",
       "      <td>San Diego ChargersA (1, 0–1)</td>\n",
       "      <td>Joe Robbie Stadium (2)[sb 12]</td>\n",
       "      <td>Miami, Florida (7)[sb 3]</td>\n",
       "      <td>74107</td>\n",
       "      <td>Jerry Markbreit</td>\n",
       "      <td>[39][8]</td>\n",
       "    </tr>\n",
       "    <tr>\n",
       "      <th>29</th>\n",
       "      <td>XXX</td>\n",
       "      <td>January 28, 1996 (1995)</td>\n",
       "      <td>Dallas CowboysN (8, 5–3)</td>\n",
       "      <td>27–17</td>\n",
       "      <td>Pittsburgh SteelersA (5, 4–1)</td>\n",
       "      <td>Sun Devil Stadium</td>\n",
       "      <td>Tempe, Arizona[sb 13]</td>\n",
       "      <td>76347</td>\n",
       "      <td>Red Cashion</td>\n",
       "      <td>[42][8]</td>\n",
       "    </tr>\n",
       "    <tr>\n",
       "      <th>30</th>\n",
       "      <td>XXXI</td>\n",
       "      <td>January 26, 1997 (1996)</td>\n",
       "      <td>Green Bay PackersN (3, 3–0)</td>\n",
       "      <td>35–21</td>\n",
       "      <td>New England PatriotsA (2, 0–2)</td>\n",
       "      <td>Louisiana Superdome (5)[sb 6]</td>\n",
       "      <td>New Orleans, Louisiana (8)</td>\n",
       "      <td>72301</td>\n",
       "      <td>Gerry Austin</td>\n",
       "      <td>[43][8]</td>\n",
       "    </tr>\n",
       "    <tr>\n",
       "      <th>31</th>\n",
       "      <td>XXXII</td>\n",
       "      <td>January 25, 1998 (1997)</td>\n",
       "      <td>Denver BroncosA (5, 1–4)[W]</td>\n",
       "      <td>31–24</td>\n",
       "      <td>Green Bay PackersN (4, 3–1)</td>\n",
       "      <td>Qualcomm Stadium (2)[sb 11]</td>\n",
       "      <td>San Diego, California (2)</td>\n",
       "      <td>68912</td>\n",
       "      <td>Ed Hochuli</td>\n",
       "      <td>[44][8]</td>\n",
       "    </tr>\n",
       "    <tr>\n",
       "      <th>32</th>\n",
       "      <td>XXXIII</td>\n",
       "      <td>January 31, 1999 (1998)</td>\n",
       "      <td>Denver BroncosA (6, 2–4)</td>\n",
       "      <td>34–19</td>\n",
       "      <td>Atlanta FalconsN (1, 0–1)</td>\n",
       "      <td>Pro Player Stadium (3)[sb 12]</td>\n",
       "      <td>Miami, Florida (8)[sb 3]</td>\n",
       "      <td>74803</td>\n",
       "      <td>Bernie Kukar</td>\n",
       "      <td>[45][8]</td>\n",
       "    </tr>\n",
       "    <tr>\n",
       "      <th>33</th>\n",
       "      <td>XXXIV</td>\n",
       "      <td>January 30, 2000 (1999)</td>\n",
       "      <td>St. Louis RamsN (2, 1–1)</td>\n",
       "      <td>23–16</td>\n",
       "      <td>Tennessee TitansA (1, 0–1) [W]</td>\n",
       "      <td>Georgia Dome (2)</td>\n",
       "      <td>Atlanta, Georgia (2)</td>\n",
       "      <td>72625</td>\n",
       "      <td>Bob McElwee</td>\n",
       "      <td>[46][8]</td>\n",
       "    </tr>\n",
       "    <tr>\n",
       "      <th>34</th>\n",
       "      <td>XXXV</td>\n",
       "      <td>January 28, 2001 (2000)</td>\n",
       "      <td>Baltimore RavensA (1, 1–0) [W]</td>\n",
       "      <td>34–7</td>\n",
       "      <td>New York GiantsN (3, 2–1)</td>\n",
       "      <td>Raymond James Stadium</td>\n",
       "      <td>Tampa, Florida (3)</td>\n",
       "      <td>71921</td>\n",
       "      <td>Gerry Austin</td>\n",
       "      <td>[47][8]</td>\n",
       "    </tr>\n",
       "    <tr>\n",
       "      <th>35</th>\n",
       "      <td>XXXVI</td>\n",
       "      <td>February 3, 2002 (2001)</td>\n",
       "      <td>New England PatriotsA (3, 1–2)</td>\n",
       "      <td>20–17</td>\n",
       "      <td>St. Louis RamsN (3, 1–2)</td>\n",
       "      <td>Louisiana Superdome (6)[sb 6]</td>\n",
       "      <td>New Orleans, Louisiana (9)</td>\n",
       "      <td>72922</td>\n",
       "      <td>Bernie Kukar</td>\n",
       "      <td>[48][8]</td>\n",
       "    </tr>\n",
       "    <tr>\n",
       "      <th>36</th>\n",
       "      <td>XXXVII</td>\n",
       "      <td>January 26, 2003 (2002)</td>\n",
       "      <td>Tampa Bay BuccaneersN (1, 1–0)</td>\n",
       "      <td>48–21</td>\n",
       "      <td>Oakland RaidersA (5, 3–2)</td>\n",
       "      <td>Qualcomm Stadium (3)[sb 11]</td>\n",
       "      <td>San Diego, California (3)</td>\n",
       "      <td>67603</td>\n",
       "      <td>Bill Carollo</td>\n",
       "      <td>[49][8]</td>\n",
       "    </tr>\n",
       "    <tr>\n",
       "      <th>37</th>\n",
       "      <td>XXXVIII</td>\n",
       "      <td>February 1, 2004 (2003)</td>\n",
       "      <td>New England PatriotsA (4, 2–2)</td>\n",
       "      <td>32–29</td>\n",
       "      <td>Carolina PanthersN (1, 0–1)</td>\n",
       "      <td>Reliant Stadium[sb 14]</td>\n",
       "      <td>Houston, Texas (2)</td>\n",
       "      <td>71525</td>\n",
       "      <td>Ed Hochuli</td>\n",
       "      <td>[50][8]</td>\n",
       "    </tr>\n",
       "    <tr>\n",
       "      <th>38</th>\n",
       "      <td>XXXIX</td>\n",
       "      <td>February 6, 2005 (2004)</td>\n",
       "      <td>New England PatriotsA (5, 3–2)</td>\n",
       "      <td>24–21</td>\n",
       "      <td>Philadelphia EaglesN (2, 0–2)</td>\n",
       "      <td>Alltel Stadium</td>\n",
       "      <td>Jacksonville, Florida</td>\n",
       "      <td>78125</td>\n",
       "      <td>Terry McAulay</td>\n",
       "      <td>[51][8]</td>\n",
       "    </tr>\n",
       "    <tr>\n",
       "      <th>39</th>\n",
       "      <td>XL</td>\n",
       "      <td>February 5, 2006 (2005)</td>\n",
       "      <td>Pittsburgh SteelersA (6, 5–1) [W]</td>\n",
       "      <td>21–10</td>\n",
       "      <td>Seattle SeahawksN (1, 0–1)</td>\n",
       "      <td>Ford Field</td>\n",
       "      <td>Detroit, Michigan (2)[sb 8]</td>\n",
       "      <td>68206</td>\n",
       "      <td>Bill Leavy</td>\n",
       "      <td>[52][8]</td>\n",
       "    </tr>\n",
       "    <tr>\n",
       "      <th>40</th>\n",
       "      <td>XLI</td>\n",
       "      <td>February 4, 2007 (2006)</td>\n",
       "      <td>Indianapolis ColtsA (3, 2–1)</td>\n",
       "      <td>29–17</td>\n",
       "      <td>Chicago BearsN (2, 1–1)</td>\n",
       "      <td>Dolphin Stadium (4)[sb 12]</td>\n",
       "      <td>Miami Gardens, Florida (9)[sb 3]</td>\n",
       "      <td>74512</td>\n",
       "      <td>Tony Corrente</td>\n",
       "      <td>[53][8]</td>\n",
       "    </tr>\n",
       "    <tr>\n",
       "      <th>41</th>\n",
       "      <td>XLII</td>\n",
       "      <td>February 3, 2008 (2007)</td>\n",
       "      <td>New York GiantsN (4, 3–1) [W]</td>\n",
       "      <td>17–14</td>\n",
       "      <td>New England PatriotsA (6, 3–3)</td>\n",
       "      <td>University of Phoenix Stadium[sb 15]</td>\n",
       "      <td>Glendale, Arizona (2)[sb 13]</td>\n",
       "      <td>71101</td>\n",
       "      <td>Mike Carey</td>\n",
       "      <td>[54][8]</td>\n",
       "    </tr>\n",
       "    <tr>\n",
       "      <th>42</th>\n",
       "      <td>XLIII</td>\n",
       "      <td>February 1, 2009 (2008)</td>\n",
       "      <td>Pittsburgh SteelersA (7, 6–1)</td>\n",
       "      <td>27–23</td>\n",
       "      <td>Arizona CardinalsN (1, 0–1)</td>\n",
       "      <td>Raymond James Stadium (2)</td>\n",
       "      <td>Tampa, Florida (4)</td>\n",
       "      <td>70774</td>\n",
       "      <td>Terry McAulay</td>\n",
       "      <td>[55][8]</td>\n",
       "    </tr>\n",
       "    <tr>\n",
       "      <th>43</th>\n",
       "      <td>XLIV</td>\n",
       "      <td>February 7, 2010 (2009)</td>\n",
       "      <td>New Orleans SaintsN (1, 1–0)</td>\n",
       "      <td>31–17</td>\n",
       "      <td>Indianapolis ColtsA (4, 2–2)</td>\n",
       "      <td>Sun Life Stadium (5)[sb 12]</td>\n",
       "      <td>Miami Gardens, Florida (10)[sb 3]</td>\n",
       "      <td>74059</td>\n",
       "      <td>Scott Green</td>\n",
       "      <td>[56][8]</td>\n",
       "    </tr>\n",
       "    <tr>\n",
       "      <th>44</th>\n",
       "      <td>XLV</td>\n",
       "      <td>February 6, 2011 (2010)</td>\n",
       "      <td>Green Bay PackersN (5, 4–1) [W]</td>\n",
       "      <td>31–25</td>\n",
       "      <td>Pittsburgh SteelersA (8, 6–2)</td>\n",
       "      <td>Cowboys Stadium</td>\n",
       "      <td>Arlington, Texas</td>\n",
       "      <td>103219</td>\n",
       "      <td>Walt Anderson</td>\n",
       "      <td>[57][58][8]</td>\n",
       "    </tr>\n",
       "    <tr>\n",
       "      <th>45</th>\n",
       "      <td>XLVI</td>\n",
       "      <td>February 5, 2012 (2011)</td>\n",
       "      <td>New York GiantsN (5, 4–1)</td>\n",
       "      <td>21–17</td>\n",
       "      <td>New England PatriotsA (7, 3–4)</td>\n",
       "      <td>Lucas Oil Stadium</td>\n",
       "      <td>Indianapolis, Indiana</td>\n",
       "      <td>68658</td>\n",
       "      <td>John Parry</td>\n",
       "      <td>[59][8][60][61]</td>\n",
       "    </tr>\n",
       "    <tr>\n",
       "      <th>46</th>\n",
       "      <td>XLVII</td>\n",
       "      <td>February 3, 2013 (2012)</td>\n",
       "      <td>Baltimore RavensA (2, 2–0)</td>\n",
       "      <td>34–31</td>\n",
       "      <td>San Francisco 49ersN (6, 5–1)</td>\n",
       "      <td>Mercedes-Benz Superdome (7)[sb 6]</td>\n",
       "      <td>New Orleans, Louisiana (10)</td>\n",
       "      <td>71024</td>\n",
       "      <td>Jerome Boger</td>\n",
       "      <td>[62][8][60][63]</td>\n",
       "    </tr>\n",
       "    <tr>\n",
       "      <th>47</th>\n",
       "      <td>XLVIII</td>\n",
       "      <td>February 2, 2014 (2013)</td>\n",
       "      <td>Seattle SeahawksN (2, 1–1)</td>\n",
       "      <td>43–8</td>\n",
       "      <td>Denver BroncosA (7, 2–5)</td>\n",
       "      <td>MetLife Stadium</td>\n",
       "      <td>East Rutherford, New Jersey[sb 16]</td>\n",
       "      <td>82529</td>\n",
       "      <td>Terry McAulay</td>\n",
       "      <td>[64][8][65]</td>\n",
       "    </tr>\n",
       "    <tr>\n",
       "      <th>48</th>\n",
       "      <td>XLIX</td>\n",
       "      <td>February 1, 2015 (2014)</td>\n",
       "      <td>New England PatriotsA (8, 4–4)</td>\n",
       "      <td>28–24</td>\n",
       "      <td>Seattle SeahawksN (3, 1–2)</td>\n",
       "      <td>University of Phoenix Stadium (2)[sb 15]</td>\n",
       "      <td>Glendale, Arizona (3)[sb 13]</td>\n",
       "      <td>70288</td>\n",
       "      <td>Bill Vinovich</td>\n",
       "      <td>[66][8][67][68]</td>\n",
       "    </tr>\n",
       "    <tr>\n",
       "      <th>49</th>\n",
       "      <td>50 [sb 17]</td>\n",
       "      <td>February 7, 2016 (2015)</td>\n",
       "      <td>Denver BroncosA (8, 3–5)</td>\n",
       "      <td>24–10</td>\n",
       "      <td>Carolina PanthersN (2, 0–2)</td>\n",
       "      <td>Levi's Stadium</td>\n",
       "      <td>Santa Clara, California (2)[sb 10]</td>\n",
       "      <td>71088</td>\n",
       "      <td>Clete Blakeman</td>\n",
       "      <td>[69][68][70][71]</td>\n",
       "    </tr>\n",
       "    <tr>\n",
       "      <th>50</th>\n",
       "      <td>LI</td>\n",
       "      <td>February 5, 2017 (2016)</td>\n",
       "      <td>New England PatriotsA (9, 5–4)</td>\n",
       "      <td>34–28 (OT)</td>\n",
       "      <td>Atlanta FalconsN (2, 0–2)</td>\n",
       "      <td>NRG Stadium (2)[sb 14]</td>\n",
       "      <td>Houston, Texas (3)</td>\n",
       "      <td>70807</td>\n",
       "      <td>Carl Cheffers</td>\n",
       "      <td>[72][68][70][71]</td>\n",
       "    </tr>\n",
       "    <tr>\n",
       "      <th>51</th>\n",
       "      <td>LII</td>\n",
       "      <td>February 4, 2018 (2017)</td>\n",
       "      <td>Philadelphia EaglesN (3, 1–2)</td>\n",
       "      <td>41–33</td>\n",
       "      <td>New England PatriotsA (10, 5–5)</td>\n",
       "      <td>U.S. Bank Stadium</td>\n",
       "      <td>Minneapolis, Minnesota (2)</td>\n",
       "      <td>67612</td>\n",
       "      <td>Gene Steratore</td>\n",
       "      <td>[73][74][75][76]</td>\n",
       "    </tr>\n",
       "    <tr>\n",
       "      <th>52</th>\n",
       "      <td>LIII</td>\n",
       "      <td>February 3, 2019 (2018)</td>\n",
       "      <td>New England PatriotsA (11, 6–5)</td>\n",
       "      <td>13–3</td>\n",
       "      <td>Los Angeles RamsN (4, 1–3)</td>\n",
       "      <td>Mercedes-Benz Stadium</td>\n",
       "      <td>Atlanta, Georgia (3)</td>\n",
       "      <td>70081</td>\n",
       "      <td>John Parry</td>\n",
       "      <td>[77][78][79]</td>\n",
       "    </tr>\n",
       "    <tr>\n",
       "      <th>53</th>\n",
       "      <td>LIV</td>\n",
       "      <td>February 2, 2020 (2019)</td>\n",
       "      <td>Kansas City ChiefsA (3, 2–1)</td>\n",
       "      <td>31–20</td>\n",
       "      <td>San Francisco 49ersN (7, 5–2)</td>\n",
       "      <td>Hard Rock Stadium (6)[sb 12]</td>\n",
       "      <td>Miami Gardens, Florida (11)[sb 3]</td>\n",
       "      <td>62417</td>\n",
       "      <td>Bill Vinovich</td>\n",
       "      <td>[78][79]</td>\n",
       "    </tr>\n",
       "    <tr>\n",
       "      <th>54</th>\n",
       "      <td>LV</td>\n",
       "      <td>February 7, 2021 (2020)</td>\n",
       "      <td>Tampa Bay BuccaneersN (2, 2–0) [W]</td>\n",
       "      <td>31–9</td>\n",
       "      <td>Kansas City ChiefsA (4, 2–2)</td>\n",
       "      <td>Raymond James Stadium (3)</td>\n",
       "      <td>Tampa, Florida (5)</td>\n",
       "      <td>24835</td>\n",
       "      <td>Carl Cheffers</td>\n",
       "      <td>[78][79]</td>\n",
       "    </tr>\n",
       "    <tr>\n",
       "      <th>55</th>\n",
       "      <td>LVI</td>\n",
       "      <td>February 13, 2022 (2021)</td>\n",
       "      <td>Los Angeles RamsN (5, 2–3)</td>\n",
       "      <td>23–20</td>\n",
       "      <td>Cincinnati BengalsA (3, 0–3)</td>\n",
       "      <td>SoFi Stadium</td>\n",
       "      <td>Inglewood, California (8)[sb 2]</td>\n",
       "      <td>70048</td>\n",
       "      <td>Ron Torbert</td>\n",
       "      <td>[78][79]</td>\n",
       "    </tr>\n",
       "    <tr>\n",
       "      <th>56</th>\n",
       "      <td>LVII</td>\n",
       "      <td>February 12, 2023 (2022)</td>\n",
       "      <td>Kansas City ChiefsA (5, 3–2)</td>\n",
       "      <td>38–35</td>\n",
       "      <td>Philadelphia EaglesN (4, 1–3)</td>\n",
       "      <td>State Farm Stadium (3)[sb 15]</td>\n",
       "      <td>Glendale, Arizona (4)[sb 13]</td>\n",
       "      <td>67827</td>\n",
       "      <td>Carl Cheffers</td>\n",
       "      <td>NaN</td>\n",
       "    </tr>\n",
       "    <tr>\n",
       "      <th>57</th>\n",
       "      <td>LVIII</td>\n",
       "      <td>February 11, 2024 (2023)</td>\n",
       "      <td>Kansas City ChiefsA (6, 4–2)</td>\n",
       "      <td>25–22 (OT)</td>\n",
       "      <td>San Francisco 49ersN (8, 5–3)</td>\n",
       "      <td>Allegiant Stadium</td>\n",
       "      <td>Paradise, Nevada</td>\n",
       "      <td>61629</td>\n",
       "      <td>Bill Vinovich</td>\n",
       "      <td>NaN</td>\n",
       "    </tr>\n",
       "  </tbody>\n",
       "</table>\n",
       "</div>"
      ],
      "text/plain": [
       "          Game                           Date/Season  \\\n",
       "0     I [sb 1]  January 15, 1967 (1966 AFL/1966 NFL)   \n",
       "1    II [sb 1]  January 14, 1968 (1967 AFL/1967 NFL)   \n",
       "2   III [sb 1]  January 12, 1969 (1968 AFL/1968 NFL)   \n",
       "3    IV [sb 1]  January 11, 1970 (1969 AFL/1969 NFL)   \n",
       "4            V               January 17, 1971 (1970)   \n",
       "5           VI               January 16, 1972 (1971)   \n",
       "6          VII               January 14, 1973 (1972)   \n",
       "7         VIII               January 13, 1974 (1973)   \n",
       "8           IX               January 12, 1975 (1974)   \n",
       "9            X               January 18, 1976 (1975)   \n",
       "10          XI                January 9, 1977 (1976)   \n",
       "11         XII               January 15, 1978 (1977)   \n",
       "12        XIII               January 21, 1979 (1978)   \n",
       "13         XIV               January 20, 1980 (1979)   \n",
       "14          XV               January 25, 1981 (1980)   \n",
       "15         XVI               January 24, 1982 (1981)   \n",
       "16        XVII               January 30, 1983 (1982)   \n",
       "17       XVIII               January 22, 1984 (1983)   \n",
       "18         XIX               January 20, 1985 (1984)   \n",
       "19          XX               January 26, 1986 (1985)   \n",
       "20         XXI               January 25, 1987 (1986)   \n",
       "21        XXII               January 31, 1988 (1987)   \n",
       "22       XXIII               January 22, 1989 (1988)   \n",
       "23        XXIV               January 28, 1990 (1989)   \n",
       "24         XXV               January 27, 1991 (1990)   \n",
       "25        XXVI               January 26, 1992 (1991)   \n",
       "26       XXVII               January 31, 1993 (1992)   \n",
       "27      XXVIII               January 30, 1994 (1993)   \n",
       "28        XXIX               January 29, 1995 (1994)   \n",
       "29         XXX               January 28, 1996 (1995)   \n",
       "30        XXXI               January 26, 1997 (1996)   \n",
       "31       XXXII               January 25, 1998 (1997)   \n",
       "32      XXXIII               January 31, 1999 (1998)   \n",
       "33       XXXIV               January 30, 2000 (1999)   \n",
       "34        XXXV               January 28, 2001 (2000)   \n",
       "35       XXXVI               February 3, 2002 (2001)   \n",
       "36      XXXVII               January 26, 2003 (2002)   \n",
       "37     XXXVIII               February 1, 2004 (2003)   \n",
       "38       XXXIX               February 6, 2005 (2004)   \n",
       "39          XL               February 5, 2006 (2005)   \n",
       "40         XLI               February 4, 2007 (2006)   \n",
       "41        XLII               February 3, 2008 (2007)   \n",
       "42       XLIII               February 1, 2009 (2008)   \n",
       "43        XLIV               February 7, 2010 (2009)   \n",
       "44         XLV               February 6, 2011 (2010)   \n",
       "45        XLVI               February 5, 2012 (2011)   \n",
       "46       XLVII               February 3, 2013 (2012)   \n",
       "47      XLVIII               February 2, 2014 (2013)   \n",
       "48        XLIX               February 1, 2015 (2014)   \n",
       "49  50 [sb 17]               February 7, 2016 (2015)   \n",
       "50          LI               February 5, 2017 (2016)   \n",
       "51         LII               February 4, 2018 (2017)   \n",
       "52        LIII               February 3, 2019 (2018)   \n",
       "53         LIV               February 2, 2020 (2019)   \n",
       "54          LV               February 7, 2021 (2020)   \n",
       "55         LVI              February 13, 2022 (2021)   \n",
       "56        LVII              February 12, 2023 (2022)   \n",
       "57       LVIII              February 11, 2024 (2023)   \n",
       "\n",
       "                          Winning team       Score  \\\n",
       "0          Green Bay Packersn (1, 1–0)       35–10   \n",
       "1          Green Bay Packersn (2, 2–0)       33–14   \n",
       "2              New York Jetsa (1, 1–0)        16–7   \n",
       "3         Kansas City Chiefsa (2, 1–1)        23–7   \n",
       "4            Baltimore ColtsA (2, 1–1)       16–13   \n",
       "5             Dallas CowboysN (2, 1–1)        24–3   \n",
       "6             Miami DolphinsA (2, 1–1)        14–7   \n",
       "7             Miami DolphinsA (3, 2–1)        24–7   \n",
       "8        Pittsburgh SteelersA (1, 1–0)        16–6   \n",
       "9        Pittsburgh SteelersA (2, 2–0)       21–17   \n",
       "10           Oakland RaidersA (2, 1–1)       32–14   \n",
       "11            Dallas CowboysN (4, 2–2)       27–10   \n",
       "12       Pittsburgh SteelersA (3, 3–0)       35–31   \n",
       "13       Pittsburgh SteelersA (4, 4–0)       31–19   \n",
       "14       Oakland RaidersA (3, 2–1) [W]       27–10   \n",
       "15       San Francisco 49ersN (1, 1–0)       26–21   \n",
       "16       Washington RedskinsN (2, 1–1)       27–17   \n",
       "17       Los Angeles RaidersA (4, 3–1)        38–9   \n",
       "18       San Francisco 49ersN (2, 2–0)       38–16   \n",
       "19             Chicago BearsN (1, 1–0)       46–10   \n",
       "20           New York GiantsN (1, 1–0)       39–20   \n",
       "21       Washington RedskinsN (4, 2–2)       42–10   \n",
       "22       San Francisco 49ersN (3, 3–0)       20–16   \n",
       "23       San Francisco 49ersN (4, 4–0)       55–10   \n",
       "24           New York GiantsN (2, 2–0)       20–19   \n",
       "25       Washington RedskinsN (5, 3–2)       37–24   \n",
       "26            Dallas CowboysN (6, 3–3)       52–17   \n",
       "27            Dallas CowboysN (7, 4–3)       30–13   \n",
       "28       San Francisco 49ersN (5, 5–0)       49–26   \n",
       "29            Dallas CowboysN (8, 5–3)       27–17   \n",
       "30         Green Bay PackersN (3, 3–0)       35–21   \n",
       "31         Denver BroncosA (5, 1–4)[W]       31–24   \n",
       "32            Denver BroncosA (6, 2–4)       34–19   \n",
       "33            St. Louis RamsN (2, 1–1)       23–16   \n",
       "34      Baltimore RavensA (1, 1–0) [W]        34–7   \n",
       "35      New England PatriotsA (3, 1–2)       20–17   \n",
       "36      Tampa Bay BuccaneersN (1, 1–0)       48–21   \n",
       "37      New England PatriotsA (4, 2–2)       32–29   \n",
       "38      New England PatriotsA (5, 3–2)       24–21   \n",
       "39   Pittsburgh SteelersA (6, 5–1) [W]       21–10   \n",
       "40        Indianapolis ColtsA (3, 2–1)       29–17   \n",
       "41       New York GiantsN (4, 3–1) [W]       17–14   \n",
       "42       Pittsburgh SteelersA (7, 6–1)       27–23   \n",
       "43        New Orleans SaintsN (1, 1–0)       31–17   \n",
       "44     Green Bay PackersN (5, 4–1) [W]       31–25   \n",
       "45           New York GiantsN (5, 4–1)       21–17   \n",
       "46          Baltimore RavensA (2, 2–0)       34–31   \n",
       "47          Seattle SeahawksN (2, 1–1)        43–8   \n",
       "48      New England PatriotsA (8, 4–4)       28–24   \n",
       "49            Denver BroncosA (8, 3–5)       24–10   \n",
       "50      New England PatriotsA (9, 5–4)  34–28 (OT)   \n",
       "51       Philadelphia EaglesN (3, 1–2)       41–33   \n",
       "52     New England PatriotsA (11, 6–5)        13–3   \n",
       "53        Kansas City ChiefsA (3, 2–1)       31–20   \n",
       "54  Tampa Bay BuccaneersN (2, 2–0) [W]        31–9   \n",
       "55          Los Angeles RamsN (5, 2–3)       23–20   \n",
       "56        Kansas City ChiefsA (5, 3–2)       38–35   \n",
       "57        Kansas City ChiefsA (6, 4–2)  25–22 (OT)   \n",
       "\n",
       "                                          Losing team  \\\n",
       "0                        Kansas City Chiefsa (1, 0–1)   \n",
       "1                           Oakland Raidersa (1, 0–1)   \n",
       "2                           Baltimore Coltsn (1, 0–1)   \n",
       "3                         Minnesota Vikingsn (1, 0–1)   \n",
       "4                            Dallas CowboysN (1, 0–1)   \n",
       "5                            Miami DolphinsA (1, 0–1)   \n",
       "6                       Washington RedskinsN (1, 0–1)   \n",
       "7                         Minnesota VikingsN (2, 0–2)   \n",
       "8                         Minnesota VikingsN (3, 0–3)   \n",
       "9   Dallas CowboysN (3, 1–2) .mw-parser-output .ci...   \n",
       "10                        Minnesota VikingsN (4, 0–4)   \n",
       "11                           Denver BroncosA (1, 0–1)   \n",
       "12                           Dallas CowboysN (5, 2–3)   \n",
       "13                         Los Angeles RamsN (1, 0–1)   \n",
       "14                      Philadelphia EaglesN (1, 0–1)   \n",
       "15                       Cincinnati BengalsA (1, 0–1)   \n",
       "16                           Miami DolphinsA (4, 2–2)   \n",
       "17                      Washington RedskinsN (3, 1–2)   \n",
       "18                           Miami DolphinsA (5, 2–3)   \n",
       "19                 New England PatriotsA (1, 0–1) [W]   \n",
       "20                           Denver BroncosA (2, 0–2)   \n",
       "21                           Denver BroncosA (3, 0–3)   \n",
       "22                       Cincinnati BengalsA (2, 0–2)   \n",
       "23                           Denver BroncosA (4, 0–4)   \n",
       "24                            Buffalo BillsA (1, 0–1)   \n",
       "25                            Buffalo BillsA (2, 0–2)   \n",
       "26                        Buffalo BillsA (3, 0–3) [W]   \n",
       "27                            Buffalo BillsA (4, 0–4)   \n",
       "28                       San Diego ChargersA (1, 0–1)   \n",
       "29                      Pittsburgh SteelersA (5, 4–1)   \n",
       "30                     New England PatriotsA (2, 0–2)   \n",
       "31                        Green Bay PackersN (4, 3–1)   \n",
       "32                          Atlanta FalconsN (1, 0–1)   \n",
       "33                     Tennessee TitansA (1, 0–1) [W]   \n",
       "34                          New York GiantsN (3, 2–1)   \n",
       "35                           St. Louis RamsN (3, 1–2)   \n",
       "36                          Oakland RaidersA (5, 3–2)   \n",
       "37                        Carolina PanthersN (1, 0–1)   \n",
       "38                      Philadelphia EaglesN (2, 0–2)   \n",
       "39                         Seattle SeahawksN (1, 0–1)   \n",
       "40                            Chicago BearsN (2, 1–1)   \n",
       "41                     New England PatriotsA (6, 3–3)   \n",
       "42                        Arizona CardinalsN (1, 0–1)   \n",
       "43                       Indianapolis ColtsA (4, 2–2)   \n",
       "44                      Pittsburgh SteelersA (8, 6–2)   \n",
       "45                     New England PatriotsA (7, 3–4)   \n",
       "46                      San Francisco 49ersN (6, 5–1)   \n",
       "47                           Denver BroncosA (7, 2–5)   \n",
       "48                         Seattle SeahawksN (3, 1–2)   \n",
       "49                        Carolina PanthersN (2, 0–2)   \n",
       "50                          Atlanta FalconsN (2, 0–2)   \n",
       "51                    New England PatriotsA (10, 5–5)   \n",
       "52                         Los Angeles RamsN (4, 1–3)   \n",
       "53                      San Francisco 49ersN (7, 5–2)   \n",
       "54                       Kansas City ChiefsA (4, 2–2)   \n",
       "55                       Cincinnati BengalsA (3, 0–3)   \n",
       "56                      Philadelphia EaglesN (4, 1–3)   \n",
       "57                      San Francisco 49ersN (8, 5–3)   \n",
       "\n",
       "                                       Venue  \\\n",
       "0              Los Angeles Memorial Coliseum   \n",
       "1                          Miami Orange Bowl   \n",
       "2                      Miami Orange Bowl (2)   \n",
       "3                             Tulane Stadium   \n",
       "4                      Miami Orange Bowl (3)   \n",
       "5                         Tulane Stadium (2)   \n",
       "6          Los Angeles Memorial Coliseum (2)   \n",
       "7                         Rice Stadium[sb 4]   \n",
       "8                         Tulane Stadium (3)   \n",
       "9                      Miami Orange Bowl (4)   \n",
       "10                           Rose Bowl[sb 5]   \n",
       "11                 Louisiana Superdome[sb 6]   \n",
       "12                     Miami Orange Bowl (5)   \n",
       "13                 Rose Bowl (2)[sb 5][sb 7]   \n",
       "14             Louisiana Superdome (2)[sb 6]   \n",
       "15                        Pontiac Silverdome   \n",
       "16                       Rose Bowl (3)[sb 5]   \n",
       "17                             Tampa Stadium   \n",
       "18                    Stanford Stadium[sb 9]   \n",
       "19             Louisiana Superdome (3)[sb 6]   \n",
       "20                       Rose Bowl (4)[sb 5]   \n",
       "21      San Diego–Jack Murphy Stadium[sb 11]   \n",
       "22                 Joe Robbie Stadium[sb 12]   \n",
       "23             Louisiana Superdome (4)[sb 6]   \n",
       "24                         Tampa Stadium (2)   \n",
       "25                                 Metrodome   \n",
       "26                       Rose Bowl (5)[sb 5]   \n",
       "27                              Georgia Dome   \n",
       "28             Joe Robbie Stadium (2)[sb 12]   \n",
       "29                         Sun Devil Stadium   \n",
       "30             Louisiana Superdome (5)[sb 6]   \n",
       "31               Qualcomm Stadium (2)[sb 11]   \n",
       "32             Pro Player Stadium (3)[sb 12]   \n",
       "33                          Georgia Dome (2)   \n",
       "34                     Raymond James Stadium   \n",
       "35             Louisiana Superdome (6)[sb 6]   \n",
       "36               Qualcomm Stadium (3)[sb 11]   \n",
       "37                    Reliant Stadium[sb 14]   \n",
       "38                            Alltel Stadium   \n",
       "39                                Ford Field   \n",
       "40                Dolphin Stadium (4)[sb 12]   \n",
       "41      University of Phoenix Stadium[sb 15]   \n",
       "42                 Raymond James Stadium (2)   \n",
       "43               Sun Life Stadium (5)[sb 12]   \n",
       "44                           Cowboys Stadium   \n",
       "45                         Lucas Oil Stadium   \n",
       "46         Mercedes-Benz Superdome (7)[sb 6]   \n",
       "47                           MetLife Stadium   \n",
       "48  University of Phoenix Stadium (2)[sb 15]   \n",
       "49                            Levi's Stadium   \n",
       "50                    NRG Stadium (2)[sb 14]   \n",
       "51                         U.S. Bank Stadium   \n",
       "52                     Mercedes-Benz Stadium   \n",
       "53              Hard Rock Stadium (6)[sb 12]   \n",
       "54                 Raymond James Stadium (3)   \n",
       "55                              SoFi Stadium   \n",
       "56             State Farm Stadium (3)[sb 15]   \n",
       "57                         Allegiant Stadium   \n",
       "\n",
       "                                  City  Attendance          Referee  \\\n",
       "0        Los Angeles, California[sb 2]       61946   Norm Schachter   \n",
       "1                 Miami, Florida[sb 3]       75546        Jack Vest   \n",
       "2             Miami, Florida (2)[sb 3]       75389         Tom Bell   \n",
       "3               New Orleans, Louisiana       80562   John McDonough   \n",
       "4             Miami, Florida (3)[sb 3]       79204   Norm Schachter   \n",
       "5           New Orleans, Louisiana (2)       81023       Jim Tunney   \n",
       "6    Los Angeles, California (2)[sb 2]       90182         Tom Bell   \n",
       "7                       Houston, Texas       71882       Ben Dreith   \n",
       "8           New Orleans, Louisiana (3)       80997     Bernie Ulman   \n",
       "9             Miami, Florida (4)[sb 3]       80187   Norm Schachter   \n",
       "10      Pasadena, California (3)[sb 2]      103438       Jim Tunney   \n",
       "11          New Orleans, Louisiana (4)       76400       Jim Tunney   \n",
       "12            Miami, Florida (5)[sb 3]       79484     Pat Haggerty   \n",
       "13      Pasadena, California (4)[sb 2]      103985       Fred Silva   \n",
       "14          New Orleans, Louisiana (5)       76135       Ben Dreith   \n",
       "15             Pontiac, Michigan[sb 8]       81270     Pat Haggerty   \n",
       "16      Pasadena, California (5)[sb 2]      103667  Jerry Markbreit   \n",
       "17                      Tampa, Florida       72920       Gene Barth   \n",
       "18         Stanford, California[sb 10]       84059     Pat Haggerty   \n",
       "19          New Orleans, Louisiana (6)       73818      Red Cashion   \n",
       "20      Pasadena, California (6)[sb 2]      101063  Jerry Markbreit   \n",
       "21               San Diego, California       73302      Bob McElwee   \n",
       "22            Miami, Florida (6)[sb 3]       75129     Jerry Seeman   \n",
       "23          New Orleans, Louisiana (7)       72919   Dick Jorgensen   \n",
       "24                  Tampa, Florida (2)       73813     Jerry Seeman   \n",
       "25              Minneapolis, Minnesota       63130  Jerry Markbreit   \n",
       "26      Pasadena, California (7)[sb 2]       98374      Dick Hantak   \n",
       "27                    Atlanta, Georgia       72817      Bob McElwee   \n",
       "28            Miami, Florida (7)[sb 3]       74107  Jerry Markbreit   \n",
       "29               Tempe, Arizona[sb 13]       76347      Red Cashion   \n",
       "30          New Orleans, Louisiana (8)       72301     Gerry Austin   \n",
       "31           San Diego, California (2)       68912       Ed Hochuli   \n",
       "32            Miami, Florida (8)[sb 3]       74803     Bernie Kukar   \n",
       "33                Atlanta, Georgia (2)       72625      Bob McElwee   \n",
       "34                  Tampa, Florida (3)       71921     Gerry Austin   \n",
       "35          New Orleans, Louisiana (9)       72922     Bernie Kukar   \n",
       "36           San Diego, California (3)       67603     Bill Carollo   \n",
       "37                  Houston, Texas (2)       71525       Ed Hochuli   \n",
       "38               Jacksonville, Florida       78125    Terry McAulay   \n",
       "39         Detroit, Michigan (2)[sb 8]       68206       Bill Leavy   \n",
       "40    Miami Gardens, Florida (9)[sb 3]       74512    Tony Corrente   \n",
       "41        Glendale, Arizona (2)[sb 13]       71101       Mike Carey   \n",
       "42                  Tampa, Florida (4)       70774    Terry McAulay   \n",
       "43   Miami Gardens, Florida (10)[sb 3]       74059      Scott Green   \n",
       "44                    Arlington, Texas      103219    Walt Anderson   \n",
       "45               Indianapolis, Indiana       68658       John Parry   \n",
       "46         New Orleans, Louisiana (10)       71024     Jerome Boger   \n",
       "47  East Rutherford, New Jersey[sb 16]       82529    Terry McAulay   \n",
       "48        Glendale, Arizona (3)[sb 13]       70288    Bill Vinovich   \n",
       "49  Santa Clara, California (2)[sb 10]       71088   Clete Blakeman   \n",
       "50                  Houston, Texas (3)       70807    Carl Cheffers   \n",
       "51          Minneapolis, Minnesota (2)       67612   Gene Steratore   \n",
       "52                Atlanta, Georgia (3)       70081       John Parry   \n",
       "53   Miami Gardens, Florida (11)[sb 3]       62417    Bill Vinovich   \n",
       "54                  Tampa, Florida (5)       24835    Carl Cheffers   \n",
       "55     Inglewood, California (8)[sb 2]       70048      Ron Torbert   \n",
       "56        Glendale, Arizona (4)[sb 13]       67827    Carl Cheffers   \n",
       "57                    Paradise, Nevada       61629    Bill Vinovich   \n",
       "\n",
       "                 Ref  \n",
       "0             [7][8]  \n",
       "1             [9][8]  \n",
       "2            [10][8]  \n",
       "3            [11][8]  \n",
       "4            [12][8]  \n",
       "5            [13][8]  \n",
       "6            [14][8]  \n",
       "7            [15][8]  \n",
       "8            [16][8]  \n",
       "9            [17][8]  \n",
       "10           [18][8]  \n",
       "11           [20][8]  \n",
       "12           [21][8]  \n",
       "13           [22][8]  \n",
       "14           [23][8]  \n",
       "15           [25][8]  \n",
       "16           [26][8]  \n",
       "17           [27][8]  \n",
       "18           [29][8]  \n",
       "19           [30][8]  \n",
       "20           [31][8]  \n",
       "21           [32][8]  \n",
       "22           [33][8]  \n",
       "23           [34][8]  \n",
       "24           [35][8]  \n",
       "25           [36][8]  \n",
       "26           [37][8]  \n",
       "27           [38][8]  \n",
       "28           [39][8]  \n",
       "29           [42][8]  \n",
       "30           [43][8]  \n",
       "31           [44][8]  \n",
       "32           [45][8]  \n",
       "33           [46][8]  \n",
       "34           [47][8]  \n",
       "35           [48][8]  \n",
       "36           [49][8]  \n",
       "37           [50][8]  \n",
       "38           [51][8]  \n",
       "39           [52][8]  \n",
       "40           [53][8]  \n",
       "41           [54][8]  \n",
       "42           [55][8]  \n",
       "43           [56][8]  \n",
       "44       [57][58][8]  \n",
       "45   [59][8][60][61]  \n",
       "46   [62][8][60][63]  \n",
       "47       [64][8][65]  \n",
       "48   [66][8][67][68]  \n",
       "49  [69][68][70][71]  \n",
       "50  [72][68][70][71]  \n",
       "51  [73][74][75][76]  \n",
       "52      [77][78][79]  \n",
       "53          [78][79]  \n",
       "54          [78][79]  \n",
       "55          [78][79]  \n",
       "56               NaN  \n",
       "57               NaN  "
      ]
     },
     "execution_count": 113,
     "metadata": {},
     "output_type": "execute_result"
    }
   ],
   "source": [
    "pd.read_html(url, match = 'Joe Robbie')[0]"
   ]
  },
  {
   "cell_type": "code",
   "execution_count": 114,
   "metadata": {},
   "outputs": [
    {
     "data": {
      "text/html": [
       "<div>\n",
       "<style scoped>\n",
       "    .dataframe tbody tr th:only-of-type {\n",
       "        vertical-align: middle;\n",
       "    }\n",
       "\n",
       "    .dataframe tbody tr th {\n",
       "        vertical-align: top;\n",
       "    }\n",
       "\n",
       "    .dataframe thead th {\n",
       "        text-align: right;\n",
       "    }\n",
       "</style>\n",
       "<table border=\"1\" class=\"dataframe\">\n",
       "  <thead>\n",
       "    <tr style=\"text-align: right;\">\n",
       "      <th></th>\n",
       "      <th>Description</th>\n",
       "      <th>Image</th>\n",
       "      <th>Eight species taxonomy[19]</th>\n",
       "      <th>Four species taxonomy[20][22]</th>\n",
       "      <th>Three species taxonomy[21]</th>\n",
       "    </tr>\n",
       "  </thead>\n",
       "  <tbody>\n",
       "    <tr>\n",
       "      <th>0</th>\n",
       "      <td>The Kordofan giraffe (G. c. antiquorum) has a ...</td>\n",
       "      <td>NaN</td>\n",
       "      <td>Kordofan giraffe (G. antiquorum)[28]</td>\n",
       "      <td>Northern giraffe (G. camelopardalis) Three or ...</td>\n",
       "      <td>Northern giraffe (G. camelopardalis) Three or ...</td>\n",
       "    </tr>\n",
       "    <tr>\n",
       "      <th>1</th>\n",
       "      <td>The Nubian giraffe (G. c. camelopardalis), is ...</td>\n",
       "      <td>NaN</td>\n",
       "      <td>Nubian giraffe (G. camelopardalis)[24] Also kn...</td>\n",
       "      <td>Northern giraffe (G. camelopardalis) Three or ...</td>\n",
       "      <td>Northern giraffe (G. camelopardalis) Three or ...</td>\n",
       "    </tr>\n",
       "    <tr>\n",
       "      <th>2</th>\n",
       "      <td>Rothschild's giraffe (G. c. rothschildi) may b...</td>\n",
       "      <td>NaN</td>\n",
       "      <td>Nubian giraffe (G. camelopardalis)[24] Also kn...</td>\n",
       "      <td>Northern giraffe (G. camelopardalis) Three or ...</td>\n",
       "      <td>Northern giraffe (G. camelopardalis) Three or ...</td>\n",
       "    </tr>\n",
       "    <tr>\n",
       "      <th>3</th>\n",
       "      <td>The West African giraffe (G. c. peralta) is en...</td>\n",
       "      <td>NaN</td>\n",
       "      <td>West African giraffe (G. peralta),[33] Also kn...</td>\n",
       "      <td>Northern giraffe (G. camelopardalis) Three or ...</td>\n",
       "      <td>Northern giraffe (G. camelopardalis) Three or ...</td>\n",
       "    </tr>\n",
       "    <tr>\n",
       "      <th>4</th>\n",
       "      <td>The reticulated giraffe (G. c. reticulata) is ...</td>\n",
       "      <td>NaN</td>\n",
       "      <td>Reticulated giraffe (G. reticulata),[34] Also ...</td>\n",
       "      <td>Reticulated giraffe (G. reticulata),[34] Also ...</td>\n",
       "      <td>NaN</td>\n",
       "    </tr>\n",
       "    <tr>\n",
       "      <th>5</th>\n",
       "      <td>The Angolan giraffe (G. c. angolensis)[35] occ...</td>\n",
       "      <td>NaN</td>\n",
       "      <td>Angolan giraffe (G. angolensis) Also known as ...</td>\n",
       "      <td>Southern giraffe (G. giraffa) Two subspecies: ...</td>\n",
       "      <td>Southern giraffe (G. giraffa) Two subspecies: ...</td>\n",
       "    </tr>\n",
       "    <tr>\n",
       "      <th>6</th>\n",
       "      <td>The South African giraffe (G. c. giraffa) is f...</td>\n",
       "      <td>NaN</td>\n",
       "      <td>South African giraffe (G. giraffa)[40] Also kn...</td>\n",
       "      <td>Southern giraffe (G. giraffa) Two subspecies: ...</td>\n",
       "      <td>Southern giraffe (G. giraffa) Two subspecies: ...</td>\n",
       "    </tr>\n",
       "    <tr>\n",
       "      <th>7</th>\n",
       "      <td>The Masai giraffe (G. c. tippelskirchi) can be...</td>\n",
       "      <td>NaN</td>\n",
       "      <td>Masai giraffe (G. tippelskirchi)[35] Also know...</td>\n",
       "      <td>Masai giraffe (G. tippelskirchi) Two subspecie...</td>\n",
       "      <td>Masai giraffe (G. tippelskirchi) Two subspecie...</td>\n",
       "    </tr>\n",
       "    <tr>\n",
       "      <th>8</th>\n",
       "      <td>Thornicroft's giraffe (G. c. thornicrofti) is ...</td>\n",
       "      <td>NaN</td>\n",
       "      <td>Thornicroft's giraffe (\"G. thornicrofti\") Also...</td>\n",
       "      <td>Masai giraffe (G. tippelskirchi) Two subspecie...</td>\n",
       "      <td>Masai giraffe (G. tippelskirchi) Two subspecie...</td>\n",
       "    </tr>\n",
       "  </tbody>\n",
       "</table>\n",
       "</div>"
      ],
      "text/plain": [
       "                                         Description  Image  \\\n",
       "0  The Kordofan giraffe (G. c. antiquorum) has a ...    NaN   \n",
       "1  The Nubian giraffe (G. c. camelopardalis), is ...    NaN   \n",
       "2  Rothschild's giraffe (G. c. rothschildi) may b...    NaN   \n",
       "3  The West African giraffe (G. c. peralta) is en...    NaN   \n",
       "4  The reticulated giraffe (G. c. reticulata) is ...    NaN   \n",
       "5  The Angolan giraffe (G. c. angolensis)[35] occ...    NaN   \n",
       "6  The South African giraffe (G. c. giraffa) is f...    NaN   \n",
       "7  The Masai giraffe (G. c. tippelskirchi) can be...    NaN   \n",
       "8  Thornicroft's giraffe (G. c. thornicrofti) is ...    NaN   \n",
       "\n",
       "                          Eight species taxonomy[19]  \\\n",
       "0               Kordofan giraffe (G. antiquorum)[28]   \n",
       "1  Nubian giraffe (G. camelopardalis)[24] Also kn...   \n",
       "2  Nubian giraffe (G. camelopardalis)[24] Also kn...   \n",
       "3  West African giraffe (G. peralta),[33] Also kn...   \n",
       "4  Reticulated giraffe (G. reticulata),[34] Also ...   \n",
       "5  Angolan giraffe (G. angolensis) Also known as ...   \n",
       "6  South African giraffe (G. giraffa)[40] Also kn...   \n",
       "7  Masai giraffe (G. tippelskirchi)[35] Also know...   \n",
       "8  Thornicroft's giraffe (\"G. thornicrofti\") Also...   \n",
       "\n",
       "                       Four species taxonomy[20][22]  \\\n",
       "0  Northern giraffe (G. camelopardalis) Three or ...   \n",
       "1  Northern giraffe (G. camelopardalis) Three or ...   \n",
       "2  Northern giraffe (G. camelopardalis) Three or ...   \n",
       "3  Northern giraffe (G. camelopardalis) Three or ...   \n",
       "4  Reticulated giraffe (G. reticulata),[34] Also ...   \n",
       "5  Southern giraffe (G. giraffa) Two subspecies: ...   \n",
       "6  Southern giraffe (G. giraffa) Two subspecies: ...   \n",
       "7  Masai giraffe (G. tippelskirchi) Two subspecie...   \n",
       "8  Masai giraffe (G. tippelskirchi) Two subspecie...   \n",
       "\n",
       "                          Three species taxonomy[21]  \n",
       "0  Northern giraffe (G. camelopardalis) Three or ...  \n",
       "1  Northern giraffe (G. camelopardalis) Three or ...  \n",
       "2  Northern giraffe (G. camelopardalis) Three or ...  \n",
       "3  Northern giraffe (G. camelopardalis) Three or ...  \n",
       "4                                                NaN  \n",
       "5  Southern giraffe (G. giraffa) Two subspecies: ...  \n",
       "6  Southern giraffe (G. giraffa) Two subspecies: ...  \n",
       "7  Masai giraffe (G. tippelskirchi) Two subspecie...  \n",
       "8  Masai giraffe (G. tippelskirchi) Two subspecie...  "
      ]
     },
     "execution_count": 114,
     "metadata": {},
     "output_type": "execute_result"
    }
   ],
   "source": [
    "pd.read_html('https://en.wikipedia.org/wiki/Giraffe', match = 'distribution which includes southern')[0]"
   ]
  },
  {
   "cell_type": "code",
   "execution_count": null,
   "metadata": {},
   "outputs": [],
   "source": []
  },
  {
   "cell_type": "markdown",
   "metadata": {},
   "source": [
    "## Getting multiple pieces of information from a single column"
   ]
  },
  {
   "cell_type": "markdown",
   "metadata": {},
   "source": [
    "### Unpacking\n",
    "\n",
    "Many times, a single column will contain multiple pieces of information.  Learning how to extract this information is extremely important and is a great skill to have.\n",
    "\n",
    "If it is possibe to somehow separate or split the elements in the column, this is a much easier and more effecive way of extracting information than simply extracting info based on slicing. "
   ]
  },
  {
   "cell_type": "markdown",
   "metadata": {},
   "source": [
    "For example, suppose we have a list of cities with the state.  We want to separate the city and the state into individual columns.  "
   ]
  },
  {
   "cell_type": "code",
   "execution_count": 115,
   "metadata": {},
   "outputs": [
    {
     "data": {
      "text/plain": [
       "0               Provo, Utah\n",
       "1           Omaha, Nebraska\n",
       "2             Fremont, Ohio\n",
       "3      Green River, Wyoming\n",
       "4    Durham, North Carolina\n",
       "dtype: object"
      ]
     },
     "execution_count": 115,
     "metadata": {},
     "output_type": "execute_result"
    }
   ],
   "source": [
    "cities = pd.Series(['Provo, Utah', 'Omaha, Nebraska', 'Fremont, Ohio','Green River, Wyoming', 'Durham, North Carolina' ])\n",
    "cities"
   ]
  },
  {
   "cell_type": "code",
   "execution_count": 116,
   "metadata": {},
   "outputs": [
    {
     "name": "stdout",
     "output_type": "stream",
     "text": [
      "Provo, Utah\n",
      "Omaha, Nebraska\n",
      "Fremont, Ohio\n",
      "Green River, Wyoming\n",
      "Durham, North Carolina\n"
     ]
    }
   ],
   "source": [
    "for name in cities:\n",
    "    print(name)"
   ]
  },
  {
   "cell_type": "markdown",
   "metadata": {},
   "source": [
    "This looks like a hard problem because there are different lengths for each city and state name.  Some of the city names and state names even have spaces.  We recognize that there is a common format.  The city names are all separated from the state name by a comma.  We can use the string method ``.split(\"character\")`` to separate the words in a string based on ``\"character\"``.  \n",
    "\n",
    "By default, ``.split()`` will separate on spaces."
   ]
  },
  {
   "cell_type": "code",
   "execution_count": 117,
   "metadata": {},
   "outputs": [
    {
     "data": {
      "text/plain": [
       "['Provo,', 'Utah']"
      ]
     },
     "execution_count": 117,
     "metadata": {},
     "output_type": "execute_result"
    }
   ],
   "source": [
    "s = 'Provo, Utah'\n",
    "s.split()"
   ]
  },
  {
   "cell_type": "code",
   "execution_count": 118,
   "metadata": {},
   "outputs": [
    {
     "data": {
      "text/plain": [
       "['Provo', ' Utah']"
      ]
     },
     "execution_count": 118,
     "metadata": {},
     "output_type": "execute_result"
    }
   ],
   "source": [
    "s.split(\",\")"
   ]
  },
  {
   "cell_type": "code",
   "execution_count": 119,
   "metadata": {},
   "outputs": [
    {
     "data": {
      "text/plain": [
       "0               [Provo,  Utah]\n",
       "1           [Omaha,  Nebraska]\n",
       "2             [Fremont,  Ohio]\n",
       "3      [Green River,  Wyoming]\n",
       "4    [Durham,  North Carolina]\n",
       "dtype: object"
      ]
     },
     "execution_count": 119,
     "metadata": {},
     "output_type": "execute_result"
    }
   ],
   "source": [
    "cities.apply(lambda x: x.split(\",\"))"
   ]
  },
  {
   "cell_type": "markdown",
   "metadata": {},
   "source": [
    "Or we could use  ``.str`` with ``.split``"
   ]
  },
  {
   "cell_type": "code",
   "execution_count": 120,
   "metadata": {},
   "outputs": [
    {
     "data": {
      "text/plain": [
       "0               [Provo,  Utah]\n",
       "1           [Omaha,  Nebraska]\n",
       "2             [Fremont,  Ohio]\n",
       "3      [Green River,  Wyoming]\n",
       "4    [Durham,  North Carolina]\n",
       "dtype: object"
      ]
     },
     "execution_count": 120,
     "metadata": {},
     "output_type": "execute_result"
    }
   ],
   "source": [
    "cities.str.split(\",\")"
   ]
  },
  {
   "cell_type": "markdown",
   "metadata": {},
   "source": [
    "Now we have a list of lists.  Next we need the get the information out.  We know that our Series had only one comma and when we split on the comma (using ``.split(\",\")``) everything before the comma is the first item in the list and everything after the comma is the second item in the list.  \n",
    "In our example, the first item is the city name and the second item is the state name.\n",
    "\n",
    "Here are a couple of ways to extract the data that was split.\n",
    "\n",
    "**First using a ``for`` loop:**"
   ]
  },
  {
   "cell_type": "markdown",
   "metadata": {},
   "source": [
    "Notice that the state variable has white space, so we can strip that inside our for loop:"
   ]
  },
  {
   "cell_type": "code",
   "execution_count": 121,
   "metadata": {},
   "outputs": [],
   "source": [
    "# for loop\n",
    "cities_split = cities.str.split(\",\")\n",
    "\n",
    "state = []\n",
    "city = []\n",
    "for item in cities_split:\n",
    "    city.append(item[0].strip())\n",
    "    state.append(item[1].strip())"
   ]
  },
  {
   "cell_type": "code",
   "execution_count": 122,
   "metadata": {},
   "outputs": [
    {
     "data": {
      "text/plain": [
       "0               [Provo,  Utah]\n",
       "1           [Omaha,  Nebraska]\n",
       "2             [Fremont,  Ohio]\n",
       "3      [Green River,  Wyoming]\n",
       "4    [Durham,  North Carolina]\n",
       "dtype: object"
      ]
     },
     "execution_count": 122,
     "metadata": {},
     "output_type": "execute_result"
    }
   ],
   "source": [
    "cities_split"
   ]
  },
  {
   "cell_type": "code",
   "execution_count": 123,
   "metadata": {},
   "outputs": [
    {
     "data": {
      "text/plain": [
       "['Utah', 'Nebraska', 'Ohio', 'Wyoming', 'North Carolina']"
      ]
     },
     "execution_count": 123,
     "metadata": {},
     "output_type": "execute_result"
    }
   ],
   "source": [
    "state"
   ]
  },
  {
   "cell_type": "code",
   "execution_count": 124,
   "metadata": {},
   "outputs": [
    {
     "data": {
      "text/plain": [
       "['Provo', 'Omaha', 'Fremont', 'Green River', 'Durham']"
      ]
     },
     "execution_count": 124,
     "metadata": {},
     "output_type": "execute_result"
    }
   ],
   "source": [
    "city"
   ]
  },
  {
   "cell_type": "markdown",
   "metadata": {},
   "source": [
    "**Second using ``.apply`` and ``lambda`` functions:**"
   ]
  },
  {
   "cell_type": "code",
   "execution_count": 125,
   "metadata": {},
   "outputs": [],
   "source": [
    "# apply with lambda function\n",
    "city = cities_split.apply(lambda x:x[0].strip())\n",
    "state = cities_split.apply(lambda x:x[1].strip())"
   ]
  },
  {
   "cell_type": "code",
   "execution_count": 126,
   "metadata": {},
   "outputs": [
    {
     "data": {
      "text/plain": [
       "0              Utah\n",
       "1          Nebraska\n",
       "2              Ohio\n",
       "3           Wyoming\n",
       "4    North Carolina\n",
       "dtype: object"
      ]
     },
     "execution_count": 126,
     "metadata": {},
     "output_type": "execute_result"
    }
   ],
   "source": [
    "state"
   ]
  },
  {
   "cell_type": "code",
   "execution_count": 127,
   "metadata": {},
   "outputs": [
    {
     "data": {
      "text/plain": [
       "0          Provo\n",
       "1          Omaha\n",
       "2        Fremont\n",
       "3    Green River\n",
       "4         Durham\n",
       "dtype: object"
      ]
     },
     "execution_count": 127,
     "metadata": {},
     "output_type": "execute_result"
    }
   ],
   "source": [
    "city"
   ]
  },
  {
   "cell_type": "markdown",
   "metadata": {},
   "source": [
    "**Another Example**\n",
    "\n",
    "Here, suppose I have times in the format ``hour:minute:second``.  I want to make a variable that combines these into just one time.  Since the lowest resolution is seconds, I will make a variable for \"seconds\"."
   ]
  },
  {
   "cell_type": "code",
   "execution_count": 128,
   "metadata": {},
   "outputs": [],
   "source": [
    "times = pd.Series(['01:34:07','00:35:12','00:00:16','03:59:00'])"
   ]
  },
  {
   "cell_type": "code",
   "execution_count": 129,
   "metadata": {},
   "outputs": [
    {
     "data": {
      "text/plain": [
       "0    [01, 34, 07]\n",
       "1    [00, 35, 12]\n",
       "2    [00, 00, 16]\n",
       "3    [03, 59, 00]\n",
       "dtype: object"
      ]
     },
     "execution_count": 129,
     "metadata": {},
     "output_type": "execute_result"
    }
   ],
   "source": [
    "time_list = times.str.split(\":\")\n",
    "time_list"
   ]
  },
  {
   "cell_type": "code",
   "execution_count": 130,
   "metadata": {},
   "outputs": [],
   "source": [
    "seconds = []\n",
    "for time in time_list:\n",
    "    temp = int(time[0])*60*60 + int(time[1])*60 + int(time[2])\n",
    "    seconds.append(temp)\n"
   ]
  },
  {
   "cell_type": "code",
   "execution_count": 131,
   "metadata": {},
   "outputs": [
    {
     "data": {
      "text/plain": [
       "[5647, 2112, 16, 14340]"
      ]
     },
     "execution_count": 131,
     "metadata": {},
     "output_type": "execute_result"
    }
   ],
   "source": [
    "seconds"
   ]
  }
 ],
 "metadata": {
  "colab": {
   "collapsed_sections": [
    "K4aDYI6hDOSk",
    "WQy9e7zCDOSl",
    "rDR3GkehDOSl"
   ],
   "provenance": [],
   "toc_visible": true
  },
  "kernelspec": {
   "display_name": "base",
   "language": "python",
   "name": "python3"
  },
  "language_info": {
   "codemirror_mode": {
    "name": "ipython",
    "version": 3
   },
   "file_extension": ".py",
   "mimetype": "text/x-python",
   "name": "python",
   "nbconvert_exporter": "python",
   "pygments_lexer": "ipython3",
   "version": "3.11.4"
  },
  "orig_nbformat": 4
 },
 "nbformat": 4,
 "nbformat_minor": 0
}
